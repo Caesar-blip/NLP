{
 "cells": [
  {
   "cell_type": "code",
   "execution_count": 1,
   "id": "d95e0104",
   "metadata": {},
   "outputs": [
    {
     "name": "stderr",
     "output_type": "stream",
     "text": [
      "C:\\Users\\JWant\\AppData\\Local\\Programs\\Python\\Python310\\lib\\site-packages\\tqdm\\auto.py:22: TqdmWarning: IProgress not found. Please update jupyter and ipywidgets. See https://ipywidgets.readthedocs.io/en/stable/user_install.html\n",
      "  from .autonotebook import tqdm as notebook_tqdm\n",
      "C:\\Users\\JWant\\AppData\\Local\\Programs\\Python\\Python310\\lib\\site-packages\\torch\\_masked\\__init__.py:223: UserWarning: Failed to initialize NumPy: module compiled against API version 0xf but this version of numpy is 0xe (Triggered internally at  ..\\torch\\csrc\\utils\\tensor_numpy.cpp:68.)\n",
      "  example_input = torch.tensor([[-3, -2, -1], [0, 1, 2]])\n"
     ]
    }
   ],
   "source": [
    "import spacy\n",
    "import numpy as np\n",
    "import pandas as pd\n",
    "from collections import Counter\n",
    "from wordfreq import word_frequency\n",
    "import scipy\n",
    "from scipy import stats\n",
    "import matplotlib.pyplot as plt "
   ]
  },
  {
   "cell_type": "code",
   "execution_count": 2,
   "id": "55e7bece",
   "metadata": {},
   "outputs": [],
   "source": [
    "nlp = spacy.load(\"en_core_web_sm\")"
   ]
  },
  {
   "cell_type": "code",
   "execution_count": 3,
   "id": "4b9935eb",
   "metadata": {},
   "outputs": [],
   "source": [
    "header_names = ['HIT ID', 'Sentence', 'Start word', 'End word', 'Target word', 'Native', 'Non-native', 'Difficult native',\n",
    "         'Difficult non', 'Binary', 'Prob']"
   ]
  },
  {
   "cell_type": "code",
   "execution_count": 4,
   "id": "82fbdf4e",
   "metadata": {},
   "outputs": [],
   "source": [
    "tsv_data = pd.read_csv('data/original/english/WikiNews_Train.tsv', sep='\\t', header = 0, names = header_names)"
   ]
  },
  {
   "cell_type": "markdown",
   "id": "fb25cf60",
   "metadata": {},
   "source": [
    "## Question 6"
   ]
  },
  {
   "cell_type": "markdown",
   "id": "79ef7c3b",
   "metadata": {},
   "source": [
    "#### 6a) What do the start and offset values refer to? Provide an example. "
   ]
  },
  {
   "cell_type": "code",
   "execution_count": 7,
   "id": "b232e17a",
   "metadata": {},
   "outputs": [
    {
     "data": {
      "text/plain": [
       "'approves'"
      ]
     },
     "execution_count": 7,
     "metadata": {},
     "output_type": "execute_result"
    }
   ],
   "source": [
    "#target word of row 0 is 'approves'; start=31, offset=39\n",
    "ex = tsv_data['Sentence'][0]\n",
    "ex[31:39]"
   ]
  },
  {
   "cell_type": "markdown",
   "id": "2af75b54",
   "metadata": {},
   "source": [
    "Thus the start value refers to the first character in the string of the target word. The offset value refers to the last character + 1 of the target word."
   ]
  },
  {
   "cell_type": "markdown",
   "id": "bd37ec8d",
   "metadata": {},
   "source": [
    "#### 6b) What does it mean if a target word has a probabilistic label of 0.4?"
   ]
  },
  {
   "cell_type": "markdown",
   "id": "feab79f4",
   "metadata": {},
   "source": [
    "probabilistic label = the number of annotators who marked the word as difficult / the total number of annotators.\n",
    "\n",
    "So it is the ratio of annotators who marked it difficult to the total number of annotators."
   ]
  },
  {
   "cell_type": "markdown",
   "id": "f1657e12",
   "metadata": {},
   "source": [
    "#### 6c) The dataset was annotated by native and non-native speakers. How do the binary and the probabilistic complexity label account for this distinction? "
   ]
  },
  {
   "cell_type": "markdown",
   "id": "e34e5a9c",
   "metadata": {},
   "source": [
    "They do not account for this distinction:\n",
    "    \n",
    "1. For binary: if either a native or non-native speaker marks the target word as difficult, the label is set to 1, and zero otherwise.\n",
    "2. For probabilistic: no distinction is made between marked as difficult by native and non-native speakers. Both are counted in the numerator (and the total number of annotators is counted for the denominator)."
   ]
  },
  {
   "cell_type": "markdown",
   "id": "678ed6e6",
   "metadata": {},
   "source": [
    "## Question 7 "
   ]
  },
  {
   "cell_type": "code",
   "execution_count": 8,
   "id": "a9b3920e",
   "metadata": {},
   "outputs": [],
   "source": [
    "data = tsv_data[['Target word','Binary','Prob']]"
   ]
  },
  {
   "cell_type": "code",
   "execution_count": 9,
   "id": "fd503021",
   "metadata": {},
   "outputs": [
    {
     "data": {
      "text/html": [
       "<div>\n",
       "<style scoped>\n",
       "    .dataframe tbody tr th:only-of-type {\n",
       "        vertical-align: middle;\n",
       "    }\n",
       "\n",
       "    .dataframe tbody tr th {\n",
       "        vertical-align: top;\n",
       "    }\n",
       "\n",
       "    .dataframe thead th {\n",
       "        text-align: right;\n",
       "    }\n",
       "</style>\n",
       "<table border=\"1\" class=\"dataframe\">\n",
       "  <thead>\n",
       "    <tr style=\"text-align: right;\">\n",
       "      <th></th>\n",
       "      <th>Target word</th>\n",
       "      <th>Binary</th>\n",
       "      <th>Prob</th>\n",
       "    </tr>\n",
       "  </thead>\n",
       "  <tbody>\n",
       "    <tr>\n",
       "      <th>0</th>\n",
       "      <td>approves</td>\n",
       "      <td>1</td>\n",
       "      <td>0.05</td>\n",
       "    </tr>\n",
       "    <tr>\n",
       "      <th>1</th>\n",
       "      <td>Supreme</td>\n",
       "      <td>0</td>\n",
       "      <td>0.00</td>\n",
       "    </tr>\n",
       "    <tr>\n",
       "      <th>2</th>\n",
       "      <td>Court</td>\n",
       "      <td>0</td>\n",
       "      <td>0.00</td>\n",
       "    </tr>\n",
       "    <tr>\n",
       "      <th>3</th>\n",
       "      <td>approves impeachment</td>\n",
       "      <td>1</td>\n",
       "      <td>0.05</td>\n",
       "    </tr>\n",
       "    <tr>\n",
       "      <th>4</th>\n",
       "      <td>impeachment</td>\n",
       "      <td>1</td>\n",
       "      <td>0.90</td>\n",
       "    </tr>\n",
       "  </tbody>\n",
       "</table>\n",
       "</div>"
      ],
      "text/plain": [
       "            Target word  Binary  Prob\n",
       "0              approves       1  0.05\n",
       "1               Supreme       0  0.00\n",
       "2                 Court       0  0.00\n",
       "3  approves impeachment       1  0.05\n",
       "4           impeachment       1  0.90"
      ]
     },
     "execution_count": 9,
     "metadata": {},
     "output_type": "execute_result"
    }
   ],
   "source": [
    "data.head()"
   ]
  },
  {
   "cell_type": "code",
   "execution_count": 10,
   "id": "dd02c024",
   "metadata": {},
   "outputs": [
    {
     "data": {
      "text/plain": [
       "count    7745.000000\n",
       "mean        0.415107\n",
       "std         0.492772\n",
       "min         0.000000\n",
       "25%         0.000000\n",
       "50%         0.000000\n",
       "75%         1.000000\n",
       "max         1.000000\n",
       "Name: Binary, dtype: float64"
      ]
     },
     "execution_count": 10,
     "metadata": {},
     "output_type": "execute_result"
    }
   ],
   "source": [
    "data['Binary'].describe()"
   ]
  },
  {
   "cell_type": "code",
   "execution_count": 11,
   "id": "7e7d353d",
   "metadata": {},
   "outputs": [
    {
     "data": {
      "text/plain": [
       "Target word    0\n",
       "Binary         0\n",
       "Prob           0\n",
       "dtype: int64"
      ]
     },
     "execution_count": 11,
     "metadata": {},
     "output_type": "execute_result"
    }
   ],
   "source": [
    "data.isnull().sum()"
   ]
  },
  {
   "cell_type": "code",
   "execution_count": 12,
   "id": "d9a56c76",
   "metadata": {
    "scrolled": true
   },
   "outputs": [
    {
     "data": {
      "text/plain": [
       "0    4530\n",
       "1    3215\n",
       "Name: Binary, dtype: int64"
      ]
     },
     "execution_count": 12,
     "metadata": {},
     "output_type": "execute_result"
    }
   ],
   "source": [
    "data['Binary'].value_counts()"
   ]
  },
  {
   "cell_type": "code",
   "execution_count": 13,
   "id": "b99633a9",
   "metadata": {},
   "outputs": [
    {
     "data": {
      "text/plain": [
       "count    7745.000000\n",
       "mean        0.083951\n",
       "std         0.169690\n",
       "min         0.000000\n",
       "25%         0.000000\n",
       "50%         0.000000\n",
       "75%         0.100000\n",
       "max         1.000000\n",
       "Name: Prob, dtype: float64"
      ]
     },
     "execution_count": 13,
     "metadata": {},
     "output_type": "execute_result"
    }
   ],
   "source": [
    "data['Prob'].describe()"
   ]
  },
  {
   "cell_type": "code",
   "execution_count": 14,
   "id": "dfd3aec5",
   "metadata": {},
   "outputs": [
    {
     "name": "stdout",
     "output_type": "stream",
     "text": [
      "Number of instances with more than one token: 1086\n",
      "Max number of tokens per instance: 10\n"
     ]
    }
   ],
   "source": [
    "max_tokens = 0\n",
    "more_than_one_token = 0\n",
    "for word in data['Target word']:\n",
    "    doc = nlp(word)\n",
    "    if len(doc) > 1:\n",
    "        more_than_one_token += 1\n",
    "    if len(doc) > max_tokens:\n",
    "        max_tokens = len(doc)\n",
    "\n",
    "print(f'Number of instances with more than one token: {more_than_one_token}')\n",
    "print(f'Max number of tokens per instance: {max_tokens}')"
   ]
  },
  {
   "cell_type": "markdown",
   "id": "ac91791d",
   "metadata": {},
   "source": [
    "## 8."
   ]
  },
  {
   "cell_type": "code",
   "execution_count": 5,
   "id": "471daf7c",
   "metadata": {},
   "outputs": [],
   "source": [
    "'''\n",
    "At least one native or non-native thought it was difficult\n",
    "'''\n",
    "temp_data = tsv_data.loc[(tsv_data[\"Difficult native\"] >= 1) | (tsv_data[\"Difficult non\"] >= 1)]"
   ]
  },
  {
   "cell_type": "code",
   "execution_count": 8,
   "id": "d6167978",
   "metadata": {},
   "outputs": [
    {
     "name": "stderr",
     "output_type": "stream",
     "text": [
      "C:\\Users\\JWant\\AppData\\Local\\Temp\\ipykernel_19088\\1724494000.py:12: SettingWithCopyWarning: \n",
      "A value is trying to be set on a copy of a slice from a DataFrame.\n",
      "Try using .loc[row_indexer,col_indexer] = value instead\n",
      "\n",
      "See the caveats in the documentation: https://pandas.pydata.org/pandas-docs/stable/user_guide/indexing.html#returning-a-view-versus-a-copy\n",
      "  clean['lengths'] = lengths\n"
     ]
    }
   ],
   "source": [
    "'''\n",
    "Fuck pandas\n",
    "'''\n",
    "clean = temp_data\n",
    "lengths = []\n",
    "for i in range(len(temp_data)):\n",
    "    if len(clean[\"Target word\"].iloc[i].split(' ')) == 1:\n",
    "        lengths.append(1)\n",
    "    else:\n",
    "        lengths.append(0)\n",
    "\n",
    "clean['lengths'] = lengths\n",
    "\n",
    "clean = clean.loc[(clean['lengths'] == 1)]"
   ]
  },
  {
   "cell_type": "code",
   "execution_count": 9,
   "id": "84aacfc9",
   "metadata": {},
   "outputs": [],
   "source": [
    "'''\n",
    "Calculate word length and compute correlation with probabilistic complexity\n",
    "'''\n",
    "wordcor = []\n",
    "postags = []\n",
    "\n",
    "for i in range(len(clean)):\n",
    "    \n",
    "    #pos tagging\n",
    "    for token in nlp(clean['Sentence'].iloc[i]):\n",
    "        if token.text ==clean['Target word'].iloc[i]:\n",
    "            pos=token.pos_\n",
    "            postags.append([pos, clean['Prob'].iloc[i]])\n",
    "            break\n",
    "                \n",
    "    wordcor.append([len(clean['Target word'].iloc[i]), \n",
    "                    word_frequency(clean['Target word'].iloc[i], 'en', minimum = 0.0),\n",
    "                    clean['Prob'].iloc[i]])\n"
   ]
  },
  {
   "cell_type": "code",
   "execution_count": 10,
   "id": "94a6e97e",
   "metadata": {},
   "outputs": [],
   "source": [
    "# x is word length, y is probabilistic complexity\n",
    "word_length = np.array(wordcor).T[0]\n",
    "word_freq = np.array(wordcor).T[1]\n",
    "prob_complex = np.array(wordcor).T[2]"
   ]
  },
  {
   "cell_type": "code",
   "execution_count": 9,
   "id": "f96c3177",
   "metadata": {},
   "outputs": [
    {
     "name": "stdout",
     "output_type": "stream",
     "text": [
      "Pearson Correlation length vs complexity: 0.2818309268002792, p = 1.0076965862007542e-46\n",
      "Pearson Correlation frequency vs complexity: -0.29798346346415117, p = 2.8208442174820757e-52\n"
     ]
    }
   ],
   "source": [
    "print(f\"Pearson Correlation length vs complexity: {scipy.stats.pearsonr(word_length, prob_complex)[0]}, p = {scipy.stats.pearsonr(word_length, prob_complex)[1]}\")\n",
    "print(f\"Pearson Correlation frequency vs complexity: {scipy.stats.pearsonr(word_freq, prob_complex)[0]}, p = {scipy.stats.pearsonr(word_freq, prob_complex)[1]}\")"
   ]
  },
  {
   "cell_type": "code",
   "execution_count": 10,
   "id": "2eebdc55",
   "metadata": {
    "scrolled": false
   },
   "outputs": [
    {
     "data": {
      "image/png": "[encoded data removed]",
      "text/plain": [
       "<Figure size 432x288 with 1 Axes>"
      ]
     },
     "metadata": {
      "needs_background": "light"
     },
     "output_type": "display_data"
    }
   ],
   "source": [
    "plt.scatter(word_length, prob_complex)\n",
    "plt.title(\"Plot between words length and  probabilistic complexity\")\n",
    "plt.xlabel(\"Word length\")\n",
    "plt.ylabel(\"Probabilistic Complexity\")\n",
    "plt.xticks([0, 5, 10, 15, 20])\n",
    "plt.show()"
   ]
  },
  {
   "cell_type": "code",
   "execution_count": 11,
   "id": "8e9461a2",
   "metadata": {},
   "outputs": [
    {
     "data": {
      "image/png": "[encoded data removed]",
      "text/plain": [
       "<Figure size 432x288 with 1 Axes>"
      ]
     },
     "metadata": {
      "needs_background": "light"
     },
     "output_type": "display_data"
    }
   ],
   "source": [
    "plt.scatter(word_freq, prob_complex)\n",
    "plt.title(\"Plot between words frequency and  probabilistic complexity\")\n",
    "plt.xlabel(\"Word Frequency\")\n",
    "plt.ylabel(\"Probabilistic Complexity\")\n",
    "plt.show()"
   ]
  },
  {
   "cell_type": "code",
   "execution_count": 12,
   "id": "cd49e05e",
   "metadata": {},
   "outputs": [
    {
     "data": {
      "image/png": "[encoded data removed]",
      "text/plain": [
       "<Figure size 432x288 with 1 Axes>"
      ]
     },
     "metadata": {
      "needs_background": "light"
     },
     "output_type": "display_data"
    }
   ],
   "source": [
    "plt.scatter(np.array(postags).T[0], np.array(postags).T[1].astype('float'))\n",
    "plt.title(\"Plot between POS tag and probabilistic complexity\")\n",
    "plt.show()"
   ]
  },
  {
   "cell_type": "markdown",
   "id": "438bb413",
   "metadata": {},
   "source": [
    "## 9. Reflection"
   ]
  },
  {
   "cell_type": "markdown",
   "id": "d246192d",
   "metadata": {},
   "source": [
    "https://www-jstor-org.vu-nl.idm.oclc.org/stable/pdf/26375812.pdf?refreqid=excelsior%3A5d2d12217d4e30d106b3a2d685c9257a&ab_segments=&origin=\n",
    "\n",
    "We have only looked at single token linguisttic characeristics to determine complexity. However, according to the article above, complexity often arises when the word is part of a certain construct. It might therefore be useful to determine whether a word is or isn't part of such a construct."
   ]
  },
  {
   "cell_type": "markdown",
   "id": "653fdf93",
   "metadata": {},
   "source": [
    "## 10. Baselines"
   ]
  },
  {
   "cell_type": "code",
   "execution_count": 6,
   "id": "73b6ab0f",
   "metadata": {},
   "outputs": [],
   "source": [
    "from baselines import Baseliner\n",
    "import numpy as np\n",
    "import matplotlib.pyplot as plt"
   ]
  },
  {
   "cell_type": "code",
   "execution_count": 4,
   "id": "5bcc97ea",
   "metadata": {},
   "outputs": [],
   "source": [
    "analyzer = Baseliner()\n",
    "runs = 1000"
   ]
  },
  {
   "cell_type": "markdown",
   "id": "7791d3d6",
   "metadata": {},
   "source": [
    "### Majority Baseline"
   ]
  },
  {
   "cell_type": "code",
   "execution_count": 5,
   "id": "a6669929",
   "metadata": {},
   "outputs": [],
   "source": [
    "analyzer.set_mode(\"test\")"
   ]
  },
  {
   "cell_type": "code",
   "execution_count": 6,
   "id": "310cff88",
   "metadata": {},
   "outputs": [
    {
     "data": {
      "text/plain": [
       "(array([0., 0., 0., 0., 0., 1., 0., 0., 0., 0.]),\n",
       " array([0.25398633, 0.35398633, 0.45398633, 0.55398633, 0.65398633,\n",
       "        0.75398633, 0.85398633, 0.95398633, 1.05398633, 1.15398633,\n",
       "        1.25398633]),\n",
       " <BarContainer object of 10 artists>)"
      ]
     },
     "execution_count": 6,
     "metadata": {},
     "output_type": "execute_result"
    },
    {
     "data": {
      "image/png": "[encoded data removed]",
      "text/plain": [
       "<Figure size 432x288 with 1 Axes>"
      ]
     },
     "metadata": {
      "needs_background": "light"
     },
     "output_type": "display_data"
    }
   ],
   "source": [
    "ans = np.zeros(runs)\n",
    "for i in range(runs):\n",
    "    ans = analyzer.majority_baseline()[0]\n",
    "plt.hist(ans)"
   ]
  },
  {
   "cell_type": "code",
   "execution_count": 7,
   "id": "ed203484",
   "metadata": {
    "scrolled": true
   },
   "outputs": [
    {
     "data": {
      "text/plain": [
       "0.7539863325740319"
      ]
     },
     "execution_count": 7,
     "metadata": {},
     "output_type": "execute_result"
    }
   ],
   "source": [
    "np.mean(ans)"
   ]
  },
  {
   "cell_type": "code",
   "execution_count": 8,
   "id": "573b34ed",
   "metadata": {},
   "outputs": [],
   "source": [
    "analyzer.set_mode(\"dev\")"
   ]
  },
  {
   "cell_type": "code",
   "execution_count": 9,
   "id": "66f28a83",
   "metadata": {},
   "outputs": [
    {
     "data": {
      "text/plain": [
       "(array([   0.,    0.,    0.,    0.,    0., 1000.,    0.,    0.,    0.,\n",
       "           0.]),\n",
       " array([0.30655391, 0.40655391, 0.50655391, 0.60655391, 0.70655391,\n",
       "        0.80655391, 0.90655391, 1.00655391, 1.10655391, 1.20655391,\n",
       "        1.30655391]),\n",
       " <BarContainer object of 10 artists>)"
      ]
     },
     "execution_count": 9,
     "metadata": {},
     "output_type": "execute_result"
    },
    {
     "data": {
      "image/png": "[encoded data removed]",
      "text/plain": [
       "<Figure size 432x288 with 1 Axes>"
      ]
     },
     "metadata": {
      "needs_background": "light"
     },
     "output_type": "display_data"
    }
   ],
   "source": [
    "ans = np.zeros(runs)\n",
    "for i in range(runs):\n",
    "    ans[i] = analyzer.majority_baseline()[0]\n",
    "plt.hist(ans)"
   ]
  },
  {
   "cell_type": "code",
   "execution_count": 10,
   "id": "860fc1c3",
   "metadata": {},
   "outputs": [
    {
     "data": {
      "text/plain": [
       "0.8065539112050737"
      ]
     },
     "execution_count": 10,
     "metadata": {},
     "output_type": "execute_result"
    }
   ],
   "source": [
    "np.mean(ans)"
   ]
  },
  {
   "cell_type": "markdown",
   "id": "74d52f6a",
   "metadata": {},
   "source": [
    "### Random Baseliner"
   ]
  },
  {
   "cell_type": "code",
   "execution_count": 11,
   "id": "6b497032",
   "metadata": {},
   "outputs": [],
   "source": [
    "# run monte from carlo\n",
    "ans = np.zeros(runs)\n",
    "for i in range(runs):\n",
    "    ans[i] = analyzer.random_baseline()[0]"
   ]
  },
  {
   "cell_type": "code",
   "execution_count": 12,
   "id": "396502c1",
   "metadata": {},
   "outputs": [
    {
     "data": {
      "text/plain": [
       "(array([  4.,  17.,  50., 136., 235., 249., 191.,  86.,  27.,   5.]),\n",
       " array([0.43868922, 0.44603594, 0.45338266, 0.46072939, 0.46807611,\n",
       "        0.47542283, 0.48276956, 0.49011628, 0.497463  , 0.50480973,\n",
       "        0.51215645]),\n",
       " <BarContainer object of 10 artists>)"
      ]
     },
     "execution_count": 12,
     "metadata": {},
     "output_type": "execute_result"
    },
    {
     "data": {
      "image/png": "[encoded data removed]",
      "text/plain": [
       "<Figure size 432x288 with 1 Axes>"
      ]
     },
     "metadata": {
      "needs_background": "light"
     },
     "output_type": "display_data"
    }
   ],
   "source": [
    "plt.hist(ans)"
   ]
  },
  {
   "cell_type": "code",
   "execution_count": 13,
   "id": "c9813598",
   "metadata": {},
   "outputs": [
    {
     "data": {
      "text/plain": [
       "0.47697832980972515"
      ]
     },
     "execution_count": 13,
     "metadata": {},
     "output_type": "execute_result"
    }
   ],
   "source": [
    "np.mean(ans)"
   ]
  },
  {
   "cell_type": "code",
   "execution_count": 14,
   "id": "b670d49a",
   "metadata": {},
   "outputs": [],
   "source": [
    "analyzer.set_mode(\"dev\")"
   ]
  },
  {
   "cell_type": "code",
   "execution_count": 16,
   "id": "f12bddfd",
   "metadata": {},
   "outputs": [
    {
     "data": {
      "text/plain": [
       "(array([  3.,  17.,  78., 151., 238., 263., 145.,  73.,  26.,   6.]),\n",
       " array([0.4397463 , 0.44725159, 0.45475687, 0.46226216, 0.46976744,\n",
       "        0.47727273, 0.48477801, 0.4922833 , 0.49978858, 0.50729387,\n",
       "        0.51479915]),\n",
       " <BarContainer object of 10 artists>)"
      ]
     },
     "execution_count": 16,
     "metadata": {},
     "output_type": "execute_result"
    },
    {
     "data": {
      "image/png": "[encoded data removed]",
      "text/plain": [
       "<Figure size 432x288 with 1 Axes>"
      ]
     },
     "metadata": {
      "needs_background": "light"
     },
     "output_type": "display_data"
    }
   ],
   "source": [
    "ans = np.zeros(runs)\n",
    "for i in range(runs):\n",
    "    ans[i] = analyzer.random_baseline()[0]\n",
    "plt.hist(ans)"
   ]
  },
  {
   "cell_type": "code",
   "execution_count": 17,
   "id": "2d867593",
   "metadata": {},
   "outputs": [
    {
     "data": {
      "text/plain": [
       "0.47747832980972515"
      ]
     },
     "execution_count": 17,
     "metadata": {},
     "output_type": "execute_result"
    }
   ],
   "source": [
    "np.mean(ans)"
   ]
  },
  {
   "cell_type": "markdown",
   "id": "394f05a7",
   "metadata": {},
   "source": [
    "### Length Baseline"
   ]
  },
  {
   "cell_type": "code",
   "execution_count": 18,
   "id": "658a58a6",
   "metadata": {},
   "outputs": [],
   "source": [
    "analyzer.set_mode(\"test\")"
   ]
  },
  {
   "cell_type": "code",
   "execution_count": 19,
   "id": "f0d67540",
   "metadata": {},
   "outputs": [],
   "source": [
    "# check for different thresholds\n",
    "thresholds = [2,3,4,5,6,7,8,9,10,11,12]"
   ]
  },
  {
   "cell_type": "code",
   "execution_count": 20,
   "id": "4d4786cb",
   "metadata": {},
   "outputs": [],
   "source": [
    "ans = np.zeros(len(thresholds))\n",
    "for i, threshold in enumerate(thresholds):\n",
    "    analyzer.threshold = threshold\n",
    "    ans[i] = analyzer.length_baseline()[0]"
   ]
  },
  {
   "cell_type": "code",
   "execution_count": 21,
   "id": "2814b062",
   "metadata": {
    "scrolled": true
   },
   "outputs": [
    {
     "data": {
      "text/plain": [
       "[<matplotlib.lines.Line2D at 0x205d971d420>]"
      ]
     },
     "execution_count": 21,
     "metadata": {},
     "output_type": "execute_result"
    },
    {
     "data": {
      "image/png": "[encoded data removed]",
      "text/plain": [
       "<Figure size 432x288 with 1 Axes>"
      ]
     },
     "metadata": {
      "needs_background": "light"
     },
     "output_type": "display_data"
    }
   ],
   "source": [
    "plt.plot(thresholds, ans)"
   ]
  },
  {
   "cell_type": "code",
   "execution_count": 22,
   "id": "f9e7e6e3",
   "metadata": {},
   "outputs": [
    {
     "data": {
      "text/plain": [
       "0.8223234624145785"
      ]
     },
     "execution_count": 22,
     "metadata": {},
     "output_type": "execute_result"
    }
   ],
   "source": [
    "max(ans)"
   ]
  },
  {
   "cell_type": "code",
   "execution_count": 23,
   "id": "97b366b2",
   "metadata": {},
   "outputs": [],
   "source": [
    "analyzer.set_mode(\"dev\")"
   ]
  },
  {
   "cell_type": "code",
   "execution_count": 24,
   "id": "d9c3bd07",
   "metadata": {},
   "outputs": [],
   "source": [
    "ans = np.zeros(len(thresholds))\n",
    "for i, threshold in enumerate(thresholds):\n",
    "    analyzer.threshold = threshold\n",
    "    ans[i] = analyzer.length_baseline()[0]"
   ]
  },
  {
   "cell_type": "code",
   "execution_count": 25,
   "id": "7d0bf057",
   "metadata": {
    "scrolled": true
   },
   "outputs": [
    {
     "data": {
      "text/plain": [
       "[<matplotlib.lines.Line2D at 0x205da7dde70>]"
      ]
     },
     "execution_count": 25,
     "metadata": {},
     "output_type": "execute_result"
    },
    {
     "data": {
      "image/png": "[encoded data removed]",
      "text/plain": [
       "<Figure size 432x288 with 1 Axes>"
      ]
     },
     "metadata": {
      "needs_background": "light"
     },
     "output_type": "display_data"
    }
   ],
   "source": [
    "plt.plot(thresholds, ans)"
   ]
  },
  {
   "cell_type": "code",
   "execution_count": 14,
   "id": "a776f340",
   "metadata": {},
   "outputs": [
    {
     "data": {
      "text/plain": [
       "0.8398520084566596"
      ]
     },
     "execution_count": 14,
     "metadata": {},
     "output_type": "execute_result"
    }
   ],
   "source": [
    "max(ans)"
   ]
  },
  {
   "cell_type": "markdown",
   "id": "885f5ade",
   "metadata": {},
   "source": [
    "### Frequency"
   ]
  },
  {
   "cell_type": "code",
   "execution_count": 26,
   "id": "23877ceb",
   "metadata": {},
   "outputs": [],
   "source": [
    "analyzer.set_mode(\"test\")\n",
    "\n",
    "# check for different thresholds\n",
    "thresholds = [10e-8, 10e-7, 10e-6, 10e-5,10e-4, 10e-3, 10e-2, 10e-1, 10e-0]"
   ]
  },
  {
   "cell_type": "code",
   "execution_count": 27,
   "id": "f02e9588",
   "metadata": {},
   "outputs": [],
   "source": [
    "ans = np.zeros(len(thresholds))\n",
    "for i, threshold in enumerate(thresholds):\n",
    "    analyzer.threshold = threshold\n",
    "    ans[i] = analyzer.frequency_baseline()[0]"
   ]
  },
  {
   "cell_type": "code",
   "execution_count": 28,
   "id": "7307c767",
   "metadata": {},
   "outputs": [
    {
     "data": {
      "text/plain": [
       "[<matplotlib.lines.Line2D at 0x205df077f10>]"
      ]
     },
     "execution_count": 28,
     "metadata": {},
     "output_type": "execute_result"
    },
    {
     "data": {
      "image/png": "[encoded data removed]",
      "text/plain": [
       "<Figure size 432x288 with 1 Axes>"
      ]
     },
     "metadata": {
      "needs_background": "light"
     },
     "output_type": "display_data"
    }
   ],
   "source": [
    "plt.xscale(\"log\")\n",
    "plt.plot(thresholds, ans)"
   ]
  },
  {
   "cell_type": "code",
   "execution_count": 29,
   "id": "d08ecf7e",
   "metadata": {},
   "outputs": [
    {
     "data": {
      "text/plain": [
       "0.7289293849658315"
      ]
     },
     "execution_count": 29,
     "metadata": {},
     "output_type": "execute_result"
    }
   ],
   "source": [
    "max(ans)"
   ]
  },
  {
   "cell_type": "code",
   "execution_count": 30,
   "id": "be00e09f",
   "metadata": {},
   "outputs": [],
   "source": [
    "analyzer.set_mode(\"dev\")\n",
    "\n",
    "# check for different thresholds\n",
    "thresholds = [10e-8, 10e-7, 10e-6, 10e-5,10e-4, 10e-3, 10e-2, 10e-1, 10e-0]"
   ]
  },
  {
   "cell_type": "code",
   "execution_count": 31,
   "id": "c57dea9c",
   "metadata": {},
   "outputs": [],
   "source": [
    "ans = np.zeros(len(thresholds))\n",
    "for i, threshold in enumerate(thresholds):\n",
    "    analyzer.threshold = threshold\n",
    "    ans[i] = analyzer.frequency_baseline()[0]"
   ]
  },
  {
   "cell_type": "code",
   "execution_count": 32,
   "id": "88d48714",
   "metadata": {},
   "outputs": [
    {
     "data": {
      "text/plain": [
       "[<matplotlib.lines.Line2D at 0x205da9ec310>]"
      ]
     },
     "execution_count": 32,
     "metadata": {},
     "output_type": "execute_result"
    },
    {
     "data": {
      "image/png": "[encoded data removed]",
      "text/plain": [
       "<Figure size 432x288 with 1 Axes>"
      ]
     },
     "metadata": {
      "needs_background": "light"
     },
     "output_type": "display_data"
    }
   ],
   "source": [
    "plt.xscale(\"log\")\n",
    "plt.plot(thresholds, ans)"
   ]
  },
  {
   "cell_type": "code",
   "execution_count": 33,
   "id": "0729c900",
   "metadata": {},
   "outputs": [
    {
     "data": {
      "text/plain": [
       "0.7278012684989429"
      ]
     },
     "execution_count": 33,
     "metadata": {},
     "output_type": "execute_result"
    }
   ],
   "source": [
    "max(ans)"
   ]
  },
  {
   "cell_type": "markdown",
   "id": "d8f052a2",
   "metadata": {},
   "source": [
    "## F1 scores"
   ]
  },
  {
   "cell_type": "code",
   "execution_count": 7,
   "id": "e30d9fa4",
   "metadata": {},
   "outputs": [],
   "source": [
    "analyzer = Baseliner()\n",
    "analyzer.set_mode(\"test\")"
   ]
  },
  {
   "cell_type": "markdown",
   "id": "2ff36473",
   "metadata": {},
   "source": [
    "### With sk learn"
   ]
  },
  {
   "cell_type": "code",
   "execution_count": 94,
   "id": "8f3dfb40",
   "metadata": {},
   "outputs": [],
   "source": [
    "from sklearn.metrics import f1_score\n",
    "from sklearn.metrics import recall_score\n",
    "from sklearn.metrics import precision_score"
   ]
  },
  {
   "cell_type": "code",
   "execution_count": 30,
   "id": "28ec9160",
   "metadata": {},
   "outputs": [],
   "source": [
    "def binarize_labels(labels):\n",
    "    output = []\n",
    "    for sent in labels:\n",
    "        for label in sent:\n",
    "            if label == \"C\":\n",
    "                output.append(1)\n",
    "            elif label == \"N\":\n",
    "                output.append(0)\n",
    "    return output"
   ]
  },
  {
   "cell_type": "code",
   "execution_count": 95,
   "id": "e6bb3e6c",
   "metadata": {},
   "outputs": [],
   "source": [
    "def sk_f1(gold, predict, pos_label=1, average=\"binary\"):\n",
    "    gold = binarize_labels(analyzer.testlabels)\n",
    "    predict = binarize_labels(results[1])\n",
    "\n",
    "    return f1_score(gold, predict, pos_label=pos_label,average=average)\n",
    "\n",
    "def sk_precision(gold, predict, pos_label=1, average=\"binary\"):\n",
    "    gold = binarize_labels(analyzer.testlabels)\n",
    "    predict = binarize_labels(results[1])\n",
    "\n",
    "    return precision_score(gold, predict, pos_label=pos_label,average=average)\n",
    "\n",
    "def sk_recall(gold, predict, pos_label=1, average=\"binary\"):\n",
    "    gold = binarize_labels(analyzer.testlabels)\n",
    "    predict = binarize_labels(results[1])\n",
    "\n",
    "    return recall_score(gold, predict, pos_label=pos_label,average=average)"
   ]
  },
  {
   "cell_type": "code",
   "execution_count": 113,
   "id": "baa623ce",
   "metadata": {},
   "outputs": [],
   "source": [
    "def get_precision(predicts, labels, target):\n",
    "    right = 0\n",
    "    wrong = 0\n",
    "    i=0\n",
    "    for predict in predicts:\n",
    "        if predict == target:\n",
    "            if predict == labels[i]:\n",
    "                right +=1\n",
    "            else:\n",
    "                wrong +=1\n",
    "        i+=1\n",
    "    if (right+wrong) == 0:\n",
    "        return 0\n",
    "    return right/(wrong+right)\n",
    "\n",
    "def get_recall(predicts, labels, target):\n",
    "    right=0\n",
    "    wrong=0\n",
    "    i=0\n",
    "    for predict in labels:\n",
    "        if predict == target:\n",
    "            if predict == predicts[i]:\n",
    "                right+=1\n",
    "            else:\n",
    "                wrong+=1\n",
    "        i+=1\n",
    "    if (right+wrong) == 0:\n",
    "        return 0\n",
    "    return right/(wrong+right)\n",
    "\n",
    "def get_f1(predicts, labels, target):\n",
    "    recall = get_recall(predicts, labels, target)\n",
    "    precision = get_precision(predicts, labels, target)\n",
    "    if (precision+recall) == 0:\n",
    "        return 0\n",
    "    return 2*(precision*recall)/(precision+recall)"
   ]
  },
  {
   "cell_type": "code",
   "execution_count": 122,
   "id": "48fee1dc",
   "metadata": {},
   "outputs": [
    {
     "name": "stdout",
     "output_type": "stream",
     "text": [
      "0.20095693779904306\n",
      "0.20095693779904306\n",
      "0.47191011235955055\n",
      "0.47191011235955055\n",
      "0.28187919463087246\n",
      "0.28187919463087246\n",
      "0.7956521739130434\n",
      "0.7956521739130434\n",
      "0.5228571428571429\n",
      "0.5228571428571429\n",
      "0.6310344827586208\n",
      "0.6310344827586208\n",
      "0.5602490143226991\n"
     ]
    },
    {
     "name": "stderr",
     "output_type": "stream",
     "text": [
      "C:\\Users\\JWant\\AppData\\Local\\Programs\\Python\\Python310\\lib\\site-packages\\sklearn\\metrics\\_classification.py:1370: UserWarning: Note that pos_label (set to 0) is ignored when average != 'binary' (got 'weighted'). You may use labels=[pos_label] to specify a single positive class.\n",
      "  warnings.warn(\n"
     ]
    }
   ],
   "source": [
    "# Random\n",
    "results = analyzer.random_baseline()\n",
    "target = 1\n",
    "\n",
    "print(sk_precision(results[1], analyzer.testlabels,pos_label=target, average=\"binary\"))\n",
    "print(get_precision(binarize_labels(results[1]), binarize_labels(analyzer.testlabels), target))\n",
    "\n",
    "print(sk_recall(results[1], analyzer.testlabels,pos_label=target, average=\"binary\"))\n",
    "print(get_recall(binarize_labels(results[1]), binarize_labels(analyzer.testlabels), target))\n",
    "\n",
    "print(sk_f1(results[1], analyzer.testlabels,pos_label=target, average=\"binary\"))\n",
    "print(get_f1(binarize_labels(results[1]), binarize_labels(analyzer.testlabels), target))\n",
    "\n",
    "target = 0\n",
    "print(sk_precision(results[1], analyzer.testlabels,pos_label=target, average=\"binary\"))\n",
    "print(get_precision(binarize_labels(results[1]), binarize_labels(analyzer.testlabels), target))\n",
    "\n",
    "print(sk_recall(results[1], analyzer.testlabels,pos_label=target, average=\"binary\"))\n",
    "print(get_recall(binarize_labels(results[1]), binarize_labels(analyzer.testlabels), target))\n",
    "\n",
    "print(sk_f1(results[1], analyzer.testlabels,pos_label=target, average=\"binary\"))\n",
    "print(get_f1(binarize_labels(results[1]), binarize_labels(analyzer.testlabels), target))\n",
    "\n",
    "\n",
    "print(sk_f1(results[1], analyzer.testlabels,pos_label=target, average=\"weighted\"))"
   ]
  },
  {
   "cell_type": "code",
   "execution_count": 123,
   "id": "3f87bb36",
   "metadata": {},
   "outputs": [
    {
     "name": "stdout",
     "output_type": "stream",
     "text": [
      "0.0\n",
      "0\n",
      "0.0\n",
      "0.0\n",
      "0.0\n",
      "0\n",
      "0.7972665148063781\n",
      "0.7972665148063781\n",
      "1.0\n",
      "1.0\n",
      "0.8871989860583017\n",
      "0.8871989860583017\n",
      "0.7073340435544546\n"
     ]
    },
    {
     "name": "stderr",
     "output_type": "stream",
     "text": [
      "C:\\Users\\JWant\\AppData\\Local\\Programs\\Python\\Python310\\lib\\site-packages\\sklearn\\metrics\\_classification.py:1318: UndefinedMetricWarning: Precision is ill-defined and being set to 0.0 due to no predicted samples. Use `zero_division` parameter to control this behavior.\n",
      "  _warn_prf(average, modifier, msg_start, len(result))\n",
      "C:\\Users\\JWant\\AppData\\Local\\Programs\\Python\\Python310\\lib\\site-packages\\sklearn\\metrics\\_classification.py:1370: UserWarning: Note that pos_label (set to 0) is ignored when average != 'binary' (got 'weighted'). You may use labels=[pos_label] to specify a single positive class.\n",
      "  warnings.warn(\n"
     ]
    }
   ],
   "source": [
    "# Random\n",
    "results = analyzer.majority_baseline()\n",
    "target = 1\n",
    "\n",
    "print(sk_precision(results[1], analyzer.testlabels,pos_label=target, average=\"binary\"))\n",
    "print(get_precision(binarize_labels(results[1]), binarize_labels(analyzer.testlabels), target))\n",
    "\n",
    "print(sk_recall(results[1], analyzer.testlabels,pos_label=target, average=\"binary\"))\n",
    "print(get_recall(binarize_labels(results[1]), binarize_labels(analyzer.testlabels), target))\n",
    "\n",
    "print(sk_f1(results[1], analyzer.testlabels,pos_label=target, average=\"binary\"))\n",
    "print(get_f1(binarize_labels(results[1]), binarize_labels(analyzer.testlabels), target))\n",
    "\n",
    "target = 0\n",
    "print(sk_precision(results[1], analyzer.testlabels,pos_label=target, average=\"binary\"))\n",
    "print(get_precision(binarize_labels(results[1]), binarize_labels(analyzer.testlabels), target))\n",
    "\n",
    "print(sk_recall(results[1], analyzer.testlabels,pos_label=target, average=\"binary\"))\n",
    "print(get_recall(binarize_labels(results[1]), binarize_labels(analyzer.testlabels), target))\n",
    "\n",
    "print(sk_f1(results[1], analyzer.testlabels,pos_label=target, average=\"binary\"))\n",
    "print(get_f1(binarize_labels(results[1]), binarize_labels(analyzer.testlabels), target))\n",
    "\n",
    "print(sk_f1(results[1], analyzer.testlabels,pos_label=target, average=\"weighted\"))"
   ]
  },
  {
   "cell_type": "code",
   "execution_count": 124,
   "id": "d9b0b3f3",
   "metadata": {},
   "outputs": [
    {
     "name": "stdout",
     "output_type": "stream",
     "text": [
      "0.7678571428571429\n",
      "0.7678571428571429\n",
      "0.48314606741573035\n",
      "0.48314606741573035\n",
      "0.5931034482758621\n",
      "0.5931034482758621\n",
      "0.8798955613577023\n",
      "0.8798955613577023\n",
      "0.9628571428571429\n",
      "0.9628571428571429\n",
      "0.9195088676671215\n",
      "0.9195088676671215\n",
      "0.8533355594078458\n"
     ]
    },
    {
     "name": "stderr",
     "output_type": "stream",
     "text": [
      "C:\\Users\\JWant\\AppData\\Local\\Programs\\Python\\Python310\\lib\\site-packages\\sklearn\\metrics\\_classification.py:1370: UserWarning: Note that pos_label (set to 0) is ignored when average != 'binary' (got 'weighted'). You may use labels=[pos_label] to specify a single positive class.\n",
      "  warnings.warn(\n"
     ]
    }
   ],
   "source": [
    "# Length\n",
    "analyzer.threshold=7\n",
    "results = analyzer.length_baseline()\n",
    "target = 1\n",
    "\n",
    "print(sk_precision(results[1], analyzer.testlabels,pos_label=target, average=\"binary\"))\n",
    "print(get_precision(binarize_labels(results[1]), binarize_labels(analyzer.testlabels), target))\n",
    "\n",
    "print(sk_recall(results[1], analyzer.testlabels,pos_label=target, average=\"binary\"))\n",
    "print(get_recall(binarize_labels(results[1]), binarize_labels(analyzer.testlabels), target))\n",
    "\n",
    "print(sk_f1(results[1], analyzer.testlabels,pos_label=target, average=\"binary\"))\n",
    "print(get_f1(binarize_labels(results[1]), binarize_labels(analyzer.testlabels), target))\n",
    "\n",
    "target = 0\n",
    "print(sk_precision(results[1], analyzer.testlabels,pos_label=target, average=\"binary\"))\n",
    "print(get_precision(binarize_labels(results[1]), binarize_labels(analyzer.testlabels), target))\n",
    "\n",
    "print(sk_recall(results[1], analyzer.testlabels,pos_label=target, average=\"binary\"))\n",
    "print(get_recall(binarize_labels(results[1]), binarize_labels(analyzer.testlabels), target))\n",
    "\n",
    "print(sk_f1(results[1], analyzer.testlabels,pos_label=target, average=\"binary\"))\n",
    "print(get_f1(binarize_labels(results[1]), binarize_labels(analyzer.testlabels), target))\n",
    "\n",
    "print(sk_f1(results[1], analyzer.testlabels,pos_label=target, average=\"weighted\"))"
   ]
  },
  {
   "cell_type": "code",
   "execution_count": 125,
   "id": "842633a7",
   "metadata": {},
   "outputs": [
    {
     "name": "stdout",
     "output_type": "stream",
     "text": [
      "0.2986577181208054\n",
      "0.2986577181208054\n",
      "1.0\n",
      "1.0\n",
      "0.4599483204134367\n",
      "0.4599483204134367\n",
      "1.0\n",
      "1.0\n",
      "0.40285714285714286\n",
      "0.40285714285714286\n",
      "0.5743380855397149\n",
      "0.5743380855397149\n",
      "0.5511474497851847\n"
     ]
    },
    {
     "name": "stderr",
     "output_type": "stream",
     "text": [
      "C:\\Users\\JWant\\AppData\\Local\\Programs\\Python\\Python310\\lib\\site-packages\\sklearn\\metrics\\_classification.py:1370: UserWarning: Note that pos_label (set to 0) is ignored when average != 'binary' (got 'weighted'). You may use labels=[pos_label] to specify a single positive class.\n",
      "  warnings.warn(\n"
     ]
    }
   ],
   "source": [
    "# frequence\n",
    "analyzer.threshold=10e-4\n",
    "results = analyzer.frequency_baseline()\n",
    "target = 1\n",
    "\n",
    "print(sk_precision(results[1], analyzer.testlabels,pos_label=target, average=\"binary\"))\n",
    "print(get_precision(binarize_labels(results[1]), binarize_labels(analyzer.testlabels), target))\n",
    "\n",
    "print(sk_recall(results[1], analyzer.testlabels,pos_label=target, average=\"binary\"))\n",
    "print(get_recall(binarize_labels(results[1]), binarize_labels(analyzer.testlabels), target))\n",
    "\n",
    "print(sk_f1(results[1], analyzer.testlabels,pos_label=target, average=\"binary\"))\n",
    "print(get_f1(binarize_labels(results[1]), binarize_labels(analyzer.testlabels), target))\n",
    "\n",
    "target = 0\n",
    "print(sk_precision(results[1], analyzer.testlabels,pos_label=target, average=\"binary\"))\n",
    "print(get_precision(binarize_labels(results[1]), binarize_labels(analyzer.testlabels), target))\n",
    "\n",
    "print(sk_recall(results[1], analyzer.testlabels,pos_label=target, average=\"binary\"))\n",
    "print(get_recall(binarize_labels(results[1]), binarize_labels(analyzer.testlabels), target))\n",
    "\n",
    "print(sk_f1(results[1], analyzer.testlabels,pos_label=target, average=\"binary\"))\n",
    "print(get_f1(binarize_labels(results[1]), binarize_labels(analyzer.testlabels), target))\n",
    "\n",
    "print(sk_f1(results[1], analyzer.testlabels,pos_label=target, average=\"weighted\"))"
   ]
  }
 ],
 "metadata": {
  "kernelspec": {
   "display_name": "Python 3 (ipykernel)",
   "language": "python",
   "name": "python3"
  },
  "language_info": {
   "codemirror_mode": {
    "name": "ipython",
    "version": 3
   },
   "file_extension": ".py",
   "mimetype": "text/x-python",
   "name": "python",
   "nbconvert_exporter": "python",
   "pygments_lexer": "ipython3",
   "version": "3.8.13"
  }
 },
 "nbformat": 4,
 "nbformat_minor": 5
}
