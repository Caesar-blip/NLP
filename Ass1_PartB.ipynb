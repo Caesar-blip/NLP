{
 "cells": [
  {
   "cell_type": "code",
   "execution_count": 131,
   "id": "d95e0104",
   "metadata": {},
   "outputs": [],
   "source": [
    "import spacy\n",
    "import numpy as np\n",
    "import pandas as pd\n",
    "from collections import Counter\n",
    "import wordfreq\n",
    "import scipy\n",
    "import matplotlib.pyplot as plt "
   ]
  },
  {
   "cell_type": "code",
   "execution_count": 12,
   "id": "22abae40",
   "metadata": {},
   "outputs": [],
   "source": [
    "header_names = ['HIT ID', 'Sentence', 'Start word', 'End word', 'Target word', 'Native', 'Non-native', 'Difficult native',\n",
    "         'Difficult non', 'Binary', 'Prob']"
   ]
  },
  {
   "cell_type": "code",
   "execution_count": 15,
   "id": "7ca76ede",
   "metadata": {},
   "outputs": [],
   "source": [
    "tsv_data = pd.read_csv('data/original/english/WikiNews_Train.tsv', sep='\\t', header = 0, names = header_names)"
   ]
  },
  {
   "cell_type": "code",
   "execution_count": 104,
   "id": "2865e9c4",
   "metadata": {},
   "outputs": [],
   "source": [
    "'''\n",
    "At least one native or non-native thought it was difficult\n",
    "'''\n",
    "temp_data = tsv_data.loc[(tsv_data[\"Difficult native\"] >= 1) | (tsv_data[\"Difficult non\"] >= 1)]"
   ]
  },
  {
   "cell_type": "code",
   "execution_count": 109,
   "id": "9acd6273",
   "metadata": {},
   "outputs": [
    {
     "name": "stderr",
     "output_type": "stream",
     "text": [
      "C:\\Users\\sebas\\AppData\\Local\\Temp\\ipykernel_8696\\1724494000.py:12: SettingWithCopyWarning: \n",
      "A value is trying to be set on a copy of a slice from a DataFrame.\n",
      "Try using .loc[row_indexer,col_indexer] = value instead\n",
      "\n",
      "See the caveats in the documentation: https://pandas.pydata.org/pandas-docs/stable/user_guide/indexing.html#returning-a-view-versus-a-copy\n",
      "  clean['lengths'] = lengths\n"
     ]
    }
   ],
   "source": [
    "'''\n",
    "Fuck pandas\n",
    "'''\n",
    "clean = temp_data\n",
    "lengths = []\n",
    "for i in range(len(temp_data)):\n",
    "    if len(clean[\"Target word\"].iloc[i].split(' ')) == 1:\n",
    "        lengths.append(1)\n",
    "    else:\n",
    "        lengths.append(0)\n",
    "\n",
    "clean['lengths'] = lengths\n",
    "\n",
    "clean = clean.loc[(clean['lengths'] == 1)]"
   ]
  },
  {
   "cell_type": "code",
   "execution_count": 117,
   "id": "d851abcf",
   "metadata": {},
   "outputs": [],
   "source": [
    "'''\n",
    "Calculate word length and compute correlation with probabilistic complexity\n",
    "'''\n",
    "wordcor = []\n",
    "\n",
    "for i in range(len(clean)):\n",
    "    wordcor.append([len(clean['Target word'].iloc[i]), clean['Prob'].iloc[i]])"
   ]
  },
  {
   "cell_type": "code",
   "execution_count": 132,
   "id": "f28a1f5d",
   "metadata": {},
   "outputs": [
    {
     "data": {
      "text/plain": [
       "(0.2818309268002792, 1.0076965862007542e-46)"
      ]
     },
     "execution_count": 132,
     "metadata": {},
     "output_type": "execute_result"
    }
   ],
   "source": [
    "# x is word length, y is probabilistic complexity\n",
    "x = np.array(wordcor).T[0]\n",
    "y = np.array(wordcor).T[1]\n",
    "scipy.stats.pearsonr(np.array(wordcor).T[0], np.array(wordcor).T[1])"
   ]
  },
  {
   "cell_type": "code",
   "execution_count": 137,
   "id": "1e41d7e8",
   "metadata": {},
   "outputs": [
    {
     "data": {
      "image/png": "[encoded data removed]",
      "text/plain": [
       "<Figure size 432x288 with 1 Axes>"
      ]
     },
     "metadata": {
      "needs_background": "light"
     },
     "output_type": "display_data"
    }
   ],
   "source": [
    "plt.scatter(x, y)\n",
    "plt.xlabel(\"Word length\")\n",
    "plt.ylabel(\"Probabilistic Complexity\")\n",
    "plt.show()"
   ]
  },
  {
   "cell_type": "code",
   "execution_count": null,
   "id": "627ee209",
   "metadata": {},
   "outputs": [],
   "source": []
  }
 ],
 "metadata": {
  "kernelspec": {
   "display_name": "Python 3 (ipykernel)",
   "language": "python",
   "name": "python3"
  },
  "language_info": {
   "codemirror_mode": {
    "name": "ipython",
    "version": 3
   },
   "file_extension": ".py",
   "mimetype": "text/x-python",
   "name": "python",
   "nbconvert_exporter": "python",
   "pygments_lexer": "ipython3",
   "version": "3.8.13"
  }
 },
 "nbformat": 4,
 "nbformat_minor": 5
}
