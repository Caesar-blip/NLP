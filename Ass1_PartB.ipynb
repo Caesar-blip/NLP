{
 "cells": [
  {
   "cell_type": "code",
   "execution_count": 2,
   "id": "d95e0104",
   "metadata": {},
   "outputs": [],
   "source": [
    "import spacy\n",
    "import numpy as np\n",
    "import pandas as pd\n",
    "from collections import Counter"
   ]
  },
  {
   "cell_type": "code",
   "execution_count": 12,
   "id": "6bb58983",
   "metadata": {},
   "outputs": [],
   "source": [
    "header_names = ['HIT ID', 'Sentence', 'Start word', 'End word', 'Target word', 'Native', 'Non-native', 'Difficult native',\n",
    "         'Difficult non', 'Binary', 'Prob']"
   ]
  },
  {
   "cell_type": "code",
   "execution_count": 15,
   "id": "82dc201f",
   "metadata": {},
   "outputs": [],
   "source": [
    "tsv_data = pd.read_csv('data/original/english/WikiNews_Train.tsv', sep='\\t', header = 0, names = header_names)"
   ]
  }
 ],
 "metadata": {
  "kernelspec": {
   "display_name": "Python 3 (ipykernel)",
   "language": "python",
   "name": "python3"
  },
  "language_info": {
   "codemirror_mode": {
    "name": "ipython",
    "version": 3
   },
   "file_extension": ".py",
   "mimetype": "text/x-python",
   "name": "python",
   "nbconvert_exporter": "python",
   "pygments_lexer": "ipython3",
   "version": "3.8.13"
  }
 },
 "nbformat": 4,
 "nbformat_minor": 5
}
