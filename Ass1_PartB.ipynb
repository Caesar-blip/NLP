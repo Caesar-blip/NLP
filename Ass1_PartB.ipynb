{
 "cells": [
  {
   "cell_type": "code",
   "execution_count": 1,
   "id": "d95e0104",
   "metadata": {},
   "outputs": [
    {
     "name": "stderr",
     "output_type": "stream",
     "text": [
      "C:\\Users\\sebas\\anaconda3\\envs\\nlp\\lib\\site-packages\\tqdm\\auto.py:22: TqdmWarning: IProgress not found. Please update jupyter and ipywidgets. See https://ipywidgets.readthedocs.io/en/stable/user_install.html\n",
      "  from .autonotebook import tqdm as notebook_tqdm\n"
     ]
    }
   ],
   "source": [
    "import spacy\n",
    "import numpy as np\n",
    "import pandas as pd\n",
    "from collections import Counter\n",
    "from wordfreq import word_frequency\n",
    "import scipy\n",
    "from scipy import stats\n",
    "import matplotlib.pyplot as plt "
   ]
  },
  {
   "cell_type": "code",
   "execution_count": 2,
   "id": "55e7bece",
   "metadata": {},
   "outputs": [],
   "source": [
    "nlp = spacy.load(\"en_core_web_sm\")"
   ]
  },
  {
   "cell_type": "code",
   "execution_count": 3,
   "id": "4b9935eb",
   "metadata": {},
   "outputs": [],
   "source": [
    "header_names = ['HIT ID', 'Sentence', 'Start word', 'End word', 'Target word', 'Native', 'Non-native', 'Difficult native',\n",
    "         'Difficult non', 'Binary', 'Prob']"
   ]
  },
  {
   "cell_type": "code",
   "execution_count": 4,
   "id": "82fbdf4e",
   "metadata": {},
   "outputs": [],
   "source": [
    "tsv_data = pd.read_csv('data/original/english/WikiNews_Train.tsv', sep='\\t', header = 0, names = header_names)"
   ]
  },
  {
   "cell_type": "markdown",
   "id": "fb25cf60",
   "metadata": {},
   "source": [
    "## Question 6"
   ]
  },
  {
   "cell_type": "markdown",
   "id": "79ef7c3b",
   "metadata": {},
   "source": [
    "#### 6a) What do the start and offset values refer to? Provide an example. "
   ]
  },
  {
   "cell_type": "code",
   "execution_count": 24,
   "id": "b232e17a",
   "metadata": {},
   "outputs": [
    {
     "data": {
      "text/plain": [
       "'approves'"
      ]
     },
     "execution_count": 24,
     "metadata": {},
     "output_type": "execute_result"
    }
   ],
   "source": [
    "#target word of row 0 is 'approves'; start=31, offset=39\n",
    "ex = tsv_data['Sentence'][0]\n",
    "ex[31:39]"
   ]
  },
  {
   "cell_type": "markdown",
   "id": "2af75b54",
   "metadata": {},
   "source": [
    "Thus the start value refers to the first character in the string of the target word. The offset value refers to the last character + 1 of the target word."
   ]
  },
  {
   "cell_type": "markdown",
   "id": "bd37ec8d",
   "metadata": {},
   "source": [
    "#### 6b) What does it mean if a target word has a probabilistic label of 0.4?"
   ]
  },
  {
   "cell_type": "markdown",
   "id": "feab79f4",
   "metadata": {},
   "source": [
    "probabilistic label = the number of annotators who marked the word as difficult / the total number of annotators.\n",
    "\n",
    "So it is the ratio of annotators who marked it difficult to the total number of annotators."
   ]
  },
  {
   "cell_type": "markdown",
   "id": "f1657e12",
   "metadata": {},
   "source": [
    "#### 6c) The dataset was annotated by native and non-native speakers. How do the binary and the probabilistic complexity label account for this distinction? "
   ]
  },
  {
   "cell_type": "markdown",
   "id": "e34e5a9c",
   "metadata": {},
   "source": [
    "They do not account for this distinction:\n",
    "    \n",
    "1. For binary: if either a native or non-native speaker marks the target word as difficult, the label is set to 1, and zero otherwise.\n",
    "2. For probabilistic: no distinction is made between marked as difficult by native and non-native speakers. Both are counted in the numerator (and the total number of annotators is counted for the denominator)."
   ]
  },
  {
   "cell_type": "markdown",
   "id": "678ed6e6",
   "metadata": {},
   "source": [
    "## Question 7 "
   ]
  },
  {
   "cell_type": "code",
   "execution_count": 27,
   "id": "a9b3920e",
   "metadata": {},
   "outputs": [],
   "source": [
    "data = tsv_data[['Target word','Binary','Prob']]"
   ]
  },
  {
   "cell_type": "code",
   "execution_count": 28,
   "id": "fd503021",
   "metadata": {},
   "outputs": [
    {
     "data": {
      "text/html": [
       "<div>\n",
       "<style scoped>\n",
       "    .dataframe tbody tr th:only-of-type {\n",
       "        vertical-align: middle;\n",
       "    }\n",
       "\n",
       "    .dataframe tbody tr th {\n",
       "        vertical-align: top;\n",
       "    }\n",
       "\n",
       "    .dataframe thead th {\n",
       "        text-align: right;\n",
       "    }\n",
       "</style>\n",
       "<table border=\"1\" class=\"dataframe\">\n",
       "  <thead>\n",
       "    <tr style=\"text-align: right;\">\n",
       "      <th></th>\n",
       "      <th>Target word</th>\n",
       "      <th>Binary</th>\n",
       "      <th>Prob</th>\n",
       "    </tr>\n",
       "  </thead>\n",
       "  <tbody>\n",
       "    <tr>\n",
       "      <th>0</th>\n",
       "      <td>approves</td>\n",
       "      <td>1</td>\n",
       "      <td>0.05</td>\n",
       "    </tr>\n",
       "    <tr>\n",
       "      <th>1</th>\n",
       "      <td>Supreme</td>\n",
       "      <td>0</td>\n",
       "      <td>0.00</td>\n",
       "    </tr>\n",
       "    <tr>\n",
       "      <th>2</th>\n",
       "      <td>Court</td>\n",
       "      <td>0</td>\n",
       "      <td>0.00</td>\n",
       "    </tr>\n",
       "    <tr>\n",
       "      <th>3</th>\n",
       "      <td>approves impeachment</td>\n",
       "      <td>1</td>\n",
       "      <td>0.05</td>\n",
       "    </tr>\n",
       "    <tr>\n",
       "      <th>4</th>\n",
       "      <td>impeachment</td>\n",
       "      <td>1</td>\n",
       "      <td>0.90</td>\n",
       "    </tr>\n",
       "  </tbody>\n",
       "</table>\n",
       "</div>"
      ],
      "text/plain": [
       "            Target word  Binary  Prob\n",
       "0              approves       1  0.05\n",
       "1               Supreme       0  0.00\n",
       "2                 Court       0  0.00\n",
       "3  approves impeachment       1  0.05\n",
       "4           impeachment       1  0.90"
      ]
     },
     "execution_count": 28,
     "metadata": {},
     "output_type": "execute_result"
    }
   ],
   "source": [
    "data.head()"
   ]
  },
  {
   "cell_type": "code",
   "execution_count": 29,
   "id": "dd02c024",
   "metadata": {},
   "outputs": [
    {
     "data": {
      "text/plain": [
       "count    7745.000000\n",
       "mean        0.415107\n",
       "std         0.492772\n",
       "min         0.000000\n",
       "25%         0.000000\n",
       "50%         0.000000\n",
       "75%         1.000000\n",
       "max         1.000000\n",
       "Name: Binary, dtype: float64"
      ]
     },
     "execution_count": 29,
     "metadata": {},
     "output_type": "execute_result"
    }
   ],
   "source": [
    "data['Binary'].describe()"
   ]
  },
  {
   "cell_type": "code",
   "execution_count": 30,
   "id": "7e7d353d",
   "metadata": {},
   "outputs": [
    {
     "data": {
      "text/plain": [
       "Target word    0\n",
       "Binary         0\n",
       "Prob           0\n",
       "dtype: int64"
      ]
     },
     "execution_count": 30,
     "metadata": {},
     "output_type": "execute_result"
    }
   ],
   "source": [
    "data.isnull().sum()"
   ]
  },
  {
   "cell_type": "code",
   "execution_count": 31,
   "id": "d9a56c76",
   "metadata": {
    "scrolled": true
   },
   "outputs": [
    {
     "data": {
      "text/plain": [
       "0    4530\n",
       "1    3215\n",
       "Name: Binary, dtype: int64"
      ]
     },
     "execution_count": 31,
     "metadata": {},
     "output_type": "execute_result"
    }
   ],
   "source": [
    "data['Binary'].value_counts()"
   ]
  },
  {
   "cell_type": "code",
   "execution_count": 32,
   "id": "b99633a9",
   "metadata": {},
   "outputs": [
    {
     "data": {
      "text/plain": [
       "count    7745.000000\n",
       "mean        0.083951\n",
       "std         0.169690\n",
       "min         0.000000\n",
       "25%         0.000000\n",
       "50%         0.000000\n",
       "75%         0.100000\n",
       "max         1.000000\n",
       "Name: Prob, dtype: float64"
      ]
     },
     "execution_count": 32,
     "metadata": {},
     "output_type": "execute_result"
    }
   ],
   "source": [
    "data['Prob'].describe()"
   ]
  },
  {
   "cell_type": "code",
   "execution_count": 33,
   "id": "dfd3aec5",
   "metadata": {},
   "outputs": [
    {
     "name": "stdout",
     "output_type": "stream",
     "text": [
      "Number of instances with more than one token: 1086\n",
      "Max number of tokens per instance: 10\n"
     ]
    }
   ],
   "source": [
    "max_tokens = 0\n",
    "more_than_one_token = 0\n",
    "for word in data['Target word']:\n",
    "    doc = nlp(word)\n",
    "    if len(doc) > 1:\n",
    "        more_than_one_token += 1\n",
    "    if len(doc) > max_tokens:\n",
    "        max_tokens = len(doc)\n",
    "\n",
    "print(f'Number of instances with more than one token: {more_than_one_token}')\n",
    "print(f'Max number of tokens per instance: {max_tokens}')"
   ]
  },
  {
   "cell_type": "markdown",
   "id": "ac91791d",
   "metadata": {},
   "source": [
    "## 8."
   ]
  },
  {
   "cell_type": "code",
   "execution_count": 25,
   "id": "471daf7c",
   "metadata": {},
   "outputs": [],
   "source": [
    "'''\n",
    "Subset data where at least one native or non-native thought it was difficult\n",
    "'''\n",
    "temp_data = tsv_data.loc[(tsv_data[\"Difficult native\"] >= 1) | (tsv_data[\"Difficult non\"] >= 1)]"
   ]
  },
  {
   "cell_type": "code",
   "execution_count": 26,
   "id": "d6167978",
   "metadata": {},
   "outputs": [
    {
     "name": "stderr",
     "output_type": "stream",
     "text": [
      "C:\\Users\\sebas\\AppData\\Local\\Temp\\ipykernel_6972\\1724494000.py:12: SettingWithCopyWarning: \n",
      "A value is trying to be set on a copy of a slice from a DataFrame.\n",
      "Try using .loc[row_indexer,col_indexer] = value instead\n",
      "\n",
      "See the caveats in the documentation: https://pandas.pydata.org/pandas-docs/stable/user_guide/indexing.html#returning-a-view-versus-a-copy\n",
      "  clean['lengths'] = lengths\n"
     ]
    }
   ],
   "source": [
    "'''\n",
    "Fuck pandas\n",
    "'''\n",
    "clean = temp_data\n",
    "lengths = []\n",
    "for i in range(len(temp_data)):\n",
    "    if len(clean[\"Target word\"].iloc[i].split(' ')) == 1:\n",
    "        lengths.append(1)\n",
    "    else:\n",
    "        lengths.append(0)\n",
    "\n",
    "clean['lengths'] = lengths\n",
    "\n",
    "clean = clean.loc[(clean['lengths'] == 1)]"
   ]
  },
  {
   "cell_type": "code",
   "execution_count": 27,
   "id": "84aacfc9",
   "metadata": {},
   "outputs": [],
   "source": [
    "'''\n",
    "Calculate word length and compute correlation with probabilistic complexity\n",
    "'''\n",
    "wordcor = []\n",
    "postags = []\n",
    "\n",
    "for i in range(len(clean)):\n",
    "    \n",
    "    #pos tagging\n",
    "    for token in nlp(clean['Sentence'].iloc[i]):\n",
    "        if token.text ==clean['Target word'].iloc[i]:\n",
    "            pos=token.pos_\n",
    "            postags.append([pos, clean['Prob'].iloc[i]])\n",
    "            break\n",
    "                \n",
    "    wordcor.append([len(clean['Target word'].iloc[i]), \n",
    "                    word_frequency(clean['Target word'].iloc[i], 'en', minimum = 0.0),\n",
    "                    clean['Prob'].iloc[i]])\n"
   ]
  },
  {
   "cell_type": "code",
   "execution_count": 28,
   "id": "94a6e97e",
   "metadata": {},
   "outputs": [],
   "source": [
    "# x is word length, y is probabilistic complexity\n",
    "word_length = np.array(wordcor).T[0]\n",
    "word_freq = np.array(wordcor).T[1]\n",
    "prob_complex = np.array(wordcor).T[2]"
   ]
  },
  {
   "cell_type": "code",
   "execution_count": 29,
   "id": "f96c3177",
   "metadata": {},
   "outputs": [
    {
     "name": "stdout",
     "output_type": "stream",
     "text": [
      "Pearson Correlation length vs complexity: 0.28183092680027927, p = 1.0076965862007542e-46\n",
      "Pearson Correlation frequency vs complexity: -0.29798346346415117, p = 2.8208442174820757e-52\n"
     ]
    }
   ],
   "source": [
    "print(f\"Pearson Correlation length vs complexity: {scipy.stats.pearsonr(word_length, prob_complex)[0]}, p = {scipy.stats.pearsonr(word_length, prob_complex)[1]}\")\n",
    "print(f\"Pearson Correlation frequency vs complexity: {scipy.stats.pearsonr(word_freq, prob_complex)[0]}, p = {scipy.stats.pearsonr(word_freq, prob_complex)[1]}\")"
   ]
  },
  {
   "cell_type": "code",
   "execution_count": 30,
   "id": "2eebdc55",
   "metadata": {
    "scrolled": false
   },
   "outputs": [
    {
     "data": {
      "image/png": "[encoded data removed]",
      "text/plain": [
       "<Figure size 432x288 with 1 Axes>"
      ]
     },
     "metadata": {
      "needs_background": "light"
     },
     "output_type": "display_data"
    }
   ],
   "source": [
    "plt.scatter(word_length, prob_complex)\n",
    "plt.title(\"Plot between words length and  probabilistic complexity\")\n",
    "plt.xlabel(\"Word length\")\n",
    "plt.ylabel(\"Probabilistic Complexity\")\n",
    "plt.xticks([0, 5, 10, 15, 20])\n",
    "plt.show()"
   ]
  },
  {
   "cell_type": "code",
   "execution_count": 31,
   "id": "8e9461a2",
   "metadata": {},
   "outputs": [
    {
     "data": {
      "image/png": "[encoded data removed]",
      "text/plain": [
       "<Figure size 432x288 with 1 Axes>"
      ]
     },
     "metadata": {
      "needs_background": "light"
     },
     "output_type": "display_data"
    }
   ],
   "source": [
    "plt.scatter(word_freq, prob_complex)\n",
    "plt.title(\"Plot between words frequency and  probabilistic complexity\")\n",
    "plt.xlabel(\"Word Frequency\")\n",
    "plt.ylabel(\"Probabilistic Complexity\")\n",
    "plt.show()"
   ]
  },
  {
   "cell_type": "code",
   "execution_count": 33,
   "id": "cd49e05e",
   "metadata": {},
   "outputs": [
    {
     "data": {
      "image/png": "[encoded data removed]",
      "text/plain": [
       "<Figure size 432x288 with 1 Axes>"
      ]
     },
     "metadata": {
      "needs_background": "light"
     },
     "output_type": "display_data"
    }
   ],
   "source": [
    "plt.scatter(np.array(postags).T[0], np.array(postags).T[1].astype('float'))\n",
    "plt.title(\"Plot between POS tag and probabilistic complexity\")\n",
    "plt.xlabel(\"POS Tag\")\n",
    "plt.ylabel(\"Probabilistic Complexity\")\n",
    "plt.show()"
   ]
  },
  {
   "cell_type": "markdown",
   "id": "438bb413",
   "metadata": {},
   "source": [
    "## 9. Reflection"
   ]
  },
  {
   "cell_type": "markdown",
   "id": "d246192d",
   "metadata": {},
   "source": [
    "https://www-jstor-org.vu-nl.idm.oclc.org/stable/pdf/26375812.pdf?refreqid=excelsior%3A5d2d12217d4e30d106b3a2d685c9257a&ab_segments=&origin=\n",
    "\n",
    "We have only looked at single token linguisttic characeristics to determine complexity. However, according to the article above, complexity often arises when the word is part of a certain construct. It might therefore be useful to determine whether a word is or isn't part of such a construct."
   ]
  },
  {
   "cell_type": "markdown",
   "id": "653fdf93",
   "metadata": {},
   "source": [
    "## 10. Baselines"
   ]
  },
  {
   "cell_type": "code",
   "execution_count": 2,
   "id": "73b6ab0f",
   "metadata": {},
   "outputs": [
    {
     "name": "stderr",
     "output_type": "stream",
     "text": [
      "C:\\Users\\JWant\\AppData\\Local\\Programs\\Python\\Python310\\lib\\site-packages\\tqdm\\auto.py:22: TqdmWarning: IProgress not found. Please update jupyter and ipywidgets. See https://ipywidgets.readthedocs.io/en/stable/user_install.html\n",
      "  from .autonotebook import tqdm as notebook_tqdm\n",
      "C:\\Users\\JWant\\AppData\\Local\\Programs\\Python\\Python310\\lib\\site-packages\\torch\\_masked\\__init__.py:223: UserWarning: Failed to initialize NumPy: module compiled against API version 0xf but this version of numpy is 0xe (Triggered internally at  ..\\torch\\csrc\\utils\\tensor_numpy.cpp:68.)\n",
      "  example_input = torch.tensor([[-3, -2, -1], [0, 1, 2]])\n"
     ]
    }
   ],
   "source": [
    "from baselines import Baseliner\n",
    "import numpy as np\n",
    "import matplotlib.pyplot as plt"
   ]
  },
  {
   "cell_type": "code",
   "execution_count": 38,
   "id": "5bcc97ea",
   "metadata": {},
   "outputs": [],
   "source": [
    "analyzer = Baseliner()\n",
    "runs = 1000"
   ]
  },
  {
   "cell_type": "markdown",
   "id": "7791d3d6",
   "metadata": {},
   "source": [
    "### Majority Baseline"
   ]
  },
  {
   "cell_type": "code",
   "execution_count": 39,
   "id": "a6669929",
   "metadata": {},
   "outputs": [],
   "source": [
    "analyzer.set_mode(\"test\")"
   ]
  },
  {
   "cell_type": "code",
   "execution_count": 40,
   "id": "310cff88",
   "metadata": {},
   "outputs": [
    {
     "data": {
      "text/plain": [
       "(array([0., 0., 0., 0., 0., 1., 0., 0., 0., 0.]),\n",
       " array([0.25398633, 0.35398633, 0.45398633, 0.55398633, 0.65398633,\n",
       "        0.75398633, 0.85398633, 0.95398633, 1.05398633, 1.15398633,\n",
       "        1.25398633]),\n",
       " <BarContainer object of 10 artists>)"
      ]
     },
     "execution_count": 40,
     "metadata": {},
     "output_type": "execute_result"
    },
    {
     "data": {
      "image/png": "[encoded data removed]",
      "text/plain": [
       "<Figure size 432x288 with 1 Axes>"
      ]
     },
     "metadata": {
      "needs_background": "light"
     },
     "output_type": "display_data"
    }
   ],
   "source": [
    "ans = np.zeros(runs)\n",
    "for i in range(runs):\n",
    "    ans = analyzer.majority_baseline()[0]\n",
    "plt.hist(ans)"
   ]
  },
  {
   "cell_type": "code",
   "execution_count": 41,
   "id": "ed203484",
   "metadata": {
    "scrolled": true
   },
   "outputs": [
    {
     "data": {
      "text/plain": [
       "0.7539863325740319"
      ]
     },
     "execution_count": 41,
     "metadata": {},
     "output_type": "execute_result"
    }
   ],
   "source": [
    "np.mean(ans)"
   ]
  },
  {
   "cell_type": "code",
   "execution_count": 42,
   "id": "573b34ed",
   "metadata": {},
   "outputs": [],
   "source": [
    "analyzer.set_mode(\"dev\")"
   ]
  },
  {
   "cell_type": "code",
   "execution_count": 43,
   "id": "66f28a83",
   "metadata": {},
   "outputs": [
    {
     "data": {
      "text/plain": [
       "(array([   0.,    0.,    0.,    0.,    0., 1000.,    0.,    0.,    0.,\n",
       "           0.]),\n",
       " array([0.30655391, 0.40655391, 0.50655391, 0.60655391, 0.70655391,\n",
       "        0.80655391, 0.90655391, 1.00655391, 1.10655391, 1.20655391,\n",
       "        1.30655391]),\n",
       " <BarContainer object of 10 artists>)"
      ]
     },
     "execution_count": 43,
     "metadata": {},
     "output_type": "execute_result"
    },
    {
     "data": {
      "image/png": "[encoded data removed]",
      "text/plain": [
       "<Figure size 432x288 with 1 Axes>"
      ]
     },
     "metadata": {
      "needs_background": "light"
     },
     "output_type": "display_data"
    }
   ],
   "source": [
    "ans = np.zeros(runs)\n",
    "for i in range(runs):\n",
    "    ans[i] = analyzer.majority_baseline()[0]\n",
    "plt.hist(ans)"
   ]
  },
  {
   "cell_type": "code",
   "execution_count": 44,
   "id": "860fc1c3",
   "metadata": {},
   "outputs": [
    {
     "data": {
      "text/plain": [
       "0.8065539112050737"
      ]
     },
     "execution_count": 44,
     "metadata": {},
     "output_type": "execute_result"
    }
   ],
   "source": [
    "np.mean(ans)"
   ]
  },
  {
   "cell_type": "markdown",
   "id": "74d52f6a",
   "metadata": {},
   "source": [
    "### Random Baseliner"
   ]
  },
  {
   "cell_type": "code",
   "execution_count": 45,
   "id": "6b497032",
   "metadata": {},
   "outputs": [],
   "source": [
    "# run monte from carlo\n",
    "ans = np.zeros(runs)\n",
    "for i in range(runs):\n",
    "    ans[i] = analyzer.random_baseline()[0]"
   ]
  },
  {
   "cell_type": "code",
   "execution_count": 12,
   "id": "396502c1",
   "metadata": {},
   "outputs": [
    {
     "data": {
      "text/plain": [
       "(array([  4.,  17.,  50., 136., 235., 249., 191.,  86.,  27.,   5.]),\n",
       " array([0.43868922, 0.44603594, 0.45338266, 0.46072939, 0.46807611,\n",
       "        0.47542283, 0.48276956, 0.49011628, 0.497463  , 0.50480973,\n",
       "        0.51215645]),\n",
       " <BarContainer object of 10 artists>)"
      ]
     },
     "execution_count": 12,
     "metadata": {},
     "output_type": "execute_result"
    },
    {
     "data": {
      "image/png": "[encoded data removed]",
      "text/plain": [
       "<Figure size 432x288 with 1 Axes>"
      ]
     },
     "metadata": {
      "needs_background": "light"
     },
     "output_type": "display_data"
    }
   ],
   "source": [
    "plt.hist(ans)"
   ]
  },
  {
   "cell_type": "code",
   "execution_count": 46,
   "id": "c9813598",
   "metadata": {},
   "outputs": [
    {
     "data": {
      "text/plain": [
       "0.4773683932346723"
      ]
     },
     "execution_count": 46,
     "metadata": {},
     "output_type": "execute_result"
    }
   ],
   "source": [
    "np.mean(ans)"
   ]
  },
  {
   "cell_type": "code",
   "execution_count": 47,
   "id": "b670d49a",
   "metadata": {},
   "outputs": [],
   "source": [
    "analyzer.set_mode(\"dev\")"
   ]
  },
  {
   "cell_type": "code",
   "execution_count": 48,
   "id": "f12bddfd",
   "metadata": {},
   "outputs": [
    {
     "data": {
      "text/plain": [
       "(array([ 10.,  35.,  97., 213., 235., 219., 115.,  52.,  22.,   2.]),\n",
       " array([0.44556025, 0.45237844, 0.45919662, 0.4660148 , 0.47283298,\n",
       "        0.47965116, 0.48646934, 0.49328753, 0.50010571, 0.50692389,\n",
       "        0.51374207]),\n",
       " <BarContainer object of 10 artists>)"
      ]
     },
     "execution_count": 48,
     "metadata": {},
     "output_type": "execute_result"
    },
    {
     "data": {
      "image/png": "[encoded data removed]",
      "text/plain": [
       "<Figure size 432x288 with 1 Axes>"
      ]
     },
     "metadata": {
      "needs_background": "light"
     },
     "output_type": "display_data"
    }
   ],
   "source": [
    "ans = np.zeros(runs)\n",
    "for i in range(runs):\n",
    "    ans[i] = analyzer.random_baseline()[0]\n",
    "plt.hist(ans)"
   ]
  },
  {
   "cell_type": "code",
   "execution_count": 49,
   "id": "2d867593",
   "metadata": {},
   "outputs": [
    {
     "data": {
      "text/plain": [
       "0.47727272727272724"
      ]
     },
     "execution_count": 49,
     "metadata": {},
     "output_type": "execute_result"
    }
   ],
   "source": [
    "np.mean(ans)"
   ]
  },
  {
   "cell_type": "markdown",
   "id": "394f05a7",
   "metadata": {},
   "source": [
    "### Length Baseline"
   ]
  },
  {
   "cell_type": "code",
   "execution_count": 50,
   "id": "658a58a6",
   "metadata": {},
   "outputs": [],
   "source": [
    "analyzer.set_mode(\"test\")"
   ]
  },
  {
   "cell_type": "code",
   "execution_count": 51,
   "id": "f0d67540",
   "metadata": {},
   "outputs": [],
   "source": [
    "# check for different thresholds\n",
    "thresholds = [2,3,4,5,6,7,8,9,10,11,12]"
   ]
  },
  {
   "cell_type": "code",
   "execution_count": 52,
   "id": "4d4786cb",
   "metadata": {},
   "outputs": [],
   "source": [
    "ans = np.zeros(len(thresholds))\n",
    "for i, threshold in enumerate(thresholds):\n",
    "    analyzer.threshold = threshold\n",
    "    ans[i] = analyzer.length_baseline()[0]"
   ]
  },
  {
   "cell_type": "code",
   "execution_count": 21,
   "id": "2814b062",
   "metadata": {
    "scrolled": true
   },
   "outputs": [
    {
     "data": {
      "text/plain": [
       "[<matplotlib.lines.Line2D at 0x205d971d420>]"
      ]
     },
     "execution_count": 21,
     "metadata": {},
     "output_type": "execute_result"
    },
    {
     "data": {
      "image/png": "[encoded data removed]",
      "text/plain": [
       "<Figure size 432x288 with 1 Axes>"
      ]
     },
     "metadata": {
      "needs_background": "light"
     },
     "output_type": "display_data"
    }
   ],
   "source": [
    "plt.plot(thresholds, ans)"
   ]
  },
  {
   "cell_type": "code",
   "execution_count": 22,
   "id": "f9e7e6e3",
   "metadata": {},
   "outputs": [
    {
     "data": {
      "text/plain": [
       "0.8223234624145785"
      ]
     },
     "execution_count": 22,
     "metadata": {},
     "output_type": "execute_result"
    }
   ],
   "source": [
    "max(ans)"
   ]
  },
  {
   "cell_type": "code",
   "execution_count": 53,
   "id": "97b366b2",
   "metadata": {},
   "outputs": [],
   "source": [
    "analyzer.set_mode(\"dev\")"
   ]
  },
  {
   "cell_type": "code",
   "execution_count": 24,
   "id": "d9c3bd07",
   "metadata": {},
   "outputs": [],
   "source": [
    "ans = np.zeros(len(thresholds))\n",
    "for i, threshold in enumerate(thresholds):\n",
    "    analyzer.threshold = threshold\n",
    "    ans[i] = analyzer.length_baseline()[0]"
   ]
  },
  {
   "cell_type": "code",
   "execution_count": 25,
   "id": "7d0bf057",
   "metadata": {
    "scrolled": true
   },
   "outputs": [
    {
     "data": {
      "text/plain": [
       "[<matplotlib.lines.Line2D at 0x205da7dde70>]"
      ]
     },
     "execution_count": 25,
     "metadata": {},
     "output_type": "execute_result"
    },
    {
     "data": {
      "image/png": "[encoded data removed]",
      "text/plain": [
       "<Figure size 432x288 with 1 Axes>"
      ]
     },
     "metadata": {
      "needs_background": "light"
     },
     "output_type": "display_data"
    }
   ],
   "source": [
    "plt.plot(thresholds, ans)"
   ]
  },
  {
   "cell_type": "code",
   "execution_count": 14,
   "id": "a776f340",
   "metadata": {},
   "outputs": [
    {
     "data": {
      "text/plain": [
       "0.8398520084566596"
      ]
     },
     "execution_count": 14,
     "metadata": {},
     "output_type": "execute_result"
    }
   ],
   "source": [
    "max(ans)"
   ]
  },
  {
   "cell_type": "markdown",
   "id": "885f5ade",
   "metadata": {},
   "source": [
    "### Frequency"
   ]
  },
  {
   "cell_type": "code",
   "execution_count": 54,
   "id": "23877ceb",
   "metadata": {},
   "outputs": [],
   "source": [
    "analyzer.set_mode(\"test\")\n",
    "\n",
    "# check for different thresholds\n",
    "thresholds = [10e-8, 10e-7, 10e-6, 10e-5,10e-4, 10e-3, 10e-2, 10e-1, 10e-0]"
   ]
  },
  {
   "cell_type": "code",
   "execution_count": 55,
   "id": "f02e9588",
   "metadata": {},
   "outputs": [],
   "source": [
    "ans = np.zeros(len(thresholds))\n",
    "for i, threshold in enumerate(thresholds):\n",
    "    analyzer.threshold = threshold\n",
    "    ans[i] = analyzer.frequency_baseline()[0]"
   ]
  },
  {
   "cell_type": "code",
   "execution_count": 28,
   "id": "7307c767",
   "metadata": {},
   "outputs": [
    {
     "data": {
      "text/plain": [
       "[<matplotlib.lines.Line2D at 0x205df077f10>]"
      ]
     },
     "execution_count": 28,
     "metadata": {},
     "output_type": "execute_result"
    },
    {
     "data": {
      "image/png": "[encoded data removed]",
      "text/plain": [
       "<Figure size 432x288 with 1 Axes>"
      ]
     },
     "metadata": {
      "needs_background": "light"
     },
     "output_type": "display_data"
    }
   ],
   "source": [
    "plt.xscale(\"log\")\n",
    "plt.plot(thresholds, ans)"
   ]
  },
  {
   "cell_type": "code",
   "execution_count": 56,
   "id": "d08ecf7e",
   "metadata": {},
   "outputs": [
    {
     "data": {
      "text/plain": [
       "0.7289293849658315"
      ]
     },
     "execution_count": 56,
     "metadata": {},
     "output_type": "execute_result"
    }
   ],
   "source": [
    "max(ans)"
   ]
  },
  {
   "cell_type": "code",
   "execution_count": 57,
   "id": "be00e09f",
   "metadata": {},
   "outputs": [],
   "source": [
    "analyzer.set_mode(\"dev\")\n",
    "\n",
    "# check for different thresholds\n",
    "thresholds = [10e-8, 10e-7, 10e-6, 10e-5,10e-4, 10e-3, 10e-2, 10e-1, 10e-0]"
   ]
  },
  {
   "cell_type": "code",
   "execution_count": 58,
   "id": "c57dea9c",
   "metadata": {},
   "outputs": [],
   "source": [
    "ans = np.zeros(len(thresholds))\n",
    "for i, threshold in enumerate(thresholds):\n",
    "    analyzer.threshold = threshold\n",
    "    ans[i] = analyzer.frequency_baseline()[0]"
   ]
  },
  {
   "cell_type": "code",
   "execution_count": 32,
   "id": "88d48714",
   "metadata": {},
   "outputs": [
    {
     "data": {
      "text/plain": [
       "[<matplotlib.lines.Line2D at 0x205da9ec310>]"
      ]
     },
     "execution_count": 32,
     "metadata": {},
     "output_type": "execute_result"
    },
    {
     "data": {
      "image/png": "[encoded data removed]",
      "text/plain": [
       "<Figure size 432x288 with 1 Axes>"
      ]
     },
     "metadata": {
      "needs_background": "light"
     },
     "output_type": "display_data"
    }
   ],
   "source": [
    "plt.xscale(\"log\")\n",
    "plt.plot(thresholds, ans)"
   ]
  },
  {
   "cell_type": "code",
   "execution_count": 59,
   "id": "0729c900",
   "metadata": {},
   "outputs": [
    {
     "data": {
      "text/plain": [
       "0.7278012684989429"
      ]
     },
     "execution_count": 59,
     "metadata": {},
     "output_type": "execute_result"
    }
   ],
   "source": [
    "max(ans)"
   ]
  },
  {
   "cell_type": "markdown",
   "id": "d8f052a2",
   "metadata": {},
   "source": [
    "## F1 scores"
   ]
  },
  {
   "cell_type": "code",
   "execution_count": 3,
   "id": "e30d9fa4",
   "metadata": {},
   "outputs": [],
   "source": [
    "analyzer = Baseliner()\n",
    "analyzer.set_mode(\"test\")"
   ]
  },
  {
   "cell_type": "markdown",
   "id": "56b1fa7f",
   "metadata": {},
   "source": [
    "### With sk learn"
   ]
  },
  {
   "cell_type": "code",
   "execution_count": 1,
   "id": "f41e6049",
   "metadata": {},
   "outputs": [],
   "source": [
    "from sklearn.metrics import f1_score\n",
    "from sklearn.metrics import recall_score\n",
    "from sklearn.metrics import precision_score"
   ]
  },
  {
   "cell_type": "code",
   "execution_count": 4,
   "id": "3ac3203e",
   "metadata": {},
   "outputs": [],
   "source": [
    "def binarize_labels(labels):\n",
    "    output = []\n",
    "    for sent in labels:\n",
    "        for label in sent:\n",
    "            if label == \"C\":\n",
    "                output.append(1)\n",
    "            elif label == \"N\":\n",
    "                output.append(0)\n",
    "    return output"
   ]
  },
  {
   "cell_type": "code",
   "execution_count": 5,
   "id": "5264ac64",
   "metadata": {},
   "outputs": [],
   "source": [
    "def sk_f1(gold, predict, pos_label=1, average=\"binary\"):\n",
    "    gold = binarize_labels(gold)\n",
    "    predict = binarize_labels(predict)\n",
    "\n",
    "    return f1_score(gold, predict, pos_label=pos_label,average=average)\n",
    "\n",
    "def sk_precision(gold, predict, pos_label=1, average=\"binary\"):\n",
    "    gold = binarize_labels(gold)\n",
    "    predict = binarize_labels(predict)\n",
    "\n",
    "    return precision_score(gold, predict, pos_label=pos_label,average=average)\n",
    "\n",
    "def sk_recall(gold, predict, pos_label=1, average=\"binary\"):\n",
    "    gold = binarize_labels(gold)\n",
    "    predict = binarize_labels(predict)\n",
    "\n",
    "    return recall_score(gold, predict, pos_label=pos_label,average=average)"
   ]
  },
  {
   "cell_type": "code",
   "execution_count": 10,
   "id": "a304a16e",
   "metadata": {},
   "outputs": [],
   "source": [
    "def get_precision(predicts, labels, target):\n",
    "    right = 0\n",
    "    wrong = 0\n",
    "    i=0\n",
    "    for predict in labels:\n",
    "        if predict == target:\n",
    "            if predict == predicts[i]:\n",
    "                right +=1\n",
    "            else:\n",
    "                wrong +=1\n",
    "        i+=1\n",
    "    if (right+wrong) == 0:\n",
    "        return 0\n",
    "    return right/(wrong+right)\n",
    "\n",
    "def get_recall(predicts, labels, target):\n",
    "    right=0\n",
    "    wrong=0\n",
    "    i=0\n",
    "    for predict in predicts:\n",
    "        if predict == target:\n",
    "            if predict == labels[i]:\n",
    "                right+=1\n",
    "            else:\n",
    "                wrong+=1\n",
    "        i+=1\n",
    "    if (right+wrong) == 0:\n",
    "        return 0\n",
    "    return right/(wrong+right)\n",
    "\n",
    "def get_f1(predicts, labels, target):\n",
    "    recall = get_recall(predicts, labels, target)\n",
    "    precision = get_precision(predicts, labels, target)\n",
    "    if (precision+recall) == 0:\n",
    "        return 0\n",
    "    return 2*(precision*recall)/(precision+recall)"
   ]
  },
  {
   "cell_type": "code",
   "execution_count": 55,
   "id": "3aff5b2f",
   "metadata": {
    "scrolled": false
   },
   "outputs": [
    {
     "name": "stdout",
     "output_type": "stream",
     "text": [
      "Class C\n",
      "Precision: 0.5280898876404494\n",
      "0.5280898876404494\n",
      "Recall: 0.20982142857142858\n",
      "0.20982142857142858\n",
      "F1 0.3003194888178914\n",
      "0.3003194888178914\n",
      "\n",
      "Class N\n",
      "Precision: 0.4942857142857143\n",
      "0.4942857142857143\n",
      "Recall: 0.8046511627906977\n",
      "0.8046511627906977\n",
      "F1 0.6123893805309735\n",
      "0.6123893805309735\n",
      "\n",
      "Weighted:0.45315554056803414\n"
     ]
    },
    {
     "name": "stderr",
     "output_type": "stream",
     "text": [
      "C:\\Users\\JWant\\AppData\\Local\\Programs\\Python\\Python310\\lib\\site-packages\\sklearn\\metrics\\_classification.py:1370: UserWarning: Note that pos_label (set to 0) is ignored when average != 'binary' (got 'weighted'). You may use labels=[pos_label] to specify a single positive class.\n",
      "  warnings.warn(\n"
     ]
    }
   ],
   "source": [
    "# Random (bootstrap?)\n",
    "results = analyzer.random_baseline()\n",
    "target = 1\n",
    "\n",
    "print(\"Class C\")\n",
    "print(f'Precision: {sk_precision(results[1], analyzer.testlabels,pos_label=target, average=\"binary\")}')\n",
    "print(f'{get_precision(binarize_labels(results[1]), binarize_labels(analyzer.testlabels), target)}')\n",
    "print(f'Recall: {sk_recall(results[1], analyzer.testlabels,pos_label=target, average=\"binary\")}')\n",
    "print(f'{get_recall(binarize_labels(results[1]), binarize_labels(analyzer.testlabels), target)}')\n",
    "print(f'F1 {sk_f1(results[1], analyzer.testlabels,pos_label=target, average=\"binary\")}')\n",
    "print(f'{get_f1(binarize_labels(results[1]), binarize_labels(analyzer.testlabels), target)}')\n",
    "\n",
    "target = 0\n",
    "print(\"\\nClass N\")\n",
    "print(f'Precision: {sk_precision(results[1], analyzer.testlabels,pos_label=target, average=\"binary\")}')\n",
    "print(f'{get_precision(binarize_labels(results[1]), binarize_labels(analyzer.testlabels), target)}')\n",
    "print(f'Recall: {sk_recall(results[1], analyzer.testlabels,pos_label=target, average=\"binary\")}')\n",
    "print(f'{get_recall(binarize_labels(results[1]), binarize_labels(analyzer.testlabels), target)}')\n",
    "print(f'F1 {sk_f1(results[1], analyzer.testlabels,pos_label=target, average=\"binary\")}')\n",
    "print(f'{get_f1(binarize_labels(results[1]), binarize_labels(analyzer.testlabels), target)}')\n",
    "\n",
    "print(f'\\nWeighted:{sk_f1(results[1], analyzer.testlabels,pos_label=target, average=\"weighted\")}')\n"
   ]
  },
  {
   "cell_type": "code",
   "execution_count": 53,
   "id": "146ef5ed",
   "metadata": {},
   "outputs": [
    {
     "name": "stderr",
     "output_type": "stream",
     "text": [
      "C:\\Users\\JWant\\AppData\\Local\\Programs\\Python\\Python310\\lib\\site-packages\\sklearn\\metrics\\_classification.py:1370: UserWarning: Note that pos_label (set to 0) is ignored when average != 'binary' (got 'weighted'). You may use labels=[pos_label] to specify a single positive class.\n",
      "  warnings.warn(\n"
     ]
    },
    {
     "data": {
      "text/plain": [
       "0.8871989860583017"
      ]
     },
     "execution_count": 53,
     "metadata": {},
     "output_type": "execute_result"
    }
   ],
   "source": [
    "sk_f1(results[1], analyzer.testlabels,pos_label=target, average=\"weighted\")"
   ]
  },
  {
   "cell_type": "code",
   "execution_count": 52,
   "id": "94b3a7dc",
   "metadata": {},
   "outputs": [
    {
     "name": "stdout",
     "output_type": "stream",
     "text": [
      "Class C\n",
      "Precision: 0.0\n",
      "0\n",
      "Recall: 0.0\n",
      "0.0\n",
      "F1 0.0\n",
      "0\n",
      "\n",
      "Class N\n",
      "Precision: 1.0\n",
      "0.7972665148063781\n",
      "Recall: 0.7972665148063781\n",
      "1.0\n",
      "F1 0.8871989860583017\n",
      "0.8871989860583017\n",
      "\n",
      "Weighted:0.8871989860583017\n"
     ]
    },
    {
     "name": "stderr",
     "output_type": "stream",
     "text": [
      "C:\\Users\\JWant\\AppData\\Local\\Programs\\Python\\Python310\\lib\\site-packages\\sklearn\\metrics\\_classification.py:1318: UndefinedMetricWarning: Recall is ill-defined and being set to 0.0 due to no true samples. Use `zero_division` parameter to control this behavior.\n",
      "  _warn_prf(average, modifier, msg_start, len(result))\n",
      "C:\\Users\\JWant\\AppData\\Local\\Programs\\Python\\Python310\\lib\\site-packages\\sklearn\\metrics\\_classification.py:1370: UserWarning: Note that pos_label (set to 0) is ignored when average != 'binary' (got 'weighted'). You may use labels=[pos_label] to specify a single positive class.\n",
      "  warnings.warn(\n"
     ]
    }
   ],
   "source": [
    "# Majority\n",
    "results = analyzer.majority_baseline()\n",
    "target = 1\n",
    "\n",
    "print(\"Class C\")\n",
    "print(f'Precision: {sk_precision(results[1], analyzer.testlabels,pos_label=target, average=\"binary\")}')\n",
    "print(f'{get_precision(binarize_labels(results[1]), binarize_labels(analyzer.testlabels), target)}')\n",
    "print(f'Recall: {sk_recall(results[1], analyzer.testlabels,pos_label=target, average=\"binary\")}')\n",
    "print(f'{get_recall(binarize_labels(results[1]), binarize_labels(analyzer.testlabels), target)}')\n",
    "print(f'F1 {sk_f1(results[1], analyzer.testlabels,pos_label=target, average=\"binary\")}')\n",
    "print(f'{get_f1(binarize_labels(results[1]), binarize_labels(analyzer.testlabels), target)}')\n",
    "\n",
    "target = 0\n",
    "print(\"\\nClass N\")\n",
    "print(f'Precision: {sk_precision(results[1], analyzer.testlabels,pos_label=target, average=\"binary\")}')\n",
    "print(f'{get_precision(binarize_labels(results[1]), binarize_labels(analyzer.testlabels), target)}')\n",
    "print(f'Recall: {sk_recall(results[1], analyzer.testlabels,pos_label=target, average=\"binary\")}')\n",
    "print(f'{get_recall(binarize_labels(results[1]), binarize_labels(analyzer.testlabels), target)}')\n",
    "print(f'F1 {sk_f1(results[1], analyzer.testlabels,pos_label=target, average=\"binary\")}')\n",
    "print(f'{get_f1(binarize_labels(results[1]), binarize_labels(analyzer.testlabels), target)}')\n",
    "\n",
    "print(f'\\nWeighted:{sk_f1(results[1], analyzer.testlabels,pos_label=target, average=\"weighted\")}')\n"
   ]
  },
  {
   "cell_type": "code",
   "execution_count": 45,
   "id": "c7561716",
   "metadata": {},
   "outputs": [
    {
     "name": "stdout",
     "output_type": "stream",
     "text": [
      "Class C\n",
      "Precision: 0.48314606741573035\n",
      "0.7678571428571429\n",
      "Recall: 0.7678571428571429\n",
      "0.48314606741573035\n",
      "F1 0.5931034482758621\n",
      "0.5931034482758621\n",
      "\n",
      "Class N\n",
      "Precision: 0.9628571428571429\n",
      "0.8798955613577023\n",
      "Recall: 0.8798955613577023\n",
      "0.9628571428571429\n",
      "F1 0.9195088676671215\n",
      "0.9195088676671215\n",
      "\n",
      "Weighted:0.877871729886004\n"
     ]
    },
    {
     "name": "stderr",
     "output_type": "stream",
     "text": [
      "C:\\Users\\JWant\\AppData\\Local\\Programs\\Python\\Python310\\lib\\site-packages\\sklearn\\metrics\\_classification.py:1370: UserWarning: Note that pos_label (set to 0) is ignored when average != 'binary' (got 'weighted'). You may use labels=[pos_label] to specify a single positive class.\n",
      "  warnings.warn(\n"
     ]
    }
   ],
   "source": [
    "# Length\n",
    "analyzer.threshold=7\n",
    "results = analyzer.length_baseline()\n",
    "target = 1\n",
    "\n",
    "target = 1\n",
    "\n",
    "print(\"Class C\")\n",
    "print(f'Precision: {sk_precision(results[1], analyzer.testlabels,pos_label=target, average=\"binary\")}')\n",
    "print(f'{get_precision(binarize_labels(results[1]), binarize_labels(analyzer.testlabels), target)}')\n",
    "print(f'Recall: {sk_recall(results[1], analyzer.testlabels,pos_label=target, average=\"binary\")}')\n",
    "print(f'{get_recall(binarize_labels(results[1]), binarize_labels(analyzer.testlabels), target)}')\n",
    "print(f'F1 {sk_f1(results[1], analyzer.testlabels,pos_label=target, average=\"binary\")}')\n",
    "print(f'{get_f1(binarize_labels(results[1]), binarize_labels(analyzer.testlabels), target)}')\n",
    "\n",
    "target = 0\n",
    "print(\"\\nClass N\")\n",
    "print(f'Precision: {sk_precision(results[1], analyzer.testlabels,pos_label=target, average=\"binary\")}')\n",
    "print(f'{get_precision(binarize_labels(results[1]), binarize_labels(analyzer.testlabels), target)}')\n",
    "print(f'Recall: {sk_recall(results[1], analyzer.testlabels,pos_label=target, average=\"binary\")}')\n",
    "print(f'{get_recall(binarize_labels(results[1]), binarize_labels(analyzer.testlabels), target)}')\n",
    "print(f'F1 {sk_f1(results[1], analyzer.testlabels,pos_label=target, average=\"binary\")}')\n",
    "print(f'{get_f1(binarize_labels(results[1]), binarize_labels(analyzer.testlabels), target)}')\n",
    "\n",
    "print(f'\\nWeighted:{sk_f1(results[1], analyzer.testlabels,pos_label=target, average=\"weighted\")}')\n"
   ]
  },
  {
   "cell_type": "code",
   "execution_count": 46,
   "id": "10eb306d",
   "metadata": {},
   "outputs": [
    {
     "name": "stdout",
     "output_type": "stream",
     "text": [
      "Class C\n",
      "Precision: 0.38202247191011235\n",
      "0.3469387755102041\n",
      "Recall: 0.3469387755102041\n",
      "0.38202247191011235\n",
      "F1 0.36363636363636365\n",
      "0.36363636363636365\n",
      "\n",
      "Class N\n",
      "Precision: 0.8171428571428572\n",
      "0.8387096774193549\n",
      "Recall: 0.8387096774193549\n",
      "0.8171428571428572\n",
      "F1 0.8277858176555717\n",
      "0.8277858176555717\n",
      "\n",
      "Weighted:0.724171588740122\n"
     ]
    },
    {
     "name": "stderr",
     "output_type": "stream",
     "text": [
      "C:\\Users\\JWant\\AppData\\Local\\Programs\\Python\\Python310\\lib\\site-packages\\sklearn\\metrics\\_classification.py:1370: UserWarning: Note that pos_label (set to 0) is ignored when average != 'binary' (got 'weighted'). You may use labels=[pos_label] to specify a single positive class.\n",
      "  warnings.warn(\n"
     ]
    }
   ],
   "source": [
    "# frequence\n",
    "analyzer.threshold=10e-6\n",
    "results = analyzer.frequency_baseline()\n",
    "\n",
    "target = 1\n",
    "print(\"Class C\")\n",
    "print(f'Precision: {sk_precision(results[1], analyzer.testlabels,pos_label=target, average=\"binary\")}')\n",
    "print(f'{get_precision(binarize_labels(results[1]), binarize_labels(analyzer.testlabels), target)}')\n",
    "print(f'Recall: {sk_recall(results[1], analyzer.testlabels,pos_label=target, average=\"binary\")}')\n",
    "print(f'{get_recall(binarize_labels(results[1]), binarize_labels(analyzer.testlabels), target)}')\n",
    "print(f'F1 {sk_f1(results[1], analyzer.testlabels,pos_label=target, average=\"binary\")}')\n",
    "print(f'{get_f1(binarize_labels(results[1]), binarize_labels(analyzer.testlabels), target)}')\n",
    "\n",
    "target = 0\n",
    "print(\"\\nClass N\")\n",
    "print(f'Precision: {sk_precision(results[1], analyzer.testlabels,pos_label=target, average=\"binary\")}')\n",
    "print(f'{get_precision(binarize_labels(results[1]), binarize_labels(analyzer.testlabels), target)}')\n",
    "print(f'Recall: {sk_recall(results[1], analyzer.testlabels,pos_label=target, average=\"binary\")}')\n",
    "print(f'{get_recall(binarize_labels(results[1]), binarize_labels(analyzer.testlabels), target)}')\n",
    "print(f'F1 {sk_f1(results[1], analyzer.testlabels,pos_label=target, average=\"binary\")}')\n",
    "print(f'{get_f1(binarize_labels(results[1]), binarize_labels(analyzer.testlabels), target)}')\n",
    "\n",
    "print(f'\\nWeighted:{sk_f1(results[1], analyzer.testlabels,pos_label=target, average=\"weighted\")}')\n"
   ]
  },
  {
   "cell_type": "markdown",
   "id": "36b82fda",
   "metadata": {},
   "source": [
    "## For NN output"
   ]
  },
  {
   "cell_type": "code",
   "execution_count": 47,
   "id": "8dfad46e",
   "metadata": {},
   "outputs": [],
   "source": [
    "def binarize(labels):\n",
    "    output = []\n",
    "    for label in labels:\n",
    "        if label == \"N\":\n",
    "            output.append(0)\n",
    "        elif label == \"C\":\n",
    "            output.append(1)\n",
    "    return output"
   ]
  },
  {
   "cell_type": "code",
   "execution_count": 57,
   "id": "13315384",
   "metadata": {},
   "outputs": [],
   "source": [
    "import pandas as pd\n",
    "header_names = ['word', 'gold', 'predict']\n",
    "data = pd.read_csv('experiments/base_model/model_output.tsv', encoding = 'latin-1', sep='\\t', header = 0, names = header_names)\n",
    "data = data.dropna()"
   ]
  },
  {
   "cell_type": "code",
   "execution_count": 58,
   "id": "417dc382",
   "metadata": {},
   "outputs": [],
   "source": [
    "#binarize\n",
    "data['gold'] = binarize(list(data['gold']))\n",
    "data['predict'] = binarize(list(data['predict']))"
   ]
  },
  {
   "cell_type": "code",
   "execution_count": 71,
   "id": "285898de",
   "metadata": {},
   "outputs": [
    {
     "name": "stdout",
     "output_type": "stream",
     "text": [
      "Class N, precision, recall, f1, f1 weighted\n",
      "Precision: 0.8773333333333333\n",
      "Recall : 0.94\n",
      "F1: 0.9075862068965517\n",
      "0.8370064264792215\n",
      "\n",
      "Class C, precision, recall, f1, f1 weighted\n",
      "Precision: 0.6666666666666666\n",
      "Recall : 0.4772727272727273\n",
      "F1: 0.5562913907284768\n",
      "0.8370064264792215\n"
     ]
    },
    {
     "name": "stderr",
     "output_type": "stream",
     "text": [
      "C:\\Users\\JWant\\AppData\\Local\\Programs\\Python\\Python310\\lib\\site-packages\\sklearn\\metrics\\_classification.py:1370: UserWarning: Note that pos_label (set to 0) is ignored when average != 'binary' (got 'weighted'). You may use labels=[pos_label] to specify a single positive class.\n",
      "  warnings.warn(\n"
     ]
    }
   ],
   "source": [
    "target=0\n",
    "print(\"Class N, precision, recall, f1, f1 weighted\")\n",
    "\n",
    "print(f\"Precision: {precision_score(data['gold'], data['predict'], pos_label=target)}\")\n",
    "print(f\"Recall : {recall_score(data['gold'], data['predict'], pos_label=target)}\")\n",
    "print(f\"F1: {f1_score(data['gold'], data['predict'], pos_label=target)}\")\n",
    "average=\"weighted\"\n",
    "print(f1_score(data['gold'], data['predict'], pos_label=target,average=average))\n",
    "\n",
    "print()\n",
    "print(\"Class C, precision, recall, f1, f1 weighted\")\n",
    "target = 1\n",
    "print(f\"Precision: {precision_score(data['gold'], data['predict'], pos_label=target)}\")\n",
    "print(f\"Recall : {recall_score(data['gold'], data['predict'], pos_label=target)}\")\n",
    "print(f\"F1: {f1_score(data['gold'], data['predict'], pos_label=target)}\")\n",
    "average=\"weighted\"\n",
    "f1 = f1_score(data['gold'], data['predict'], pos_label=target,average=average)\n",
    "print(f1)"
   ]
  },
  {
   "cell_type": "code",
   "execution_count": 73,
   "id": "1cc018a3",
   "metadata": {},
   "outputs": [
    {
     "name": "stdout",
     "output_type": "stream",
     "text": [
      "0.8289662151290413\n"
     ]
    }
   ],
   "source": [
    "## dataset 2: lstm_hidden dim of 20\n",
    "data_2 = pd.read_csv('experiments/base_model/model_output.tsv', encoding = 'latin-1', sep='\\t', header = 0, names = header_names)\n",
    "data_2 = data_2.dropna()\n",
    "\n",
    "data_2['gold'] = binarize(list(data_2['gold']))\n",
    "data_2['predict'] = binarize(list(data_2['predict']))\n",
    "\n",
    "f2 = f1_score(data_2['gold'], data_2['predict'], pos_label=target,average=average)\n",
    "print(f2)"
   ]
  },
  {
   "cell_type": "code",
   "execution_count": 74,
   "id": "386420ae",
   "metadata": {},
   "outputs": [
    {
     "name": "stdout",
     "output_type": "stream",
     "text": [
      "0.8340737386316465\n"
     ]
    }
   ],
   "source": [
    "## dataset 3: lstm_hidden of 80\n",
    "data_3 = pd.read_csv('experiments/base_model/model_output.tsv', encoding = 'latin-1', sep='\\t', header = 0, names = header_names)\n",
    "data_3 = data_3.dropna()\n",
    "\n",
    "data_3['gold'] = binarize(list(data_3['gold']))\n",
    "data_3['predict'] = binarize(list(data_3['predict']))\n",
    "\n",
    "f3 = f1_score(data_3['gold'], data_3['predict'], pos_label=target,average=average)\n",
    "print(f3)"
   ]
  },
  {
   "cell_type": "code",
   "execution_count": 75,
   "id": "864abfd6",
   "metadata": {},
   "outputs": [
    {
     "name": "stdout",
     "output_type": "stream",
     "text": [
      "0.8228445634115708\n"
     ]
    }
   ],
   "source": [
    "## dataset 4: lstm_hidden of 150\n",
    "data_4 = pd.read_csv('experiments/base_model/model_output.tsv', encoding = 'latin-1', sep='\\t', header = 0, names = header_names)\n",
    "data_4 = data_4.dropna()\n",
    "\n",
    "data_4['gold'] = binarize(list(data_4['gold']))\n",
    "data_4['predict'] = binarize(list(data_4['predict']))\n",
    "\n",
    "f4 = f1_score(data_4['gold'], data_4['predict'], pos_label=target,average=average)\n",
    "print(f4)"
   ]
  },
  {
   "cell_type": "code",
   "execution_count": 84,
   "id": "93a84707",
   "metadata": {},
   "outputs": [
    {
     "data": {
      "text/plain": [
       "Text(0, 0.5, 'F1 score')"
      ]
     },
     "execution_count": 84,
     "metadata": {},
     "output_type": "execute_result"
    },
    {
     "data": {
      "image/png": "[encoded data removed]",
      "text/plain": [
       "<Figure size 432x288 with 1 Axes>"
      ]
     },
     "metadata": {
      "needs_background": "light"
     },
     "output_type": "display_data"
    }
   ],
   "source": [
    "fs = [f2,f1,f3,f4]\n",
    "nodes = [20, 50, 80, 150]\n",
    "\n",
    "plt.plot(nodes, fs)\n",
    "plt.title(\"F1 as a function of nodes in the hidden layer\")\n",
    "plt.xlabel(\"Amount of nodes\")\n",
    "plt.ylabel(\"F1 score\")"
   ]
  },
  {
   "cell_type": "code",
   "execution_count": 104,
   "id": "11bfcfe8",
   "metadata": {},
   "outputs": [
    {
     "name": "stdout",
     "output_type": "stream",
     "text": [
      "officers\n",
      "1\n",
      "0\n",
      "Here\n",
      "0\n",
      "1\n",
      "met\n",
      "1\n",
      "0\n",
      "ensued\n",
      "0\n",
      "1\n",
      "victims\n",
      "1\n",
      "0\n",
      "violent\n",
      "0\n",
      "1\n",
      "prison\n",
      "0\n",
      "1\n",
      "prison\n",
      "0\n",
      "1\n",
      "riots\n",
      "0\n",
      "1\n",
      "Brazil\n",
      "1\n",
      "0\n",
      "state\n",
      "1\n",
      "0\n",
      "Norte\n",
      "0\n",
      "1\n",
      "2010\n",
      "0\n",
      "1\n",
      "thousands\n",
      "1\n",
      "0\n",
      "WikiLeaks\n",
      "1\n",
      "0\n",
      "detailing\n",
      "0\n",
      "1\n",
      "wars\n",
      "1\n",
      "0\n",
      "scheduled\n",
      "0\n",
      "1\n",
      "suicide\n",
      "0\n",
      "1\n",
      "Eight\n",
      "1\n",
      "0\n",
      "Houston-area\n",
      "0\n",
      "1\n",
      "night\n",
      "1\n",
      "0\n",
      "Texas\n",
      "1\n",
      "0\n",
      "taking\n",
      "1\n",
      "0\n",
      "citizens\n",
      "1\n",
      "0\n",
      "deputies\n",
      "1\n",
      "0\n",
      "arrived\n",
      "0\n",
      "1\n",
      "check\n",
      "1\n",
      "0\n",
      "mere\n",
      "1\n",
      "0\n",
      "commuted\n",
      "1\n",
      "0\n",
      "Manning\n",
      "0\n",
      "1\n",
      "charged\n",
      "0\n",
      "1\n",
      "Maghreb\n",
      "1\n",
      "0\n",
      "al-Mourabitoun\n",
      "1\n",
      "0\n",
      "2021\n",
      "0\n",
      "1\n",
      "winger\n",
      "1\n",
      "0\n",
      "Franck\n",
      "1\n",
      "0\n",
      "contract\n",
      "1\n",
      "0\n"
     ]
    }
   ],
   "source": [
    "og_predicts = data['predict'].tolist()\n",
    "new_predicts = data_2['predict'].tolist()\n",
    "words = data['word'].tolist()\n",
    "\n",
    "for i, predict in enumerate(og_predicts):\n",
    "    if og_predicts[i] != new_predicts[i]:\n",
    "        print(words[i])\n",
    "        print(og_predicts[i])\n",
    "        print(new_predicts[i])"
   ]
  }
 ],
 "metadata": {
  "kernelspec": {
   "display_name": "Python 3 (ipykernel)",
   "language": "python",
   "name": "python3"
  },
  "language_info": {
   "codemirror_mode": {
    "name": "ipython",
    "version": 3
   },
   "file_extension": ".py",
   "mimetype": "text/x-python",
   "name": "python",
   "nbconvert_exporter": "python",
   "pygments_lexer": "ipython3",
   "version": "3.8.13"
  }
 },
 "nbformat": 4,
 "nbformat_minor": 5
}
