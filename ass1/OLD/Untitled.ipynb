{
 "cells": [
  {
   "cell_type": "code",
   "execution_count": 65,
   "id": "1e7939d4",
   "metadata": {},
   "outputs": [],
   "source": [
    "import spacy\n",
    "import numpy as np\n",
    "import pandas as pd\n",
    "from collections import Counter\n",
    "from wordfreq import word_frequency\n",
    "import scipy\n",
    "from scipy import stats\n",
    "import matplotlib.pyplot as plt \n",
    "import csv"
   ]
  },
  {
   "cell_type": "code",
   "execution_count": 53,
   "id": "b4c50654",
   "metadata": {},
   "outputs": [
    {
     "name": "stderr",
     "output_type": "stream",
     "text": [
      "C:\\Users\\sebas\\AppData\\Local\\Temp\\ipykernel_2160\\1996081036.py:7: FutureWarning: In a future version of pandas all arguments of DataFrame.dropna will be keyword-only.\n",
      "  tsv_data = tsv_data.dropna(0, 'any')\n"
     ]
    }
   ],
   "source": [
    "# Read datafile and add header\n",
    "tsv_data = pd.read_csv(\"C:/Users/sebas/Documents/GitHub/NLP/experiments/base_model/model_output.tsv\",\n",
    "                       encoding='latin-1', sep='\\t', header=None)\n",
    "tsv_data.columns = [\"Names\", \"Gold\", \"Predicted\"]\n",
    "\n",
    "# Drop the ---\n",
    "tsv_data = tsv_data.dropna(0, 'any')"
   ]
  },
  {
   "cell_type": "code",
   "execution_count": 72,
   "id": "d6adffc9",
   "metadata": {},
   "outputs": [],
   "source": [
    "class_c = tsv_data[tsv_data[\"Gold\"] == \"C\"]\n",
    "class_n = tsv_data[tsv_data[\"Gold\"] == \"N\"]"
   ]
  },
  {
   "cell_type": "code",
   "execution_count": 73,
   "id": "eccf4d5e",
   "metadata": {},
   "outputs": [
    {
     "data": {
      "text/html": [
       "<div>\n",
       "<style scoped>\n",
       "    .dataframe tbody tr th:only-of-type {\n",
       "        vertical-align: middle;\n",
       "    }\n",
       "\n",
       "    .dataframe tbody tr th {\n",
       "        vertical-align: top;\n",
       "    }\n",
       "\n",
       "    .dataframe thead th {\n",
       "        text-align: right;\n",
       "    }\n",
       "</style>\n",
       "<table border=\"1\" class=\"dataframe\">\n",
       "  <thead>\n",
       "    <tr style=\"text-align: right;\">\n",
       "      <th></th>\n",
       "      <th>Names</th>\n",
       "      <th>Gold</th>\n",
       "      <th>Predicted</th>\n",
       "    </tr>\n",
       "  </thead>\n",
       "  <tbody>\n",
       "    <tr>\n",
       "      <th>0</th>\n",
       "      <td>coordinator</td>\n",
       "      <td>C</td>\n",
       "      <td>N</td>\n",
       "    </tr>\n",
       "    <tr>\n",
       "      <th>1</th>\n",
       "      <td>Zemilton</td>\n",
       "      <td>C</td>\n",
       "      <td>N</td>\n",
       "    </tr>\n",
       "    <tr>\n",
       "      <th>3</th>\n",
       "      <td>witnessed</td>\n",
       "      <td>C</td>\n",
       "      <td>N</td>\n",
       "    </tr>\n",
       "    <tr>\n",
       "      <th>11</th>\n",
       "      <td>forensic</td>\n",
       "      <td>C</td>\n",
       "      <td>N</td>\n",
       "    </tr>\n",
       "    <tr>\n",
       "      <th>21</th>\n",
       "      <td>repeatedly</td>\n",
       "      <td>C</td>\n",
       "      <td>C</td>\n",
       "    </tr>\n",
       "    <tr>\n",
       "      <th>...</th>\n",
       "      <td>...</td>\n",
       "      <td>...</td>\n",
       "      <td>...</td>\n",
       "    </tr>\n",
       "    <tr>\n",
       "      <th>438</th>\n",
       "      <td>contract</td>\n",
       "      <td>C</td>\n",
       "      <td>C</td>\n",
       "    </tr>\n",
       "    <tr>\n",
       "      <th>439</th>\n",
       "      <td>extension</td>\n",
       "      <td>C</td>\n",
       "      <td>C</td>\n",
       "    </tr>\n",
       "    <tr>\n",
       "      <th>445</th>\n",
       "      <td>winger</td>\n",
       "      <td>C</td>\n",
       "      <td>N</td>\n",
       "    </tr>\n",
       "    <tr>\n",
       "      <th>447</th>\n",
       "      <td>Ribéry</td>\n",
       "      <td>C</td>\n",
       "      <td>N</td>\n",
       "    </tr>\n",
       "    <tr>\n",
       "      <th>452</th>\n",
       "      <td>extension</td>\n",
       "      <td>C</td>\n",
       "      <td>C</td>\n",
       "    </tr>\n",
       "  </tbody>\n",
       "</table>\n",
       "<p>89 rows × 3 columns</p>\n",
       "</div>"
      ],
      "text/plain": [
       "           Names Gold Predicted\n",
       "0    coordinator    C         N\n",
       "1       Zemilton    C         N\n",
       "3      witnessed    C         N\n",
       "11      forensic    C         N\n",
       "21    repeatedly    C         C\n",
       "..           ...  ...       ...\n",
       "438     contract    C         C\n",
       "439    extension    C         C\n",
       "445       winger    C         N\n",
       "447       Ribéry    C         N\n",
       "452    extension    C         C\n",
       "\n",
       "[89 rows x 3 columns]"
      ]
     },
     "execution_count": 73,
     "metadata": {},
     "output_type": "execute_result"
    }
   ],
   "source": [
    "class_c"
   ]
  },
  {
   "cell_type": "code",
   "execution_count": 89,
   "id": "c531ba6c",
   "metadata": {},
   "outputs": [],
   "source": [
    "from sklearn.metrics import f1_score, recall_score, precision_score"
   ]
  },
  {
   "cell_type": "code",
   "execution_count": 104,
   "id": "86a827ed",
   "metadata": {
    "scrolled": true
   },
   "outputs": [
    {
     "name": "stdout",
     "output_type": "stream",
     "text": [
      "recall: 0.48314606741573035\n",
      "Precision: 1.0\n",
      "f1: 0.6515151515151515\n"
     ]
    }
   ],
   "source": [
    "'''\n",
    "Class c\n",
    "'''\n",
    "print(f\"recall: {recall_score(class_c['Gold'].to_numpy(), class_c['Predicted'].to_numpy(), average='binary', pos_label = 'C')}\")\n",
    "print(f\"Precision: {precision_score(class_c['Gold'].to_numpy(), class_c['Predicted'].to_numpy(), average='binary', pos_label = 'C')}\")\n",
    "print(f\"f1: {f1_score(class_c['Gold'].to_numpy(), class_c['Predicted'].to_numpy(), average='binary', pos_label = 'C')}\")\n"
   ]
  },
  {
   "cell_type": "code",
   "execution_count": 107,
   "id": "29154ffc",
   "metadata": {},
   "outputs": [
    {
     "name": "stdout",
     "output_type": "stream",
     "text": [
      "recall: 0.9428571428571428\n",
      "Precision: 1.0\n",
      "f1: 0.9705882352941176\n"
     ]
    }
   ],
   "source": [
    "'''\n",
    "Class c\n",
    "'''\n",
    "print(f\"recall: {recall_score(class_n['Gold'].to_numpy(), class_n['Predicted'].to_numpy(), average='binary', pos_label = 'N')}\")\n",
    "print(f\"Precision: {precision_score(class_n['Gold'].to_numpy(), class_n['Predicted'].to_numpy(), average='binary', pos_label = 'N')}\")\n",
    "print(f\"f1: {f1_score(class_n['Gold'].to_numpy(), class_n['Predicted'].to_numpy(), average='binary', pos_label = 'N')}\")"
   ]
  },
  {
   "cell_type": "code",
   "execution_count": null,
   "id": "430702da",
   "metadata": {},
   "outputs": [],
   "source": []
  }
 ],
 "metadata": {
  "kernelspec": {
   "display_name": "Python 3 (ipykernel)",
   "language": "python",
   "name": "python3"
  },
  "language_info": {
   "codemirror_mode": {
    "name": "ipython",
    "version": 3
   },
   "file_extension": ".py",
   "mimetype": "text/x-python",
   "name": "python",
   "nbconvert_exporter": "python",
   "pygments_lexer": "ipython3",
   "version": "3.8.13"
  }
 },
 "nbformat": 4,
 "nbformat_minor": 5
}
