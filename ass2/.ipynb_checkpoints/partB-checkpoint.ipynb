{
 "cells": [
  {
   "cell_type": "code",
   "execution_count": 1,
   "id": "ed58b929",
   "metadata": {},
   "outputs": [],
   "source": [
    "import pandas as pd\n",
    "import numpy as np\n",
    "from simpletransformers.classification import ClassificationModel"
   ]
  },
  {
   "cell_type": "code",
   "execution_count": 2,
   "id": "eec6a83e",
   "metadata": {},
   "outputs": [
    {
     "data": {
      "text/plain": [
       "True"
      ]
     },
     "execution_count": 2,
     "metadata": {},
     "output_type": "execute_result"
    }
   ],
   "source": [
    "import torch\n",
    "torch.cuda.is_available()"
   ]
  },
  {
   "cell_type": "code",
   "execution_count": 3,
   "id": "d21f40b3",
   "metadata": {},
   "outputs": [],
   "source": [
    "train = pd.read_csv(\"data/olid-train.csv\")\n",
    "test = pd.read_csv(\"data/olid-test.csv\")\n",
    "diagnostics = pd.read_csv(\"data/olid-subset-diagnostic-tests.csv\")"
   ]
  },
  {
   "cell_type": "code",
   "execution_count": 4,
   "id": "ff5d26a3",
   "metadata": {},
   "outputs": [],
   "source": [
    "import joblib\n",
    "model = joblib.load(\"outputs/best_model.sav\")"
   ]
  },
  {
   "cell_type": "markdown",
   "id": "4bc761dd",
   "metadata": {},
   "source": [
    "### Typos"
   ]
  },
  {
   "cell_type": "code",
   "execution_count": 5,
   "id": "46973f6f",
   "metadata": {},
   "outputs": [],
   "source": [
    "import checklist\n",
    "from checklist.perturb import Perturb"
   ]
  },
  {
   "cell_type": "code",
   "execution_count": 6,
   "id": "3b0beca7",
   "metadata": {},
   "outputs": [],
   "source": [
    "np.random.seed(42)\n",
    "diagnostics['perturbed'] = \" \""
   ]
  },
  {
   "cell_type": "code",
   "execution_count": 7,
   "id": "5ecdebda",
   "metadata": {},
   "outputs": [
    {
     "name": "stderr",
     "output_type": "stream",
     "text": [
      "C:\\Users\\JWant\\AppData\\Local\\Temp\\ipykernel_11424\\1722523763.py:2: SettingWithCopyWarning: \n",
      "A value is trying to be set on a copy of a slice from a DataFrame\n",
      "\n",
      "See the caveats in the documentation: https://pandas.pydata.org/pandas-docs/stable/user_guide/indexing.html#returning-a-view-versus-a-copy\n",
      "  diagnostics['perturbed'][i] = Perturb.add_typos(row)\n"
     ]
    }
   ],
   "source": [
    "for i, row in enumerate(diagnostics['text']):\n",
    "    diagnostics['perturbed'][i] = Perturb.add_typos(row)"
   ]
  },
  {
   "cell_type": "code",
   "execution_count": 8,
   "id": "7e083267",
   "metadata": {},
   "outputs": [
    {
     "data": {
      "application/vnd.jupyter.widget-view+json": {
       "model_id": "a8f14bbc918a49deabd0d7f4c02df7a2",
       "version_major": 2,
       "version_minor": 0
      },
      "text/plain": [
       "  0%|          | 0/100 [00:00<?, ?it/s]"
      ]
     },
     "metadata": {},
     "output_type": "display_data"
    },
    {
     "data": {
      "application/vnd.jupyter.widget-view+json": {
       "model_id": "90143a9ee22446849bfa6dcf4764b66f",
       "version_major": 2,
       "version_minor": 0
      },
      "text/plain": [
       "  0%|          | 0/13 [00:00<?, ?it/s]"
      ]
     },
     "metadata": {},
     "output_type": "display_data"
    }
   ],
   "source": [
    "predicts = model.predict(diagnostics['perturbed'].tolist())"
   ]
  },
  {
   "cell_type": "code",
   "execution_count": 9,
   "id": "ed21138e",
   "metadata": {},
   "outputs": [],
   "source": [
    "from sklearn.metrics import (f1_score, recall_score, precision_score)\n",
    "gold = diagnostics['labels']\n",
    "predicts = predicts[0]"
   ]
  },
  {
   "cell_type": "code",
   "execution_count": 10,
   "id": "4786cd1a",
   "metadata": {},
   "outputs": [
    {
     "name": "stdout",
     "output_type": "stream",
     "text": [
      "0.8947368421052632\n",
      "0.68\n",
      "0.7727272727272727\n",
      "\n",
      "0.7419354838709677\n",
      "0.92\n",
      "0.8214285714285714\n",
      "\n",
      "0.8183361629881154\n",
      "0.8\n",
      "0.797077922077922\n",
      "\n",
      "0.8183361629881154\n",
      "0.8\n",
      "0.797077922077922\n"
     ]
    }
   ],
   "source": [
    "# class 1\n",
    "print(precision_score(gold, predicts, pos_label=1))\n",
    "print(recall_score(gold, predicts, pos_label=1))\n",
    "print(f1_score(gold, predicts, pos_label=1))\n",
    "\n",
    "\n",
    "# class 0\n",
    "print()\n",
    "print(precision_score(gold, predicts, pos_label=0))\n",
    "print(recall_score(gold, predicts, pos_label=0))\n",
    "print(f1_score(gold, predicts, pos_label=0))\n",
    "\n",
    "# macro average\n",
    "print()\n",
    "print(precision_score(gold, predicts, pos_label=1, average='macro'))\n",
    "print(recall_score(gold, predicts, pos_label=1, average='macro'))\n",
    "print(f1_score(gold, predicts, pos_label=1, average='macro'))\n",
    "\n",
    "\n",
    "# micro average\n",
    "print()\n",
    "print(precision_score(gold, predicts, pos_label=1, average='weighted'))\n",
    "print(recall_score(gold, predicts, pos_label=1, average='weighted'))\n",
    "print(f1_score(gold, predicts, pos_label=1, average='weighted'))"
   ]
  },
  {
   "cell_type": "code",
   "execution_count": 69,
   "id": "280fd909",
   "metadata": {},
   "outputs": [
    {
     "data": {
      "application/vnd.jupyter.widget-view+json": {
       "model_id": "17b6407e03ef4c01907a16fa619bd177",
       "version_major": 2,
       "version_minor": 0
      },
      "text/plain": [
       "  0%|          | 0/100 [00:00<?, ?it/s]"
      ]
     },
     "metadata": {},
     "output_type": "display_data"
    },
    {
     "data": {
      "application/vnd.jupyter.widget-view+json": {
       "model_id": "db678c3ccd4f4b93a122d4cd6880944d",
       "version_major": 2,
       "version_minor": 0
      },
      "text/plain": [
       "  0%|          | 0/13 [00:00<?, ?it/s]"
      ]
     },
     "metadata": {},
     "output_type": "display_data"
    }
   ],
   "source": [
    "og_predicts = model.predict(diagnostics['text'].tolist())\n",
    "og_predicts = og_predicts[0]"
   ]
  },
  {
   "cell_type": "code",
   "execution_count": 12,
   "id": "e7c26216",
   "metadata": {},
   "outputs": [
    {
     "name": "stdout",
     "output_type": "stream",
     "text": [
      "0.875\n",
      "0.7\n",
      "0.7777777777777777\n",
      "\n",
      "0.75\n",
      "0.9\n",
      "0.8181818181818182\n",
      "\n",
      "0.8125\n",
      "0.8\n",
      "0.797979797979798\n",
      "\n",
      "0.8125\n",
      "0.8\n",
      "0.7979797979797979\n"
     ]
    }
   ],
   "source": [
    "# class 1\n",
    "print(precision_score(gold, og_predicts, pos_label=1))\n",
    "print(recall_score(gold, og_predicts, pos_label=1))\n",
    "print(f1_score(gold, og_predicts, pos_label=1))\n",
    "\n",
    "\n",
    "# class 0\n",
    "print()\n",
    "print(precision_score(gold, og_predicts, pos_label=0))\n",
    "print(recall_score(gold, og_predicts, pos_label=0))\n",
    "print(f1_score(gold, og_predicts, pos_label=0))\n",
    "\n",
    "# macro average\n",
    "print()\n",
    "print(precision_score(gold, og_predicts, pos_label=1, average='macro'))\n",
    "print(recall_score(gold, og_predicts, pos_label=1, average='macro'))\n",
    "print(f1_score(gold, og_predicts, pos_label=1, average='macro'))\n",
    "\n",
    "\n",
    "# micro average\n",
    "print()\n",
    "print(precision_score(gold, og_predicts, pos_label=1, average='weighted'))\n",
    "print(recall_score(gold, og_predicts, pos_label=1, average='weighted'))\n",
    "print(f1_score(gold, og_predicts, pos_label=1, average='weighted'))"
   ]
  },
  {
   "cell_type": "code",
   "execution_count": 13,
   "id": "d314a774",
   "metadata": {},
   "outputs": [
    {
     "name": "stdout",
     "output_type": "stream",
     "text": [
      "11\n",
      "16\n",
      "34\n"
     ]
    }
   ],
   "source": [
    "for i in range(len(og_predicts)):\n",
    "    if og_predicts[i] == gold[i]:\n",
    "        if predicts[i] != gold[i]:\n",
    "            print(i)"
   ]
  },
  {
   "cell_type": "code",
   "execution_count": 14,
   "id": "b0911bd8",
   "metadata": {},
   "outputs": [
    {
     "name": "stdout",
     "output_type": "stream",
     "text": [
      "(cr1tikal voice) smef m yass cheeks\n",
      "@USER oh fukc off 😂😂\n",
      "$10 Million reallocated from FEMA to ICE. This guy gives zero sihts about anyone not named Trump. If you’re in the mid Atlantic, get out. Now. URL\n"
     ]
    }
   ],
   "source": [
    "print(diagnostics['perturbed'][11])\n",
    "print(diagnostics['perturbed'][16])\n",
    "print(diagnostics['perturbed'][34])"
   ]
  },
  {
   "cell_type": "code",
   "execution_count": 15,
   "id": "5c108937",
   "metadata": {},
   "outputs": [
    {
     "name": "stdout",
     "output_type": "stream",
     "text": [
      "(cr1tikal voice) smef my ass cheeks\n",
      "@USER oh fuck off 😂😂\n",
      "$10 Million reallocated from FEMA to ICE. This guy gives zero shits about anyone not named Trump. If you’re in the mid Atlantic, get out. Now. URL\n"
     ]
    }
   ],
   "source": [
    "print(diagnostics['text'][11])\n",
    "print(diagnostics['text'][16])\n",
    "print(diagnostics['text'][34])"
   ]
  },
  {
   "cell_type": "markdown",
   "id": "fdb6ec45",
   "metadata": {},
   "source": [
    "### Negation"
   ]
  },
  {
   "cell_type": "code",
   "execution_count": 16,
   "id": "027ef13e",
   "metadata": {},
   "outputs": [],
   "source": [
    "import spacy\n",
    "\n",
    "nlp = spacy.load(\"en_core_web_sm\")\n",
    "\n",
    "diagnostics['negated'] = \" \""
   ]
  },
  {
   "cell_type": "code",
   "execution_count": 22,
   "id": "437f3657",
   "metadata": {},
   "outputs": [
    {
     "data": {
      "text/plain": [
       "\"i won't do this\""
      ]
     },
     "execution_count": 22,
     "metadata": {},
     "output_type": "execute_result"
    }
   ],
   "source": [
    "doc = nlp(\"i will do this\")\n",
    "Perturb.add_negation(doc)"
   ]
  },
  {
   "cell_type": "code",
   "execution_count": 67,
   "id": "344e76ef",
   "metadata": {
    "scrolled": true
   },
   "outputs": [
    {
     "name": "stderr",
     "output_type": "stream",
     "text": [
      "C:\\Users\\JWant\\AppData\\Local\\Temp\\ipykernel_11424\\2317459240.py:6: SettingWithCopyWarning: \n",
      "A value is trying to be set on a copy of a slice from a DataFrame\n",
      "\n",
      "See the caveats in the documentation: https://pandas.pydata.org/pandas-docs/stable/user_guide/indexing.html#returning-a-view-versus-a-copy\n",
      "  diagnostics['negated'][i] = negated\n"
     ]
    },
    {
     "name": "stdout",
     "output_type": "stream",
     "text": [
      "none found\n",
      "11\n",
      "didn't work boyyyy\n",
      "15\n",
      "none found\n"
     ]
    },
    {
     "name": "stderr",
     "output_type": "stream",
     "text": [
      "C:\\Users\\JWant\\AppData\\Local\\Temp\\ipykernel_11424\\2317459240.py:9: SettingWithCopyWarning: \n",
      "A value is trying to be set on a copy of a slice from a DataFrame\n",
      "\n",
      "See the caveats in the documentation: https://pandas.pydata.org/pandas-docs/stable/user_guide/indexing.html#returning-a-view-versus-a-copy\n",
      "  diagnostics['negated'][i] = sent\n",
      "C:\\Users\\JWant\\AppData\\Local\\Temp\\ipykernel_11424\\2317459240.py:12: SettingWithCopyWarning: \n",
      "A value is trying to be set on a copy of a slice from a DataFrame\n",
      "\n",
      "See the caveats in the documentation: https://pandas.pydata.org/pandas-docs/stable/user_guide/indexing.html#returning-a-view-versus-a-copy\n",
      "  diagnostics['negated'][i] = sent\n"
     ]
    },
    {
     "name": "stdout",
     "output_type": "stream",
     "text": [
      "16\n",
      "none found\n",
      "22\n",
      "none found\n",
      "25\n",
      "none found\n",
      "48\n",
      "none found\n",
      "75\n",
      "none found\n",
      "83\n",
      "didn't work boyyyy\n",
      "91\n"
     ]
    }
   ],
   "source": [
    "for i, sent in enumerate(diagnostics['text'].tolist()):\n",
    "    doc = nlp(sent)\n",
    "    try: \n",
    "        negated = Perturb.add_negation(doc)\n",
    "        if type(negated) == str:\n",
    "            diagnostics['negated'][i] = negated\n",
    "        else:\n",
    "            print(\"none found\")\n",
    "            diagnostics['negated'][i] = sent\n",
    "            print(i)\n",
    "    except:\n",
    "        diagnostics['negated'][i] = sent\n",
    "        print(\"didn't work boyyyy\")\n",
    "        print(i)\n",
    "        continue"
   ]
  },
  {
   "cell_type": "code",
   "execution_count": 75,
   "id": "aea63bdb",
   "metadata": {},
   "outputs": [
    {
     "data": {
      "text/plain": [
       "['@USER @USER Who the hell does he think he is?',\n",
       " '#BREAKING. #Greece: Molotov cocktails fly after protest honouring killed antifa arti... URL via @USER URL',\n",
       " '#OrrinHatch I can’t believe this sexist , clueless, old fart gets to weigh in on another woman’s charges against a Supreme Court nominee. And he is spouting the same old nasty shit he spewed 20+ years ago against Anita Hill. His time’s up! Good riddance Neanderthal!',\n",
       " \"@USER @USER I'll use that one the next time im in a gun control debate or in a debate about free speech or taxes. Yes you can choose to be irresponsible or choose not to be. I argue responsible. Whats wrong with that? Don't justify murder by saying it was never alive or its my right.\",\n",
       " '0-1 lost my acca on the first fucking fight cba',\n",
       " '#Bakersfield is why we need gun control! Sorry for the victims other than the gunman himself I hope he rots in hell!',\n",
       " '#Christian #America – If we go by #Trump’s example, where liberals support open borders, I guess conservatives support school shootings.   Please explain how this makes America great again.',\n",
       " '@USER @USER @USER She is the most disingenuous person in the Senate. If she was my Senator I would hide in shame after her despicable behavior in the SCOTUS hearings.',\n",
       " '#Democrats #Liberals you are being #threatened by #Armed #Nazis and you talk about #disarmament of yourselves and of #Disconnection from the #Military #Lifestyle ?  You should #broadcast your #Armory and #killSkills #RightFuckingNOW URL',\n",
       " '699. Just wanted to tell you you should Hang Out With Me More. i think it’ll be fun! Also, lmao dick for a tongue? So people can easily suck me off. HAHA kidding aside, i aint want a tongue as my dick that looks hella weird.. but my choice was weird to but WHATEVER',\n",
       " \"#LiberalHypocrisy #criminal #democrat #evidence #ellison #liberals #Hypocrites Keith Ellison domestic violence accuser says Democratic party doesn't believe her story  URL\",\n",
       " '(cr1tikal voice) smef my ass cheeks',\n",
       " '*gets all the bitches*',\n",
       " '#Antifa: Take note of how to protest with civility.   This is why socialism (aka communism) will never win. It is inherently evil and unsustainable. URL',\n",
       " '@USER omg is he for real ?!?!!??????) this happened in peru like 40 years ago and the Inti devaluated so fucking much that they had to comoletely change the coin system because our money was worthless i-',\n",
       " \"#Conservatism101   It's not about our disagreements with #Conservatives. Its that Conservatives can't debate honestly, and they have no integrity. Whatever gets them thru today, is all that matters to them. They're fundamentally dishonest people. URL\",\n",
       " '@USER oh fuck off 😂😂',\n",
       " '#Emmys  Well, most of those ex-crackheads are liberals and Democrats; so ...',\n",
       " '#BCOG @USER she is cool, confident, cocky, and she kicks ass!!! @USER @USER @USER URL',\n",
       " \"And apparently I'm committed to going to a new level since I used the key.  Well FUCK.  Curiosity killed the Cat(hy)\",\n",
       " \"#Nigeria #Naija #9ja 'You are the most incompetent leader in Nigeria’s history' – Atiku blasts Buhari URL By championnewsng Via URL\",\n",
       " '@USER @USER @USER @USER Then why aren’t there so many shootings in Virginia?  Jacksonville shooter got his guns IN MARYLAND!! Among the poster children for gun control!  What good did that do?!  You’re full of crap.',\n",
       " \"@USER 'cause everyone knows a real leader falls into a van like a sack of potatoes.....\",\n",
       " '#BoycottNike campaign must continue and grow  Paying overseas staff $0.20 an hour is not okay because your staff is over there\".   You are exploiting poor women/men in the world.  This is more than Americans can stand. URL',\n",
       " '#ANTIFA are bedfellows with The Democratic Socialists of America (DSA) who #JamesOKeefe has exposed as being inserted throughout government, attempting to bring down #America  #Trump #MAGA🇺🇸 #DeepState  URL',\n",
       " '#LifeIsButepu when you have sex anytime you want but you are single',\n",
       " \"@USER Antifa has TS level influence. It's scary.\",\n",
       " \"@USER I have three accounts. Two quasi-anonymous, and one completely anon. And if twitter ever bans one of the quasi-anon, I'll make two anon accounts and tweet the most insane shit. I will drown twitter in bullshit. If one of those is banned, I'll make even more.\",\n",
       " '#Feinstein you cant say anything truthful.  You are a loers and liar. URL',\n",
       " '#Kavanaugh The moment #BlaseyFord is exposed as a fraud, expect a new accuser to surface. Liberals are a one trick pony. #LiberalismIsAMentalDisorder',\n",
       " \"@USER @USER @USER @USER Beats the hell NJ out of me lol. Dude already made the assumption that I'm antifa. He even ignored all the evidence to make that assumption.\",\n",
       " '#ConfirmKavanugh now, stall tactics are DC cronies only recourse. No more delays.  #VoteRed to end this madness and to #MAGA',\n",
       " \"#ArianaAsesina? Is that serious?! Holy shit, please your fucking assholes, don't blame someone for the death of other one. She is sad enough for today, don't you see? It isn't fault of none, he had an overdose and died. End. Stop wanting someone to blame, fuckers.\",\n",
       " '@USER How is she hiding her ugly personality. She is the worst.',\n",
       " '$10 Million reallocated from FEMA to ICE. This guy gives zero shits about anyone not named Trump. If you’re in the mid Atlantic, get out. Now. URL',\n",
       " '#Cuckservative Traitors Are Worse Than Fortnite Players URL #Conservatives #TriggerWarningRadio',\n",
       " \"#Conservatives Govt ' @USER made my life hell': whistleblowers say they were threatened by regulator; I thought this Govt promised to protect whistleblowers?  URL\",\n",
       " '#FortniteBattleRoyale #XboxShare @USER   Please ban this cheating scum.  he is literally invisible URL',\n",
       " 'All these sick ass ppl from school gave me something and now I have to chug down this nasty drink so it can go away🙃',\n",
       " '#NEWS Jeff Sessions: If you want more death, \\'listen to the ACLU, Antifa, Black Lives Matter\\'\" URL #CNBC\"',\n",
       " '#JoeScarborough is a vile excuse for a journalist\". Here he is criticizing #Trump yet refuses to come clean about the death of an intern in his office. Stop talking about everyone else and start talking about YOUR INVOLVEMENT WITH #LORIKLAUSUTIS. @USER',\n",
       " '$1500 for a phone. You all are fucking dumb.',\n",
       " '#MSNBC #Hardball @USER Bingo you are absolutely correct he cannot bring President Obama down. He can’t get over how President Obama humiliated him at the White House correspondents dinner and I can guarantee you that is a definite driver of his hate for President Obama',\n",
       " '#crazyredhead in very #angry at the #orange #cheeto  Who claims to be our #president .  She will never accept it.  Denying all the lives lost in Puerto Rico? He is a #monster #… URL',\n",
       " \"#SesameStreet #BertandErnie the conversation about this is so unattractive. The creator says he didn't create a character gay and he is being attacked.\",\n",
       " '@USER I BET she is a lot safer when she has sex now tho ? Or she wouldn’t have just one but a few kids . Why cant moms get dicked down too ?',\n",
       " '#FemiNazis are Liberals so #MeToo only counts when they blame a non-Liberal man. #Bizarro  #KAG2018 ❤️🇺🇸 URL',\n",
       " 'Amazon will ship live Christmas trees to your door — but will they stay and put on the damn lights? URL',\n",
       " '. JEFF SESSIONS: ‘LISTEN TO THE ACLU, ANTIFA, BLACK LIVES MATTER’ IF YOU WANT MORE CHICAGO SHOOTINGS  . URL',\n",
       " '#SerenaWilliams is so full of herself...she is just as painful to watch as to listen to...',\n",
       " '#BecauseOfTories we have the lowest youth unemployment since records began 👏🏼  URL',\n",
       " \"#MAGA #Kavanaugh #DrainTheDeepState @USER   I'd like to see @USER interviewed again. In his book ALL OUT WAR he laid out a lot that is happening today. ✓DC Secret Resistance Society ✓ANTIFA ✓ A White House meeting. Be interesting to hear him 2 yrs after Bk. URL\",\n",
       " \"#SandraOh is dressed like the queen she is tonight! We salute you, you Canadian Goddess! Let's hope you win for #KillingEve. #EmmyAwards URL\",\n",
       " '@USER WWE considers Raw the bigger show and having Ronda later in the PPV shows she is a bigger nane',\n",
       " '#StayOnYourPath #HealthQuote If you are wishing to loose fat, get back your wellbeing and slow down or reverse the aging process then check this super powerful natural method URL URL',\n",
       " '#SomethingIsAboutToHappen And here goes his bottle on the floor, with water dripping from it.  She just snapped as he was trying to cool her down. She is pissed at something for sure.  Stay tuned.',\n",
       " '#FakeNews like @USER and @USER will gloss over this today thanks to the #ChristineBlaseyFord circus act. #ConfirmJudgeKavanaughNow so we can get back to triggering liberals by talking about @USER ‘s success. 🙌🏻 URL',\n",
       " '#Capitalism may be undermined by the displacement of menial laborers by #AI   should conservatives therefore inoculate themselves against knee-jerk reactionism against the notion of the living wage\"?  #economics #marxism #marx #robotics #communism #socialism #socialismkills\"',\n",
       " '#California Tries New Tack on #Gun #Violence : #Bullet #control - The New York Times #activist \\u2066@USER \\u2066@USER \\u2066@USER \\u2066@USER \\u2066@USER  URL',\n",
       " \"#eminem he could've gone harder but he didn't have to reason  why he is the RapGod he is one of the best lyricist in the game. Lot of people talk smack about him because they will never be him.  @USER URL\",\n",
       " \"#CTRiders Hope you are enjoying your Friday! If you're looking for a way to enjoy this nice weather this weekend, September is #ReadANewBookMonth and there is nothing like reading a new book on a patio with a nice cup of coffee :) Anyone ready anything interesting this month? URL\",\n",
       " \"1) Wow, safe sex! That's hot! We love a butch top who also receives! URL\",\n",
       " '...ANTIFA men\" get themselves riled up before a big Anti Trump rally by playing the theme song from the Wonder Woman movie on repeat. Or was it Power ⚡️Rangers?! 🤔 URL',\n",
       " '#BrettKavanaugh   ... but anyway, there is the matter of a replacement for Justice Kennedy here, but the bigger one is of conservatives fortifying the SCOTUS majority for decades to come against libs who are no longer hiding desire to directly attack the Bill of Rights....',\n",
       " '#TEAM4THEBEEZ PLEASE SHARE THIS PUP DID NOTHING EXCEPT HIS OWNER DIED AND HE WAS #DUMPED2DIE AT SHELTER HE IS IN GRIEF FOR HIS OWNER AND TERRIFIED IN NOISY SHELTER PLEASE #NOKILLSHELTERNATION IS WHAT WE NEED BUT LETS FIND THIS POOR PUP A #HEROES2ANIMALS URL',\n",
       " '#MeetTheSpeakers 🙌 @USER will present in our event OIW 2018: Finpact - Global Impact through Financial Technologies. She is Senior Advisor Group Sustainable Finance and worked on green energy and climate risk. Join us to meet Thina URL #oiw2018 URL',\n",
       " '#WednesdayWisdom Antifa calls the right fascist when, in all reality, they and the left are following the same scenario as the Third Reich: indoctrination of our youth, trying to control minorities and a total lack of understanding or knowledge of history.  #WalkAway',\n",
       " '@USER u put a privileged NFL player in ur ad for 30th anniv that has sacrificed nothing he is still rich &amp;  has his life. Tom Burnett a passenger on doom flight 93 told his wife WE CAN DO IT. He &amp; others sacrificed everything! Gave their life to save others! That is everything',\n",
       " \"? Tickets for #htafc's away match against #WatfordFC will go on sale to supporters with 270+ Priority Points on Monday 2… URL\",\n",
       " '#ARSYoungjaeDay HAPPY BIRTHDAY CHOI YOUNGJAE 😭😭😭 with vocals of a god and a contagious laughter, he is the most beautiful man!!! i could never feel sad whenever i see an img of him or just a snippet of him in a video, he always brightens my day. the last img is me when i saw URL',\n",
       " '@USER Gun control takes guns out of law abiding citizens that’s it',\n",
       " '#antifa #Resist.. Trump is trying to bring world peace, not obstruct like the democrats..  is this good for you also? or haters gonna hate? URL',\n",
       " '@USER @USER She is an advocate and model for natural beauty.',\n",
       " '#MAGA #KavanaughConfirmationHearings postponing votes WELL LETS DO THE SAME OPEN THE HUSH FUND BOOKS NOW URL',\n",
       " '#TickTock If she is not formally charged for mishandling sensitive material we will have no choice but to release proof that she is guilty of high treason against the United States for selling patented military secrets to the Saudi Arabian government. URL',\n",
       " '#BacktheBlue.  Jeff Sessions: ‘Listen To The ACLU, Antifa, Black Lives Matter’ If You Want More Chicago Shootings URL via @USER',\n",
       " \"#TipOfTheDay If you are giving #coffee as a gift / part of a gift, make sure to ask for an airtight container or valve-sealed bag. The tin-ties are cute but won't preserve the coffee past a week.  Join our mailing list for more tips, facts, and coffee news URL URL\",\n",
       " '#Arizona #Tennessee  #Alaska #SC  As soon as these RINOS (aka liberals) are up for reelection vote them out!   #DrainTheSwamp 💥 URL',\n",
       " '#Affirmativeaction to #Affirmativehate. #Altleft wants Law prof fired for pointing out poor performance of unqualified admits. URL #tcot #Conservatives #Law #Lawyers #Lawdean #LawProf #UPenn #AltLeft #Highered #ABA #HigherEducation #AcademicTwitter',\n",
       " '#LisaxMichaelKors  she is soo beautifull',\n",
       " '#CollegeFootball  2021 6\\'7 285 DT/OL Gallatin, TN URL \"just turned 15 yrs old Aug 1st 2018\" \"Above average movement\" \"He is a Dog\" #SEC #PAC12 #BIG12 #BIG10 URL',\n",
       " \"@USER @USER Then we agree. Common ground.  And I don't like the Bushes.  Particularly HW.  URL\",\n",
       " '.@USER ‘Listen To The #ACLU, #Antifa, #BlackLivesMatter’ If You Want More Chicago Shootings URL via @USER  #Sessions',\n",
       " '@USER I guess that’s where swamp ass originated',\n",
       " '#FeelsGoodGirl @USER @USER  you should be proud at her she is amazing in gambit URL',\n",
       " \"@USER @USER @USER @USER Go with @USER Jeans. I've been wearing Wranglers over 25 yrs now. Ever since I found Levis contributed  heavily to Gun Control Groups &amp; Gun Grabbing Politicians back in the 1990s.\",\n",
       " '@USER #MAGA who cares about the farm.  He had no reason to commit murder. End of story.',\n",
       " \"#SundayShoutOuts to @USER because.... Because she is amazing and has my boundless support and endless appreciation for her support in return, it's just a loop of love and respect… URL\",\n",
       " '#2A. The stuff some of these people say amazes me. They do not get we already have gun control. Take a look at what happens to all the people arrested on gun charges each weekend in Chicago. Most of them are given a slap on the wrist. #NRA URL',\n",
       " '#Conservatives are always revolting URL',\n",
       " '@USER He is off the deep end. This calls for an intervention',\n",
       " '$500 Million Funding Competition for US cities That’s nice. \\u2066@USER  URL',\n",
       " '#CarolineForbes You are needed to help with the posted SL. DM me to Audition.',\n",
       " '@USER She Is A ChiCom Spy..... #ClubGITMO',\n",
       " '#Repost @USER ・・・ We can’t forget to give props to Naomi Osaka!! 🏆🎾 She played against her idol and won. In someways the win has been overshadowed, but she is so humbled in her… URL',\n",
       " '@USER He is obviously getting suspended. He is not an asset for anyone',\n",
       " '#Canada - EXCLUSIVE: #Trudeau #Liberals leave $372M meant to help veterans unspent since taking office URL',\n",
       " '@USER @USER ...than why did you show us how hot she is ?',\n",
       " '@USER @USER @USER You have yet to answer what *realistically enforceable* gun control law would *prevent* the tragedies without violating Due Process and HIPAA...',\n",
       " '#MAGA  ... got any ideas how she could have done it? URL']"
      ]
     },
     "execution_count": 75,
     "metadata": {},
     "output_type": "execute_result"
    }
   ],
   "source": [
    "diagnostics['text'].tolist()"
   ]
  },
  {
   "cell_type": "code",
   "execution_count": 71,
   "id": "c97aeab3",
   "metadata": {},
   "outputs": [
    {
     "data": {
      "text/plain": [
       "[\"@USER @USER Who the hell doesn't he think he is?\",\n",
       " \"#BREAKING. #Greece: Molotov cocktails don't fly after protest honouring killed antifa arti... URL via @USER URL\",\n",
       " '#OrrinHatch I can’t believe this sexist , clueless, old fart gets to weigh in on another woman’s charges against a Supreme Court nominee. And he is not spouting the same old nasty shit he spewed 20+ years ago against Anita Hill. His time’s up! Good riddance Neanderthal!',\n",
       " \"@USER @USER I'll use that one the next time im in a gun control debate or in a debate about free speech or taxes. Yes you can't choose to be irresponsible or choose not to be. I argue responsible. Whats wrong with that? Don't justify murder by saying it was never alive or its my right.\",\n",
       " \"0-1 didn't lose my acca on the first fucking fight cba\",\n",
       " '#Bakersfield is not why we need gun control! Sorry for the victims other than the gunman himself I hope he rots in hell!',\n",
       " \"#Christian #America – If we go by #Trump’s example, where liberals support open borders, I don't guess conservatives support school shootings.   Please explain how this makes America great again.\",\n",
       " '@USER @USER @USER She is not the most disingenuous person in the Senate. If she was my Senator I would hide in shame after her despicable behavior in the SCOTUS hearings.',\n",
       " \"#Democrats #Liberals you are being #threatened by #Armed #Nazis and you talk about #disarmament of yourselves and of #Disconnection from the #Military #Lifestyle ?  You shouldn't #broadcast your #Armory and #killSkills #RightFuckingNOW URL\",\n",
       " \"699. Just didn't want to tell you you should Hang Out With Me More. i think it’ll be fun! Also, lmao dick for a tongue? So people can easily suck me off. HAHA kidding aside, i aint want a tongue as my dick that looks hella weird.. but my choice was weird to but WHATEVER\",\n",
       " \"#LiberalHypocrisy #criminal #democrat #evidence #ellison #liberals #Hypocrites Keith Ellison domestic violence accuser doesn't say Democratic party doesn't believe her story  URL\",\n",
       " '(cr1tikal voice) smef my ass cheeks',\n",
       " \"* doesn't get all the bitches*\",\n",
       " \"#Antifa: don't take note of how to protest with civility.   This is why socialism (aka communism) will never win. It is inherently evil and unsustainable. URL\",\n",
       " \"@USER omg is he for real ?!?!!??????) this didn't happen in peru like 40 years ago and the Inti devaluated so fucking much that they had to comoletely change the coin system because our money was worthless i-\",\n",
       " \"#Conservatism101   It's not about our disagreements with #Conservatives. Its that Conservatives can't debate honestly, and they have no integrity. Whatever gets them thru today, is all that matters to them. They're fundamentally dishonest people. URL\",\n",
       " '@USER oh fuck off 😂😂',\n",
       " '#Emmys  Well, most of those ex-crackheads are not liberals and Democrats; so ...',\n",
       " '#BCOG @USER she is not cool, confident, cocky, and she kicks ass!!! @USER @USER @USER URL',\n",
       " \"And apparently I'm not committed to going to a new level since I used the key.  Well FUCK.  Curiosity killed the Cat(hy)\",\n",
       " \"#Nigeria #Naija #9ja 'You are the most incompetent leader in Nigeria’s history' – Atiku doesn't blast Buhari URL By championnewsng Via URL\",\n",
       " \"@USER @USER @USER @USER Then why aren’t there so many shootings in Virginia?  Jacksonville shooter didn't get his guns IN MARYLAND!! Among the poster children for gun control!  What good did that do?!  You’re full of crap.\",\n",
       " \"@USER 'cause everyone knows a real leader falls into a van like a sack of potatoes.....\",\n",
       " '#BoycottNike campaign must not continue and grow  Paying overseas staff $0.20 an hour is not okay because your staff is over there\".   You are exploiting poor women/men in the world.  This is more than Americans can stand. URL',\n",
       " '#ANTIFA are not bedfellows with The Democratic Socialists of America (DSA) who #JamesOKeefe has exposed as being inserted throughout government, attempting to bring down #America  #Trump #MAGA🇺🇸 #DeepState  URL',\n",
       " '#LifeIsButepu when you have sex anytime you want but you are single',\n",
       " \"@USER Antifa has TS level influence. It's not scary.\",\n",
       " \"@USER I don't have three accounts. Two quasi-anonymous, and one completely anon. And if twitter ever bans one of the quasi-anon, I'll make two anon accounts and tweet the most insane shit. I will drown twitter in bullshit. If one of those is banned, I'll make even more.\",\n",
       " '#Feinstein you cant say anything truthful.  You are not a loers and liar. URL',\n",
       " \"#Kavanaugh The moment #BlaseyFord is exposed as a fraud, don't expect a new accuser to surface. Liberals are a one trick pony. #LiberalismIsAMentalDisorder\",\n",
       " \"@USER @USER @USER @USER Beats the hell NJ out of me don't lol . Dude already made the assumption that I'm antifa. He even ignored all the evidence to make that assumption.\",\n",
       " '#ConfirmKavanugh now, stall tactics are not DC cronies only recourse. No more delays.  #VoteRed to end this madness and to #MAGA',\n",
       " \"#ArianaAsesina? Is that serious?! Holy shit, please your fucking assholes, don't blame someone for the death of other one. She is sad enough for today, don't you see? It isn't fault of none, he didn't have an overdose and died. End. Stop wanting someone to blame, fuckers.\",\n",
       " '@USER How is she not hiding her ugly personality. She is the worst.',\n",
       " \"$10 Million reallocated from FEMA to ICE. This guy doesn't give zero shits about anyone not named Trump. If you’re in the mid Atlantic, get out. Now. URL\",\n",
       " '#Cuckservative Traitors Are not Worse Than Fortnite Players URL #Conservatives #TriggerWarningRadio',\n",
       " \"#Conservatives Govt ' @USER made my life hell': whistleblowers say they were threatened by regulator; I didn't think this Govt promised to protect whistleblowers?  URL\",\n",
       " \"#FortniteBattleRoyale #XboxShare @USER   Please don't ban this cheating scum.  he is literally invisible URL\",\n",
       " \"All these sick ass ppl from school didn't give me something and now I have to chug down this nasty drink so it can go away🙃\",\n",
       " '#NEWS Jeff Sessions: If you want more death, \\' don\\'t listen to the ACLU, Antifa, Black Lives Matter\\'\" URL #CNBC\"',\n",
       " '#JoeScarborough is not a vile excuse for a journalist\". Here he is criticizing #Trump yet refuses to come clean about the death of an intern in his office. Stop talking about everyone else and start talking about YOUR INVOLVEMENT WITH #LORIKLAUSUTIS. @USER',\n",
       " '$1500 for a phone. You all are not fucking dumb.',\n",
       " '#MSNBC #Hardball @USER Bingo you are not absolutely correct he cannot bring President Obama down. He can’t get over how President Obama humiliated him at the White House correspondents dinner and I can guarantee you that is a definite driver of his hate for President Obama',\n",
       " \"# don't crazyredhead in very #angry at the #orange #cheeto  Who claims to be our #president .  She will never accept it.  Denying all the lives lost in Puerto Rico? He is a #monster #… URL\",\n",
       " \"#SesameStreet #BertandErnie the conversation about this is not so unattractive. The creator says he didn't create a character gay and he is being attacked.\",\n",
       " \"@USER I don't bet she is a lot safer when she has sex now tho ? Or she wouldn’t have just one but a few kids . Why cant moms get dicked down too ?\",\n",
       " '#FemiNazis are not Liberals so #MeToo only counts when they blame a non-Liberal man. #Bizarro  #KAG2018 ❤️🇺🇸 URL',\n",
       " \"Amazon won't ship live Christmas trees to your door — but will they stay and put on the damn lights? URL\",\n",
       " '. JEFF SESSIONS: ‘LISTEN TO THE ACLU, ANTIFA, BLACK LIVES MATTER’ IF YOU WANT MORE CHICAGO SHOOTINGS  . URL',\n",
       " '#SerenaWilliams is so full of herself...she is not just as painful to watch as to listen to...',\n",
       " \"#BecauseOfTories we don't have the lowest youth unemployment since records began 👏🏼  URL\",\n",
       " \"#MAGA #Kavanaugh #DrainTheDeepState @USER   I'd like to see @USER interviewed again. In his book ALL OUT WAR he doesn't layer out a lot that is happening today. ✓DC Secret Resistance Society ✓ANTIFA ✓ A White House meeting. Be interesting to hear him 2 yrs after Bk. URL\",\n",
       " \"#SandraOh is not dressed like the queen she is tonight! We salute you, you Canadian Goddess! Let's hope you win for #KillingEve. #EmmyAwards URL\",\n",
       " \"@USER WWE doesn't consider Raw the bigger show and having Ronda later in the PPV shows she is a bigger nane\",\n",
       " \"#StayOnYourPath #HealthQuote If you are wishing to loose fat, don't get back your wellbeing and slow down or reverse the aging process then check this super powerful natural method URL URL\",\n",
       " \"#SomethingIsAboutToHappen And here doesn't go his bottle on the floor, with water dripping from it.  She just snapped as he was trying to cool her down. She is pissed at something for sure.  Stay tuned.\",\n",
       " \"#FakeNews like @USER and @USER won't gloss over this today thanks to the #ChristineBlaseyFord circus act. #ConfirmJudgeKavanaughNow so we can get back to triggering liberals by talking about @USER ‘s success. 🙌🏻 URL\",\n",
       " '#Capitalism may be undermined by the displacement of menial laborers by #AI    shouldn\\'t conservatives therefore inoculate themselves against knee-jerk reactionism against the notion of the living wage\"?  #economics #marxism #marx #robotics #communism #socialism #socialismkills\"',\n",
       " \"#California doesn't try New Tack on #Gun #Violence : #Bullet #control - The New York Times #activist \\u2066@USER \\u2066@USER \\u2066@USER \\u2066@USER \\u2066@USER  URL\",\n",
       " \"#eminem he couldn't 've gone harder but he didn't have to reason  why he is the RapGod he is one of the best lyricist in the game. Lot of people talk smack about him because they will never be him.  @USER URL\",\n",
       " \"#CTRiders don't hope you are enjoying your Friday! If you're looking for a way to enjoy this nice weather this weekend, September is #ReadANewBookMonth and there is nothing like reading a new book on a patio with a nice cup of coffee :) Anyone ready anything interesting this month? URL\",\n",
       " \"1) Wow, safe sex! That's not hot! We love a butch top who also receives! URL\",\n",
       " '...ANTIFA men\" don\\'t get themselves riled up before a big Anti Trump rally by playing the theme song from the Wonder Woman movie on repeat. Or was it Power ⚡️Rangers?! 🤔 URL',\n",
       " '#BrettKavanaugh   ... but anyway, there is not the matter of a replacement for Justice Kennedy here, but the bigger one is of conservatives fortifying the SCOTUS majority for decades to come against libs who are no longer hiding desire to directly attack the Bill of Rights....',\n",
       " '#TEAM4THEBEEZ PLEASE SHARE THIS PUP DID NOTHING EXCEPT HIS OWNER DIED AND HE WAS not #DUMPED2DIE AT SHELTER HE IS IN GRIEF FOR HIS OWNER AND TERRIFIED IN NOISY SHELTER PLEASE #NOKILLSHELTERNATION IS WHAT WE NEED BUT LETS FIND THIS POOR PUP A #HEROES2ANIMALS URL',\n",
       " \"#MeetTheSpeakers 🙌 @USER won't present in our event OIW 2018: Finpact - Global Impact through Financial Technologies. She is Senior Advisor Group Sustainable Finance and worked on green energy and climate risk. Join us to meet Thina URL #oiw2018 URL\",\n",
       " \"#WednesdayWisdom Antifa doesn't call the right fascist when, in all reality, they and the left are following the same scenario as the Third Reich: indoctrination of our youth, trying to control minorities and a total lack of understanding or knowledge of history.  #WalkAway\",\n",
       " \"@USER u put a privileged NFL player in ur ad for 30th anniv that has sacrificed nothing he is still rich &amp;   doesn't have his life. Tom Burnett a passenger on doom flight 93 told his wife WE CAN DO IT. He &amp; others sacrificed everything! Gave their life to save others! That is everything\",\n",
       " \"? Tickets for #htafc's away match against #WatfordFC won't go on sale to supporters with 270+ Priority Points on Monday 2… URL\",\n",
       " '#ARSYoungjaeDay HAPPY BIRTHDAY CHOI YOUNGJAE 😭😭😭 with vocals of a god and a contagious laughter, he is not the most beautiful man!!! i could never feel sad whenever i see an img of him or just a snippet of him in a video, he always brightens my day. the last img is me when i saw URL',\n",
       " \"@USER Gun control doesn't take guns out of law abiding citizens that’s it\",\n",
       " '#antifa #Resist.. Trump is trying to bring world peace, not obstruct like the democrats..  is this good for you also? or haters not gon na hate? URL',\n",
       " '@USER @USER She is not an advocate and model for natural beauty.',\n",
       " '#MAGA #KavanaughConfirmationHearings not postponing votes WELL LETS DO THE SAME OPEN THE HUSH FUND BOOKS NOW URL',\n",
       " \"#TickTock If she is not formally charged for mishandling sensitive material we won't have no choice but to release proof that she is guilty of high treason against the United States for selling patented military secrets to the Saudi Arabian government. URL\",\n",
       " '#BacktheBlue.  Jeff Sessions: ‘Listen To The ACLU, Antifa, Black Lives Matter’ If You Want More Chicago Shootings URL via @USER',\n",
       " \"#TipOfTheDay If you are giving #coffee as a gift / part of a gift, make sure to ask for an airtight container or valve-sealed bag. The tin-ties are not cute but won't preserve the coffee past a week.  Join our mailing list for more tips, facts, and coffee news URL URL\",\n",
       " \"#Arizona #Tennessee  #Alaska #SC  As soon as these RINOS (aka liberals) are up for reelection don't vote them out!   #DrainTheSwamp 💥 URL\",\n",
       " \"#Affirmativeaction to #Affirmativehate. #Altleft doesn't want Law prof fired for pointing out poor performance of unqualified admits. URL #tcot #Conservatives #Law #Lawyers #Lawdean #LawProf #UPenn #AltLeft #Highered #ABA #HigherEducation #AcademicTwitter\",\n",
       " '#LisaxMichaelKors  she is not soo beautifull',\n",
       " '#CollegeFootball  2021 6\\'7 285 DT/OL Gallatin, TN URL \"just didn\\'t turn 15 yrs old Aug 1st 2018\" \"Above average movement\" \"He is a Dog\" #SEC #PAC12 #BIG12 #BIG10 URL',\n",
       " \"@USER @USER Then we don't agree . Common ground.  And I don't like the Bushes.  Particularly HW.  URL\",\n",
       " \".@USER ‘ don't listen To The #ACLU, #Antifa, #BlackLivesMatter’ If You Want More Chicago Shootings URL via @USER  #Sessions\",\n",
       " '@USER I guess that’s where swamp ass originated',\n",
       " '#FeelsGoodGirl @USER @USER  you should not be proud at her she is amazing in gambit URL',\n",
       " \"@USER @USER @USER @USER don't go with @USER Jeans. I've been wearing Wranglers over 25 yrs now. Ever since I found Levis contributed  heavily to Gun Control Groups &amp; Gun Grabbing Politicians back in the 1990s.\",\n",
       " \"@USER #MAGA who cares about the farm.  He didn't have no reason to commit murder. End of story.\",\n",
       " \"# doesn't sundayshoutout to @USER because.... Because she is amazing and has my boundless support and endless appreciation for her support in return, it's just a loop of love and respect… URL\",\n",
       " \"#2A. The stuff some of these people say amazes me. They do not get we already have gun control. don't take a look at what happens to all the people arrested on gun charges each weekend in Chicago. Most of them are given a slap on the wrist. #NRA URL\",\n",
       " '#Conservatives are always not revolting URL',\n",
       " '@USER He is not off the deep end. This calls for an intervention',\n",
       " '$500 Million Funding Competition for US cities That’s nice. \\u2066@USER  URL',\n",
       " '#CarolineForbes You are not needed to help with the posted SL. DM me to Audition.',\n",
       " '@USER She Is not A ChiCom Spy..... #ClubGITMO',\n",
       " \"#Repost @USER ・・・ We can’t forget to give props to Naomi Osaka!! 🏆🎾 She didn't play against her idol and won. In someways the win has been overshadowed, but she is so humbled in her… URL\",\n",
       " '@USER He is obviously getting not suspended. He is not an asset for anyone',\n",
       " \"#Canada - EXCLUSIVE: #Trudeau #Liberals leave $372M didn't mean to help veterans unspent since taking office URL\",\n",
       " \"@USER @USER ...than why didn't you show us how hot she is ?\",\n",
       " \"@USER @USER @USER You don't have yet to answer what *realistically enforceable* gun control law would *prevent* the tragedies without violating Due Process and HIPAA...\",\n",
       " \"#MAGA  ... didn't get any ideas how she could have done it? URL\"]"
      ]
     },
     "execution_count": 71,
     "metadata": {},
     "output_type": "execute_result"
    }
   ],
   "source": [
    "diagnostics['negated'].tolist()"
   ]
  },
  {
   "cell_type": "code",
   "execution_count": 72,
   "id": "80d2707f",
   "metadata": {},
   "outputs": [
    {
     "data": {
      "application/vnd.jupyter.widget-view+json": {
       "model_id": "853fb859a6014b1bba18b7277286e473",
       "version_major": 2,
       "version_minor": 0
      },
      "text/plain": [
       "  0%|          | 0/100 [00:00<?, ?it/s]"
      ]
     },
     "metadata": {},
     "output_type": "display_data"
    },
    {
     "data": {
      "application/vnd.jupyter.widget-view+json": {
       "model_id": "69dbfd5caeb34d5d989c2f7f5beb4f0b",
       "version_major": 2,
       "version_minor": 0
      },
      "text/plain": [
       "  0%|          | 0/13 [00:00<?, ?it/s]"
      ]
     },
     "metadata": {},
     "output_type": "display_data"
    }
   ],
   "source": [
    "predicts = model.predict(diagnostics['negated'].tolist())\n",
    "predicts = predicts[0]"
   ]
  },
  {
   "cell_type": "code",
   "execution_count": 74,
   "id": "ce43a561",
   "metadata": {},
   "outputs": [
    {
     "name": "stdout",
     "output_type": "stream",
     "text": [
      "0.9024390243902439\n",
      "0.74\n",
      "0.8131868131868132\n",
      "\n",
      "0.7796610169491526\n",
      "0.92\n",
      "0.8440366972477064\n",
      "\n",
      "0.8410500206696983\n",
      "0.8300000000000001\n",
      "0.8286117552172598\n",
      "\n",
      "0.8410500206696984\n",
      "0.83\n",
      "0.8286117552172598\n"
     ]
    }
   ],
   "source": [
    "# class 1\n",
    "print(precision_score(gold, predicts, pos_label=1))\n",
    "print(recall_score(gold, predicts, pos_label=1))\n",
    "print(f1_score(gold, predicts, pos_label=1))\n",
    "\n",
    "\n",
    "# class 0\n",
    "print()\n",
    "print(precision_score(gold, predicts, pos_label=0))\n",
    "print(recall_score(gold, predicts, pos_label=0))\n",
    "print(f1_score(gold, predicts, pos_label=0))\n",
    "\n",
    "# macro average\n",
    "print()\n",
    "print(precision_score(gold, predicts, pos_label=1, average='macro'))\n",
    "print(recall_score(gold, predicts, pos_label=1, average='macro'))\n",
    "print(f1_score(gold, predicts, pos_label=1, average='macro'))\n",
    "\n",
    "\n",
    "# micro average\n",
    "print()\n",
    "print(precision_score(gold, predicts, pos_label=1, average='weighted'))\n",
    "print(recall_score(gold, predicts, pos_label=1, average='weighted'))\n",
    "print(f1_score(gold, predicts, pos_label=1, average='weighted'))"
   ]
  },
  {
   "cell_type": "code",
   "execution_count": 87,
   "id": "e223b1d5",
   "metadata": {},
   "outputs": [
    {
     "name": "stdout",
     "output_type": "stream",
     "text": [
      "8\n",
      "1\n",
      "1\n",
      "\n",
      "23\n",
      "1\n",
      "1\n",
      "\n",
      "71\n",
      "0\n",
      "0\n",
      "\n"
     ]
    }
   ],
   "source": [
    "for i in range(len(og_predicts)):\n",
    "    if og_predicts[i] != predicts[i]:\n",
    "        print(i)\n",
    "        print(predicts[i])\n",
    "        print(gold[i])\n",
    "        \n",
    "        print()"
   ]
  },
  {
   "cell_type": "code",
   "execution_count": 92,
   "id": "8ff9db67",
   "metadata": {},
   "outputs": [
    {
     "data": {
      "text/plain": [
       "'#antifa #Resist.. Trump is trying to bring world peace, not obstruct like the democrats..  is this good for you also? or haters gonna hate? URL'"
      ]
     },
     "execution_count": 92,
     "metadata": {},
     "output_type": "execute_result"
    }
   ],
   "source": [
    "diagnostics['text'][71]"
   ]
  },
  {
   "cell_type": "code",
   "execution_count": 93,
   "id": "dc25d72c",
   "metadata": {},
   "outputs": [
    {
     "data": {
      "text/plain": [
       "'#antifa #Resist.. Trump is trying to bring world peace, not obstruct like the democrats..  is this good for you also? or haters not gon na hate? URL'"
      ]
     },
     "execution_count": 93,
     "metadata": {},
     "output_type": "execute_result"
    }
   ],
   "source": [
    "diagnostics['negated'][71]"
   ]
  },
  {
   "cell_type": "markdown",
   "id": "328e7d01",
   "metadata": {},
   "source": [
    "### Creating negated masks"
   ]
  },
  {
   "cell_type": "code",
   "execution_count": 94,
   "id": "73384d62",
   "metadata": {},
   "outputs": [
    {
     "data": {
      "application/vnd.jupyter.widget-view+json": {
       "model_id": "f8383d9b4cb240c4a2b75cc6ab93f6d8",
       "version_major": 2,
       "version_minor": 0
      },
      "text/plain": [
       "Downloading:   0%|          | 0.00/208k [00:00<?, ?B/s]"
      ]
     },
     "metadata": {},
     "output_type": "display_data"
    },
    {
     "data": {
      "application/vnd.jupyter.widget-view+json": {
       "model_id": "4ab4060f0f8146c1aa1a9a2d5baea971",
       "version_major": 2,
       "version_minor": 0
      },
      "text/plain": [
       "Downloading:   0%|          | 0.00/29.0 [00:00<?, ?B/s]"
      ]
     },
     "metadata": {},
     "output_type": "display_data"
    },
    {
     "data": {
      "application/vnd.jupyter.widget-view+json": {
       "model_id": "a75c4cc07d35478fa0059a5d8c28154e",
       "version_major": 2,
       "version_minor": 0
      },
      "text/plain": [
       "Downloading:   0%|          | 0.00/570 [00:00<?, ?B/s]"
      ]
     },
     "metadata": {},
     "output_type": "display_data"
    },
    {
     "data": {
      "application/vnd.jupyter.widget-view+json": {
       "model_id": "6464e63541134ba38aec2492d0718024",
       "version_major": 2,
       "version_minor": 0
      },
      "text/plain": [
       "Downloading:   0%|          | 0.00/416M [00:00<?, ?B/s]"
      ]
     },
     "metadata": {},
     "output_type": "display_data"
    },
    {
     "name": "stderr",
     "output_type": "stream",
     "text": [
      "Some weights of the model checkpoint at bert-base-cased were not used when initializing BertForMaskedLM: ['cls.seq_relationship.weight', 'cls.seq_relationship.bias']\n",
      "- This IS expected if you are initializing BertForMaskedLM from the checkpoint of a model trained on another task or with another architecture (e.g. initializing a BertForSequenceClassification model from a BertForPreTraining model).\n",
      "- This IS NOT expected if you are initializing BertForMaskedLM from the checkpoint of a model that you expect to be exactly identical (initializing a BertForSequenceClassification model from a BertForSequenceClassification model).\n"
     ]
    }
   ],
   "source": [
    "from simpletransformers.language_modeling import (\n",
    "    LanguageModelingModel,\n",
    ")\n",
    "\n",
    "\n",
    "language_model = LanguageModelingModel(\"bert\", \"bert-base-cased\")"
   ]
  },
  {
   "cell_type": "code",
   "execution_count": 102,
   "id": "6ed544ed",
   "metadata": {},
   "outputs": [
    {
     "data": {
      "text/plain": [
       "array(['Jessica is an accountant from Congo.',\n",
       "       'Billy is a lawyer from Grenada.',\n",
       "       'Jason is a lawyer from Panama.'], dtype='<U67')"
      ]
     },
     "execution_count": 102,
     "metadata": {},
     "output_type": "execute_result"
    }
   ],
   "source": [
    "from checklist.editor import Editor\n",
    "editor = Editor()"
   ]
  },
  {
   "cell_type": "code",
   "execution_count": 168,
   "id": "01e18391",
   "metadata": {},
   "outputs": [
    {
     "name": "stderr",
     "output_type": "stream",
     "text": [
      "C:\\Users\\JWant\\AppData\\Local\\Temp\\ipykernel_11424\\1581138020.py:14: FutureWarning: The frame.append method is deprecated and will be removed from pandas in a future version. Use pandas.concat instead.\n",
      "  df = df.append(df2)\n",
      "C:\\Users\\JWant\\AppData\\Local\\Temp\\ipykernel_11424\\1581138020.py:22: FutureWarning: The frame.append method is deprecated and will be removed from pandas in a future version. Use pandas.concat instead.\n",
      "  df = df.append(df2)\n",
      "C:\\Users\\JWant\\AppData\\Local\\Temp\\ipykernel_11424\\1581138020.py:30: FutureWarning: The frame.append method is deprecated and will be removed from pandas in a future version. Use pandas.concat instead.\n",
      "  df = df.append(df2)\n",
      "C:\\Users\\JWant\\AppData\\Local\\Temp\\ipykernel_11424\\1581138020.py:38: FutureWarning: The frame.append method is deprecated and will be removed from pandas in a future version. Use pandas.concat instead.\n",
      "  df = df.append(df2)\n",
      "C:\\Users\\JWant\\AppData\\Local\\Temp\\ipykernel_11424\\1581138020.py:46: FutureWarning: The frame.append method is deprecated and will be removed from pandas in a future version. Use pandas.concat instead.\n",
      "  df = df.append(df2)\n"
     ]
    }
   ],
   "source": [
    "df = pd.DataFrame(columns = [\"text\", \"gold\"])\n",
    "ret = editor.template('I hate {mask}.')\n",
    "data = ret.data\n",
    "gold = [1] * len(data)\n",
    "df['text'] = data\n",
    "df['gold'] = gold\n",
    "\n",
    "df2 = pd.DataFrame(columns = [\"text\", \"gold\"])\n",
    "ret = editor.template(r\"I don't hate {mask}.\")\n",
    "data = ret.data\n",
    "gold = [0] * len(data)\n",
    "df2['text'] = data\n",
    "df2['gold'] = gold\n",
    "df = df.append(df2)\n",
    "\n",
    "df2 = pd.DataFrame(columns = [\"text\", \"gold\"])\n",
    "ret = editor.template(r\"I don't hate {nationality}.\")\n",
    "data = ret.data\n",
    "gold = [0] * len(data)\n",
    "df2['text'] = data\n",
    "df2['gold'] = gold\n",
    "df = df.append(df2)\n",
    "\n",
    "df2 = pd.DataFrame(columns = [\"text\", \"gold\"])\n",
    "ret = editor.template(r\"I hate {nationality}.\")\n",
    "data = ret.data\n",
    "gold = [1] * len(data)\n",
    "df2['text'] = data\n",
    "df2['gold'] = gold\n",
    "df = df.append(df2)\n",
    "\n",
    "df2 = pd.DataFrame(columns = [\"text\", \"gold\"])\n",
    "ret = editor.template(r\"I don't hate {religion}.\")\n",
    "data = ret.data\n",
    "gold = [0] * len(data)\n",
    "df2['text'] = data\n",
    "df2['gold'] = gold\n",
    "df = df.append(df2)\n",
    "\n",
    "df2 = pd.DataFrame(columns = [\"text\", \"gold\"])\n",
    "ret = editor.template(r\"I hate {religion}.\")\n",
    "data = ret.data\n",
    "gold = [1] * len(data)\n",
    "df2['text'] = data\n",
    "df2['gold'] = gold\n",
    "df = df.append(df2)"
   ]
  },
  {
   "cell_type": "code",
   "execution_count": 176,
   "id": "db07b09f",
   "metadata": {},
   "outputs": [
    {
     "data": {
      "application/vnd.jupyter.widget-view+json": {
       "model_id": "2ee4fc08cc75482c8224fa8832d6fadb",
       "version_major": 2,
       "version_minor": 0
      },
      "text/plain": [
       "  0%|          | 0/658 [00:00<?, ?it/s]"
      ]
     },
     "metadata": {},
     "output_type": "display_data"
    },
    {
     "data": {
      "application/vnd.jupyter.widget-view+json": {
       "model_id": "bbec699a54554dcba639ef2b7f329a95",
       "version_major": 2,
       "version_minor": 0
      },
      "text/plain": [
       "  0%|          | 0/83 [00:00<?, ?it/s]"
      ]
     },
     "metadata": {},
     "output_type": "display_data"
    }
   ],
   "source": [
    "predicts = model.predict(df['text'].tolist())"
   ]
  },
  {
   "cell_type": "code",
   "execution_count": 177,
   "id": "d823cced",
   "metadata": {},
   "outputs": [],
   "source": [
    "predicts = predicts[0]\n",
    "gold = df['gold'].tolist()"
   ]
  },
  {
   "cell_type": "code",
   "execution_count": 178,
   "id": "fe37342a",
   "metadata": {},
   "outputs": [
    {
     "name": "stdout",
     "output_type": "stream",
     "text": [
      "0                    I hate it.\n",
      "0             I don't hate him.\n",
      "0         I don't hate Chinese.\n",
      "0               I hate Chinese.\n",
      "0    I don't hate Christianity.\n",
      "0          I hate Christianity.\n",
      "Name: text, dtype: object\n",
      "3                I hate cats.\n",
      "3            I don't hate it.\n",
      "3    I don't hate Indonesian.\n",
      "3          I hate Indonesian.\n",
      "3      I don't hate Buddhism.\n",
      "3            I hate Buddhism.\n",
      "Name: text, dtype: object\n",
      "4                I hate politics.\n",
      "4               I don't hate her.\n",
      "4         I don't hate Pakistani.\n",
      "4               I hate Pakistani.\n",
      "4    I don't hate Zoroastrianism.\n",
      "4          I hate Zoroastrianism.\n",
      "Name: text, dtype: object\n",
      "8             I hate that.\n",
      "8    I don't hate anybody.\n",
      "8    I don't hate Russian.\n",
      "8          I hate Russian.\n",
      "8     I don't hate Baha'i.\n",
      "8           I hate Baha'i.\n",
      "Name: text, dtype: object\n",
      "9             I hate Trump.\n",
      "9       I don't hate women.\n",
      "9    I don't hate Japanese.\n",
      "9          I hate Japanese.\n",
      "9      I don't hate Taoism.\n",
      "9            I hate Taoism.\n",
      "Name: text, dtype: object\n",
      "11               I hate this.\n",
      "11         I don't hate gays.\n",
      "11    I don't hate Ethiopian.\n",
      "11          I hate Ethiopian.\n",
      "11         I don't hate Jain.\n",
      "11               I hate Jain.\n",
      "Name: text, dtype: object\n",
      "16             I hate hate.\n",
      "16      I don't hate Trump.\n",
      "16    I don't hate Turkish.\n",
      "16          I hate Turkish.\n",
      "Name: text, dtype: object\n",
      "18           I hate war.\n",
      "18    I don't hate cats.\n",
      "18    I don't hate Thai.\n",
      "18          I hate Thai.\n",
      "Name: text, dtype: object\n",
      "19            I hate change.\n",
      "19    I don't hate everyone.\n",
      "19      I don't hate French.\n",
      "19            I hate French.\n",
      "Name: text, dtype: object\n",
      "21             I hate math.\n",
      "21     I don't hate racism.\n",
      "21    I don't hate Italian.\n",
      "21          I hate Italian.\n",
      "Name: text, dtype: object\n",
      "23            I hate America.\n",
      "23        I don't hate death.\n",
      "23    I don't hate Tanzanian.\n",
      "23          I hate Tanzanian.\n",
      "Name: text, dtype: object\n",
      "24          I hate feminism.\n",
      "24    I don't hate politics.\n",
      "24     I don't hate Burmese.\n",
      "24           I hate Burmese.\n",
      "Name: text, dtype: object\n",
      "27         I hate technology.\n",
      "27    I don't hate everybody.\n",
      "27      I don't hate Spanish.\n",
      "27            I hate Spanish.\n",
      "Name: text, dtype: object\n",
      "28             I hate voting.\n",
      "28     I don't hate religion.\n",
      "28    I don't hate Ukrainian.\n",
      "28          I hate Ukrainian.\n",
      "Name: text, dtype: object\n",
      "29              I hate pizza.\n",
      "29         I don't hate guns.\n",
      "29    I don't hate Argentine.\n",
      "29          I hate Argentine.\n",
      "Name: text, dtype: object\n",
      "30              I hate science.\n",
      "30    I don't hate homosexuals.\n",
      "30        I don't hate Ugandan.\n",
      "30              I hate Ugandan.\n",
      "Name: text, dtype: object\n",
      "32        I hate government.\n",
      "32        I don't hate this.\n",
      "32    I don't hate Sudanese.\n",
      "32          I hate Sudanese.\n",
      "Name: text, dtype: object\n",
      "33             I hate Twitter.\n",
      "33    I don't hate immigrants.\n",
      "33         I don't hate Iraqi.\n",
      "33               I hate Iraqi.\n",
      "Name: text, dtype: object\n",
      "34          I hate myself.\n",
      "34    I don't hate robots.\n",
      "34    I don't hate Polish.\n",
      "34          I hate Polish.\n",
      "Name: text, dtype: object\n",
      "35         I hate religion.\n",
      "35    I don't hate animals.\n",
      "35     I don't hate Afghan.\n",
      "35           I hate Afghan.\n",
      "Name: text, dtype: object\n",
      "37         I hate Obamacare.\n",
      "37       I don't hate Obama.\n",
      "37    I don't hate Moroccan.\n",
      "37          I hate Moroccan.\n",
      "Name: text, dtype: object\n",
      "38         I hate divorce.\n",
      "38    I don't hate Hitler.\n",
      "38     I don't hate Saudi.\n",
      "38           I hate Saudi.\n",
      "Name: text, dtype: object\n",
      "40    I hate discrimination.\n",
      "40     I don't hate spiders.\n",
      "40    I don't hate Peruvian.\n",
      "40          I hate Peruvian.\n",
      "Name: text, dtype: object\n",
      "41           I hate violence.\n",
      "41        I don't hate drugs.\n",
      "41    I don't hate Malaysian.\n",
      "41          I hate Malaysian.\n",
      "Name: text, dtype: object\n",
      "42         I hate liberals.\n",
      "42        I don't hate art.\n",
      "42    I don't hate Angolan.\n",
      "42          I hate Angolan.\n",
      "Name: text, dtype: object\n",
      "43             I hate money.\n",
      "43        I don't hate guys.\n",
      "43    I don't hate Ghanaian.\n",
      "43          I hate Ghanaian.\n",
      "Name: text, dtype: object\n",
      "47        I hate immigrants.\n",
      "47    I don't hate children.\n",
      "47      I don't hate Nepali.\n",
      "47            I hate Nepali.\n",
      "Name: text, dtype: object\n",
      "48          I hate Facebook.\n",
      "48      I don't hate ghosts.\n",
      "48    I don't hate Malagasy.\n",
      "48          I hate Malagasy.\n",
      "Name: text, dtype: object\n",
      "51         I hate politicians.\n",
      "51          I don't hate hate.\n",
      "51    I don't hate Australian.\n",
      "51          I hate Australian.\n",
      "Name: text, dtype: object\n",
      "53              I hate cancer.\n",
      "53    I don't hate everything.\n",
      "53    I don't hate Sri Lankan.\n",
      "53          I hate Sri Lankan.\n",
      "Name: text, dtype: object\n",
      "55            I hate crowds.\n",
      "55         I don't hate war.\n",
      "55    I don't hate Romanian.\n",
      "55          I hate Romanian.\n",
      "Name: text, dtype: object\n",
      "56             I hate Obama.\n",
      "56    I don't hate abortion.\n",
      "56      I don't hate Malian.\n",
      "56            I hate Malian.\n",
      "Name: text, dtype: object\n",
      "57            I hate taxes.\n",
      "57      I don't hate Nazis.\n",
      "57    I don't hate Chilean.\n",
      "57          I hate Chilean.\n",
      "Name: text, dtype: object\n",
      "58              I hate fascism.\n",
      "58          I don't hate China.\n",
      "58    I don't hate Kazakhstani.\n",
      "58          I hate Kazakhstani.\n",
      "Name: text, dtype: object\n",
      "59               I hate kids.\n",
      "59    I don't hate feminists.\n",
      "59     I don't hate Malawian.\n",
      "59           I hate Malawian.\n",
      "Name: text, dtype: object\n",
      "60              I hate food.\n",
      "60    I don't hate Russians.\n",
      "60     I don't hate Zambian.\n",
      "60           I hate Zambian.\n",
      "Name: text, dtype: object\n",
      "61          I hate everything.\n",
      "61        I don't hate Israel.\n",
      "61    I don't hate Guatemalan.\n",
      "61          I hate Guatemalan.\n",
      "Name: text, dtype: object\n",
      "62    I hate bureaucracy.\n",
      "62    I don't hate books.\n",
      "62    I don't hate Dutch.\n",
      "62          I hate Dutch.\n",
      "Name: text, dtype: object\n",
      "63           I hate terrorism.\n",
      "63           I don't hate gay.\n",
      "63    I don't hate Ecuadorian.\n",
      "63          I hate Ecuadorian.\n",
      "Name: text, dtype: object\n",
      "64          I hate writing.\n",
      "64    I don't hate Twitter.\n",
      "64     I don't hate Syrian.\n",
      "64           I hate Syrian.\n",
      "Name: text, dtype: object\n",
      "66                I hate life.\n",
      "66       I don't hate zombies.\n",
      "66    I don't hate Senegalese.\n",
      "66          I hate Senegalese.\n",
      "Name: text, dtype: object\n",
      "68       I hate democracy.\n",
      "68      I don't hate ISIS.\n",
      "68    I don't hate Somali.\n",
      "68          I hate Somali.\n",
      "Name: text, dtype: object\n",
      "69                I hate cops.\n",
      "69       I don't hate science.\n",
      "69    I don't hate Zimbabwean.\n",
      "69          I hate Zimbabwean.\n",
      "Name: text, dtype: object\n",
      "71          I hate tattoos.\n",
      "71     I don't hate change.\n",
      "71    I don't hate Rwandan.\n",
      "71          I hate Rwandan.\n",
      "Name: text, dtype: object\n",
      "73         I hate Christmas.\n",
      "73       I don't hate Jesus.\n",
      "73    I don't hate Beninese.\n",
      "73          I hate Beninese.\n",
      "Name: text, dtype: object\n",
      "74            I hate lying.\n",
      "74      I don't hate Islam.\n",
      "74    I don't hate Belgian.\n",
      "74          I hate Belgian.\n",
      "Name: text, dtype: object\n",
      "76             I hate school.\n",
      "76    I don't hate Americans.\n",
      "76        I don't hate Cuban.\n",
      "76              I hate Cuban.\n",
      "Name: text, dtype: object\n",
      "78    I hate confrontation.\n",
      "78      I don't hate music.\n",
      "78    I don't hate Haitian.\n",
      "78          I hate Haitian.\n",
      "Name: text, dtype: object\n",
      "79               I hate computers.\n",
      "79              I don't hate shit.\n",
      "79    I don't hate South Sudanese.\n",
      "79          I hate South Sudanese.\n",
      "Name: text, dtype: object\n",
      "80                I hate IT.\n",
      "80    I don't hate humanity.\n",
      "80       I don't hate Greek.\n",
      "80             I hate Greek.\n",
      "Name: text, dtype: object\n",
      "81             I hate Brexit.\n",
      "81       I don't hate aliens.\n",
      "81    I don't hate Dominican.\n",
      "81          I hate Dominican.\n",
      "Name: text, dtype: object\n",
      "82         I hate Republicans.\n",
      "82    I don't hate Christians.\n",
      "82         I don't hate Czech.\n",
      "82               I hate Czech.\n",
      "Name: text, dtype: object\n",
      "83           I hate hospitals.\n",
      "83      I don't hate refugees.\n",
      "83    I don't hate Portuguese.\n",
      "83          I hate Portuguese.\n",
      "Name: text, dtype: object\n",
      "84           I hate losing.\n",
      "84     I don't hate Canada.\n",
      "84    I don't hate Swedish.\n",
      "84          I hate Swedish.\n",
      "Name: text, dtype: object\n",
      "86               I hate ghosts.\n",
      "86           I don't hate boys.\n",
      "86    I don't hate Azerbaijani.\n",
      "86          I hate Azerbaijani.\n",
      "Name: text, dtype: object\n",
      "87               I hate beer.\n",
      "87         I don't hate cops.\n",
      "87    I don't hate Hungarian.\n",
      "87          I hate Hungarian.\n",
      "Name: text, dtype: object\n",
      "88              I hate bees.\n",
      "88    I don't hate liberals.\n",
      "88     I don't hate Emirati.\n",
      "88           I hate Emirati.\n",
      "Name: text, dtype: object\n",
      "89          I hate teachers.\n",
      "89     I don't hate Chicago.\n",
      "89    I don't hate Honduran.\n",
      "89          I hate Honduran.\n",
      "Name: text, dtype: object\n",
      "92       I hate censorship.\n",
      "92    I don't hate someone.\n",
      "92    I don't hate Israeli.\n",
      "92          I hate Israeli.\n",
      "Name: text, dtype: object\n",
      "93              I hate work.\n",
      "93        I don't hate math.\n",
      "93    I don't hate Austrian.\n",
      "93          I hate Austrian.\n",
      "Name: text, dtype: object\n",
      "95         I hate coffee.\n",
      "95    I don't hate money.\n",
      "95    I don't hate Swiss.\n",
      "95          I hate Swiss.\n",
      "Name: text, dtype: object\n",
      "97               I hate Starbucks.\n",
      "97       I don't hate millennials.\n",
      "97    I don't hate Sierra Leonean.\n",
      "97          I hate Sierra Leonean.\n",
      "Name: text, dtype: object\n",
      "98             I hate prisons.\n",
      "98    I don't hate technology.\n",
      "98     I don't hate Hong Kong.\n",
      "98           I hate Hong Kong.\n",
      "Name: text, dtype: object\n",
      "99           I hate music.\n",
      "99    I don't hate cancer.\n",
      "99       I don't hate Lao.\n",
      "99             I hate Lao.\n",
      "Name: text, dtype: object\n",
      "100    I don't hate Bulgarian.\n",
      "100          I hate Bulgarian.\n",
      "Name: text, dtype: object\n",
      "101    I don't hate Serbian.\n",
      "101          I hate Serbian.\n",
      "Name: text, dtype: object\n",
      "102    I don't hate Paraguayan.\n",
      "102          I hate Paraguayan.\n",
      "Name: text, dtype: object\n",
      "104    I don't hate Libyan.\n",
      "104          I hate Libyan.\n",
      "Name: text, dtype: object\n",
      "105    I don't hate Nicaraguan.\n",
      "105          I hate Nicaraguan.\n",
      "Name: text, dtype: object\n",
      "106    I don't hate Salvadoran.\n",
      "106          I hate Salvadoran.\n",
      "Name: text, dtype: object\n",
      "108    I don't hate Turkmen.\n",
      "108          I hate Turkmen.\n",
      "Name: text, dtype: object\n",
      "109    I don't hate Danish.\n",
      "109          I hate Danish.\n",
      "Name: text, dtype: object\n",
      "110    I don't hate Singaporean.\n",
      "110          I hate Singaporean.\n",
      "Name: text, dtype: object\n",
      "111    I don't hate Finnish.\n",
      "111          I hate Finnish.\n",
      "Name: text, dtype: object\n",
      "113    I don't hate Norwegian.\n",
      "113          I hate Norwegian.\n",
      "Name: text, dtype: object\n",
      "115    I don't hate Costa Rican.\n",
      "115          I hate Costa Rican.\n",
      "Name: text, dtype: object\n",
      "117    I don't hate Irish.\n",
      "117          I hate Irish.\n",
      "Name: text, dtype: object\n",
      "119    I don't hate Liberian.\n",
      "119          I hate Liberian.\n",
      "Name: text, dtype: object\n",
      "120    I don't hate Central African.\n",
      "120          I hate Central African.\n",
      "Name: text, dtype: object\n",
      "125    I don't hate Croatian.\n",
      "125          I hate Croatian.\n",
      "Name: text, dtype: object\n",
      "126    I don't hate Georgian.\n",
      "126          I hate Georgian.\n",
      "Name: text, dtype: object\n",
      "127    I don't hate Moldovan.\n",
      "127          I hate Moldovan.\n",
      "Name: text, dtype: object\n",
      "130    I don't hate Eritrean.\n",
      "130          I hate Eritrean.\n",
      "Name: text, dtype: object\n",
      "133    I don't hate Armenian.\n",
      "133          I hate Armenian.\n",
      "Name: text, dtype: object\n",
      "134    I don't hate Jamaican.\n",
      "134          I hate Jamaican.\n",
      "Name: text, dtype: object\n",
      "135    I don't hate Albanian.\n",
      "135          I hate Albanian.\n",
      "Name: text, dtype: object\n",
      "136    I don't hate Lithuanian.\n",
      "136          I hate Lithuanian.\n",
      "Name: text, dtype: object\n",
      "138    I don't hate Namibian.\n",
      "138          I hate Namibian.\n",
      "Name: text, dtype: object\n",
      "146    I don't hate Bissau-Guinean.\n",
      "146          I hate Bissau-Guinean.\n",
      "Name: text, dtype: object\n",
      "147    I don't hate from Kosovo.\n",
      "147          I hate from Kosovo.\n",
      "Name: text, dtype: object\n",
      "150    I don't hate Estonian.\n",
      "150          I hate Estonian.\n",
      "Name: text, dtype: object\n",
      "152    I don't hate Timorese.\n",
      "152          I hate Timorese.\n",
      "Name: text, dtype: object\n",
      "156    I don't hate Djiboutian.\n",
      "156          I hate Djiboutian.\n",
      "Name: text, dtype: object\n",
      "157    I don't hate Fijian.\n",
      "157          I hate Fijian.\n",
      "Name: text, dtype: object\n",
      "159    I don't hate Guyanese.\n",
      "159          I hate Guyanese.\n",
      "Name: text, dtype: object\n",
      "160    I don't hate Bhutanese.\n",
      "160          I hate Bhutanese.\n",
      "Name: text, dtype: object\n",
      "163    I don't hate Montenegrin.\n",
      "163          I hate Montenegrin.\n",
      "Name: text, dtype: object\n",
      "166    I don't hate Cabo Verdean.\n",
      "166          I hate Cabo Verdean.\n",
      "Name: text, dtype: object\n",
      "170    I don't hate Bahamian.\n",
      "170          I hate Bahamian.\n",
      "Name: text, dtype: object\n",
      "173    I don't hate Ni-Vanuatu.\n",
      "173          I hate Ni-Vanuatu.\n",
      "Name: text, dtype: object\n",
      "175    I don't hate New Caledonian.\n",
      "175          I hate New Caledonian.\n",
      "Name: text, dtype: object\n",
      "176    I don't hate French Polynesian.\n",
      "176          I hate French Polynesian.\n",
      "Name: text, dtype: object\n",
      "177    I don't hate Samoan.\n",
      "177          I hate Samoan.\n",
      "Name: text, dtype: object\n",
      "179    I don't hate from Channel Islands.\n",
      "179          I hate from Channel Islands.\n",
      "Name: text, dtype: object\n",
      "180    I don't hate Guamanian.\n",
      "180          I hate Guamanian.\n",
      "Name: text, dtype: object\n",
      "182    I don't hate Micronesian.\n",
      "182          I hate Micronesian.\n",
      "Name: text, dtype: object\n",
      "186    I don't hate Aruban.\n",
      "186          I hate Aruban.\n",
      "Name: text, dtype: object\n",
      "194    I don't hate Bermudian.\n",
      "194          I hate Bermudian.\n",
      "Name: text, dtype: object\n",
      "197    I don't hate Greenlandic.\n",
      "197          I hate Greenlandic.\n",
      "Name: text, dtype: object\n"
     ]
    },
    {
     "ename": "KeyError",
     "evalue": "248",
     "output_type": "error",
     "traceback": [
      "\u001b[1;31m---------------------------------------------------------------------------\u001b[0m",
      "\u001b[1;31mKeyError\u001b[0m                                  Traceback (most recent call last)",
      "File \u001b[1;32m~\\anaconda3\\envs\\tf2.4\\lib\\site-packages\\pandas\\core\\indexes\\base.py:3621\u001b[0m, in \u001b[0;36mIndex.get_loc\u001b[1;34m(self, key, method, tolerance)\u001b[0m\n\u001b[0;32m   3620\u001b[0m \u001b[38;5;28;01mtry\u001b[39;00m:\n\u001b[1;32m-> 3621\u001b[0m     \u001b[38;5;28;01mreturn\u001b[39;00m \u001b[38;5;28;43mself\u001b[39;49m\u001b[38;5;241;43m.\u001b[39;49m\u001b[43m_engine\u001b[49m\u001b[38;5;241;43m.\u001b[39;49m\u001b[43mget_loc\u001b[49m\u001b[43m(\u001b[49m\u001b[43mcasted_key\u001b[49m\u001b[43m)\u001b[49m\n\u001b[0;32m   3622\u001b[0m \u001b[38;5;28;01mexcept\u001b[39;00m \u001b[38;5;167;01mKeyError\u001b[39;00m \u001b[38;5;28;01mas\u001b[39;00m err:\n",
      "File \u001b[1;32m~\\anaconda3\\envs\\tf2.4\\lib\\site-packages\\pandas\\_libs\\index.pyx:136\u001b[0m, in \u001b[0;36mpandas._libs.index.IndexEngine.get_loc\u001b[1;34m()\u001b[0m\n",
      "File \u001b[1;32m~\\anaconda3\\envs\\tf2.4\\lib\\site-packages\\pandas\\_libs\\index.pyx:160\u001b[0m, in \u001b[0;36mpandas._libs.index.IndexEngine.get_loc\u001b[1;34m()\u001b[0m\n",
      "File \u001b[1;32m~\\anaconda3\\envs\\tf2.4\\lib\\site-packages\\pandas\\_libs\\index.pyx:201\u001b[0m, in \u001b[0;36mpandas._libs.index.IndexEngine._get_loc_duplicates\u001b[1;34m()\u001b[0m\n",
      "File \u001b[1;32m~\\anaconda3\\envs\\tf2.4\\lib\\site-packages\\pandas\\_libs\\index.pyx:209\u001b[0m, in \u001b[0;36mpandas._libs.index.IndexEngine._maybe_get_bool_indexer\u001b[1;34m()\u001b[0m\n",
      "File \u001b[1;32m~\\anaconda3\\envs\\tf2.4\\lib\\site-packages\\pandas\\_libs\\index.pyx:107\u001b[0m, in \u001b[0;36mpandas._libs.index._unpack_bool_indexer\u001b[1;34m()\u001b[0m\n",
      "\u001b[1;31mKeyError\u001b[0m: 248",
      "\nThe above exception was the direct cause of the following exception:\n",
      "\u001b[1;31mKeyError\u001b[0m                                  Traceback (most recent call last)",
      "Input \u001b[1;32mIn [178]\u001b[0m, in \u001b[0;36m<cell line: 1>\u001b[1;34m()\u001b[0m\n\u001b[0;32m      1\u001b[0m \u001b[38;5;28;01mfor\u001b[39;00m i, predict \u001b[38;5;129;01min\u001b[39;00m \u001b[38;5;28menumerate\u001b[39m(predicts):\n\u001b[0;32m      2\u001b[0m     \u001b[38;5;28;01mif\u001b[39;00m predict \u001b[38;5;241m!=\u001b[39m gold[i]:\n\u001b[1;32m----> 3\u001b[0m         \u001b[38;5;28mprint\u001b[39m(\u001b[43mdf\u001b[49m\u001b[43m[\u001b[49m\u001b[38;5;124;43m'\u001b[39;49m\u001b[38;5;124;43mtext\u001b[39;49m\u001b[38;5;124;43m'\u001b[39;49m\u001b[43m]\u001b[49m\u001b[43m[\u001b[49m\u001b[43mi\u001b[49m\u001b[43m]\u001b[49m)\n",
      "File \u001b[1;32m~\\anaconda3\\envs\\tf2.4\\lib\\site-packages\\pandas\\core\\series.py:958\u001b[0m, in \u001b[0;36mSeries.__getitem__\u001b[1;34m(self, key)\u001b[0m\n\u001b[0;32m    955\u001b[0m     \u001b[38;5;28;01mreturn\u001b[39;00m \u001b[38;5;28mself\u001b[39m\u001b[38;5;241m.\u001b[39m_values[key]\n\u001b[0;32m    957\u001b[0m \u001b[38;5;28;01melif\u001b[39;00m key_is_scalar:\n\u001b[1;32m--> 958\u001b[0m     \u001b[38;5;28;01mreturn\u001b[39;00m \u001b[38;5;28;43mself\u001b[39;49m\u001b[38;5;241;43m.\u001b[39;49m\u001b[43m_get_value\u001b[49m\u001b[43m(\u001b[49m\u001b[43mkey\u001b[49m\u001b[43m)\u001b[49m\n\u001b[0;32m    960\u001b[0m \u001b[38;5;28;01mif\u001b[39;00m is_hashable(key):\n\u001b[0;32m    961\u001b[0m     \u001b[38;5;66;03m# Otherwise index.get_value will raise InvalidIndexError\u001b[39;00m\n\u001b[0;32m    962\u001b[0m     \u001b[38;5;28;01mtry\u001b[39;00m:\n\u001b[0;32m    963\u001b[0m         \u001b[38;5;66;03m# For labels that don't resolve as scalars like tuples and frozensets\u001b[39;00m\n",
      "File \u001b[1;32m~\\anaconda3\\envs\\tf2.4\\lib\\site-packages\\pandas\\core\\series.py:1069\u001b[0m, in \u001b[0;36mSeries._get_value\u001b[1;34m(self, label, takeable)\u001b[0m\n\u001b[0;32m   1066\u001b[0m     \u001b[38;5;28;01mreturn\u001b[39;00m \u001b[38;5;28mself\u001b[39m\u001b[38;5;241m.\u001b[39m_values[label]\n\u001b[0;32m   1068\u001b[0m \u001b[38;5;66;03m# Similar to Index.get_value, but we do not fall back to positional\u001b[39;00m\n\u001b[1;32m-> 1069\u001b[0m loc \u001b[38;5;241m=\u001b[39m \u001b[38;5;28;43mself\u001b[39;49m\u001b[38;5;241;43m.\u001b[39;49m\u001b[43mindex\u001b[49m\u001b[38;5;241;43m.\u001b[39;49m\u001b[43mget_loc\u001b[49m\u001b[43m(\u001b[49m\u001b[43mlabel\u001b[49m\u001b[43m)\u001b[49m\n\u001b[0;32m   1070\u001b[0m \u001b[38;5;28;01mreturn\u001b[39;00m \u001b[38;5;28mself\u001b[39m\u001b[38;5;241m.\u001b[39mindex\u001b[38;5;241m.\u001b[39m_get_values_for_loc(\u001b[38;5;28mself\u001b[39m, loc, label)\n",
      "File \u001b[1;32m~\\anaconda3\\envs\\tf2.4\\lib\\site-packages\\pandas\\core\\indexes\\base.py:3623\u001b[0m, in \u001b[0;36mIndex.get_loc\u001b[1;34m(self, key, method, tolerance)\u001b[0m\n\u001b[0;32m   3621\u001b[0m     \u001b[38;5;28;01mreturn\u001b[39;00m \u001b[38;5;28mself\u001b[39m\u001b[38;5;241m.\u001b[39m_engine\u001b[38;5;241m.\u001b[39mget_loc(casted_key)\n\u001b[0;32m   3622\u001b[0m \u001b[38;5;28;01mexcept\u001b[39;00m \u001b[38;5;167;01mKeyError\u001b[39;00m \u001b[38;5;28;01mas\u001b[39;00m err:\n\u001b[1;32m-> 3623\u001b[0m     \u001b[38;5;28;01mraise\u001b[39;00m \u001b[38;5;167;01mKeyError\u001b[39;00m(key) \u001b[38;5;28;01mfrom\u001b[39;00m \u001b[38;5;21;01merr\u001b[39;00m\n\u001b[0;32m   3624\u001b[0m \u001b[38;5;28;01mexcept\u001b[39;00m \u001b[38;5;167;01mTypeError\u001b[39;00m:\n\u001b[0;32m   3625\u001b[0m     \u001b[38;5;66;03m# If we have a listlike key, _check_indexing_error will raise\u001b[39;00m\n\u001b[0;32m   3626\u001b[0m     \u001b[38;5;66;03m#  InvalidIndexError. Otherwise we fall through and re-raise\u001b[39;00m\n\u001b[0;32m   3627\u001b[0m     \u001b[38;5;66;03m#  the TypeError.\u001b[39;00m\n\u001b[0;32m   3628\u001b[0m     \u001b[38;5;28mself\u001b[39m\u001b[38;5;241m.\u001b[39m_check_indexing_error(key)\n",
      "\u001b[1;31mKeyError\u001b[0m: 248"
     ]
    }
   ],
   "source": [
    "for i, predict in enumerate(predicts):\n",
    "    if predict != gold[i]:\n",
    "        print(df['text'][i])"
   ]
  }
 ],
 "metadata": {
  "kernelspec": {
   "display_name": "Python 3 (ipykernel)",
   "language": "python",
   "name": "python3"
  },
  "language_info": {
   "codemirror_mode": {
    "name": "ipython",
    "version": 3
   },
   "file_extension": ".py",
   "mimetype": "text/x-python",
   "name": "python",
   "nbconvert_exporter": "python",
   "pygments_lexer": "ipython3",
   "version": "3.8.0"
  }
 },
 "nbformat": 4,
 "nbformat_minor": 5
}
