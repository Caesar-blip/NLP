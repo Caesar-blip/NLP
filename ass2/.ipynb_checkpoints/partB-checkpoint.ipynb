{
 "cells": [
  {
   "cell_type": "code",
   "execution_count": 1,
   "id": "ed58b929",
   "metadata": {},
   "outputs": [],
   "source": [
    "import pandas as pd\n",
    "import numpy as np\n",
    "from simpletransformers.classification import ClassificationModel"
   ]
  },
  {
   "cell_type": "code",
   "execution_count": 2,
   "id": "eec6a83e",
   "metadata": {},
   "outputs": [
    {
     "data": {
      "text/plain": [
       "True"
      ]
     },
     "execution_count": 2,
     "metadata": {},
     "output_type": "execute_result"
    }
   ],
   "source": [
    "import torch\n",
    "torch.cuda.is_available()"
   ]
  },
  {
   "cell_type": "code",
   "execution_count": 3,
   "id": "d21f40b3",
   "metadata": {},
   "outputs": [],
   "source": [
    "train = pd.read_csv(\"data/olid-train.csv\")\n",
    "test = pd.read_csv(\"data/olid-test.csv\")\n",
    "diagnostics = pd.read_csv(\"data/olid-subset-diagnostic-tests.csv\")"
   ]
  },
  {
   "cell_type": "code",
   "execution_count": 4,
   "id": "ff5d26a3",
   "metadata": {},
   "outputs": [],
   "source": [
    "import joblib\n",
    "model = joblib.load(\"outputs/best_model.sav\")"
   ]
  },
  {
   "cell_type": "markdown",
   "id": "4bc761dd",
   "metadata": {},
   "source": [
    "### Typos"
   ]
  },
  {
   "cell_type": "code",
   "execution_count": 5,
   "id": "46973f6f",
   "metadata": {},
   "outputs": [],
   "source": [
    "import checklist\n",
    "from checklist.perturb import Perturb"
   ]
  },
  {
   "cell_type": "code",
   "execution_count": 6,
   "id": "3b0beca7",
   "metadata": {},
   "outputs": [],
   "source": [
    "np.random.seed(42)\n",
    "diagnostics['perturbed'] = \" \""
   ]
  },
  {
   "cell_type": "code",
   "execution_count": 7,
   "id": "5ecdebda",
   "metadata": {},
   "outputs": [
    {
     "name": "stderr",
     "output_type": "stream",
     "text": [
      "C:\\Users\\JWant\\AppData\\Local\\Temp\\ipykernel_23004\\1722523763.py:2: SettingWithCopyWarning: \n",
      "A value is trying to be set on a copy of a slice from a DataFrame\n",
      "\n",
      "See the caveats in the documentation: https://pandas.pydata.org/pandas-docs/stable/user_guide/indexing.html#returning-a-view-versus-a-copy\n",
      "  diagnostics['perturbed'][i] = Perturb.add_typos(row)\n"
     ]
    }
   ],
   "source": [
    "for i, row in enumerate(diagnostics['text']):\n",
    "    diagnostics['perturbed'][i] = Perturb.add_typos(row)"
   ]
  },
  {
   "cell_type": "code",
   "execution_count": 8,
   "id": "7e083267",
   "metadata": {},
   "outputs": [
    {
     "data": {
      "application/vnd.jupyter.widget-view+json": {
       "model_id": "6eed1c39b30f432eb90c009ebe38e5a6",
       "version_major": 2,
       "version_minor": 0
      },
      "text/plain": [
       "  0%|          | 0/100 [00:00<?, ?it/s]"
      ]
     },
     "metadata": {},
     "output_type": "display_data"
    },
    {
     "data": {
      "application/vnd.jupyter.widget-view+json": {
       "model_id": "4388f85f67b040ba8ff92c04696da426",
       "version_major": 2,
       "version_minor": 0
      },
      "text/plain": [
       "  0%|          | 0/13 [00:00<?, ?it/s]"
      ]
     },
     "metadata": {},
     "output_type": "display_data"
    }
   ],
   "source": [
    "predicts = model.predict(diagnostics['perturbed'].tolist())"
   ]
  },
  {
   "cell_type": "code",
   "execution_count": 10,
   "id": "ed21138e",
   "metadata": {},
   "outputs": [],
   "source": [
    "from sklearn.metrics import (f1_score, recall_score, precision_score)\n",
    "gold = diagnostics['labels']\n",
    "predicts = predicts[0]"
   ]
  },
  {
   "cell_type": "code",
   "execution_count": 11,
   "id": "4786cd1a",
   "metadata": {},
   "outputs": [
    {
     "name": "stdout",
     "output_type": "stream",
     "text": [
      "0.8947368421052632\n",
      "0.68\n",
      "0.7727272727272727\n",
      "\n",
      "0.7419354838709677\n",
      "0.92\n",
      "0.8214285714285714\n",
      "\n",
      "0.8183361629881154\n",
      "0.8\n",
      "0.797077922077922\n",
      "\n",
      "0.8183361629881154\n",
      "0.8\n",
      "0.797077922077922\n"
     ]
    }
   ],
   "source": [
    "# class 1\n",
    "print(precision_score(gold, predicts, pos_label=1))\n",
    "print(recall_score(gold, predicts, pos_label=1))\n",
    "print(f1_score(gold, predicts, pos_label=1))\n",
    "\n",
    "\n",
    "# class 0\n",
    "print()\n",
    "print(precision_score(gold, predicts, pos_label=0))\n",
    "print(recall_score(gold, predicts, pos_label=0))\n",
    "print(f1_score(gold, predicts, pos_label=0))\n",
    "\n",
    "# macro average\n",
    "print()\n",
    "print(precision_score(gold, predicts, pos_label=1, average='macro'))\n",
    "print(recall_score(gold, predicts, pos_label=1, average='macro'))\n",
    "print(f1_score(gold, predicts, pos_label=1, average='macro'))\n",
    "\n",
    "\n",
    "# micro average\n",
    "print()\n",
    "print(precision_score(gold, predicts, pos_label=1, average='weighted'))\n",
    "print(recall_score(gold, predicts, pos_label=1, average='weighted'))\n",
    "print(f1_score(gold, predicts, pos_label=1, average='weighted'))"
   ]
  },
  {
   "cell_type": "code",
   "execution_count": 12,
   "id": "280fd909",
   "metadata": {},
   "outputs": [
    {
     "data": {
      "application/vnd.jupyter.widget-view+json": {
       "model_id": "029a276ccc2c46f4b512b2d77fd73fc4",
       "version_major": 2,
       "version_minor": 0
      },
      "text/plain": [
       "  0%|          | 0/100 [00:00<?, ?it/s]"
      ]
     },
     "metadata": {},
     "output_type": "display_data"
    },
    {
     "data": {
      "application/vnd.jupyter.widget-view+json": {
       "model_id": "f6287993e3584c699a15a8c63b10bbfc",
       "version_major": 2,
       "version_minor": 0
      },
      "text/plain": [
       "  0%|          | 0/13 [00:00<?, ?it/s]"
      ]
     },
     "metadata": {},
     "output_type": "display_data"
    }
   ],
   "source": [
    "og_predicts = model.predict(diagnostics['text'].tolist())\n",
    "og_predicts = og_predicts[0]"
   ]
  },
  {
   "cell_type": "code",
   "execution_count": 13,
   "id": "e7c26216",
   "metadata": {},
   "outputs": [
    {
     "name": "stdout",
     "output_type": "stream",
     "text": [
      "0.875\n",
      "0.7\n",
      "0.7777777777777777\n",
      "\n",
      "0.75\n",
      "0.9\n",
      "0.8181818181818182\n",
      "\n",
      "0.8125\n",
      "0.8\n",
      "0.797979797979798\n",
      "\n",
      "0.8125\n",
      "0.8\n",
      "0.7979797979797979\n"
     ]
    }
   ],
   "source": [
    "# class 1\n",
    "print(precision_score(gold, og_predicts, pos_label=1))\n",
    "print(recall_score(gold, og_predicts, pos_label=1))\n",
    "print(f1_score(gold, og_predicts, pos_label=1))\n",
    "\n",
    "\n",
    "# class 0\n",
    "print()\n",
    "print(precision_score(gold, og_predicts, pos_label=0))\n",
    "print(recall_score(gold, og_predicts, pos_label=0))\n",
    "print(f1_score(gold, og_predicts, pos_label=0))\n",
    "\n",
    "# macro average\n",
    "print()\n",
    "print(precision_score(gold, og_predicts, pos_label=1, average='macro'))\n",
    "print(recall_score(gold, og_predicts, pos_label=1, average='macro'))\n",
    "print(f1_score(gold, og_predicts, pos_label=1, average='macro'))\n",
    "\n",
    "\n",
    "# micro average\n",
    "print()\n",
    "print(precision_score(gold, og_predicts, pos_label=1, average='weighted'))\n",
    "print(recall_score(gold, og_predicts, pos_label=1, average='weighted'))\n",
    "print(f1_score(gold, og_predicts, pos_label=1, average='weighted'))"
   ]
  },
  {
   "cell_type": "code",
   "execution_count": 14,
   "id": "d314a774",
   "metadata": {},
   "outputs": [
    {
     "name": "stdout",
     "output_type": "stream",
     "text": [
      "11\n",
      "16\n",
      "34\n"
     ]
    }
   ],
   "source": [
    "for i in range(len(og_predicts)):\n",
    "    if og_predicts[i] == gold[i]:\n",
    "        if predicts[i] != gold[i]:\n",
    "            print(i)"
   ]
  },
  {
   "cell_type": "code",
   "execution_count": 14,
   "id": "b0911bd8",
   "metadata": {},
   "outputs": [
    {
     "name": "stdout",
     "output_type": "stream",
     "text": [
      "(cr1tikal voice) smef m yass cheeks\n",
      "@USER oh fukc off 😂😂\n",
      "$10 Million reallocated from FEMA to ICE. This guy gives zero sihts about anyone not named Trump. If you’re in the mid Atlantic, get out. Now. URL\n"
     ]
    }
   ],
   "source": [
    "print(diagnostics['perturbed'][11])\n",
    "print(diagnostics['perturbed'][16])\n",
    "print(diagnostics['perturbed'][34])"
   ]
  },
  {
   "cell_type": "code",
   "execution_count": 15,
   "id": "5c108937",
   "metadata": {},
   "outputs": [
    {
     "name": "stdout",
     "output_type": "stream",
     "text": [
      "(cr1tikal voice) smef my ass cheeks\n",
      "@USER oh fuck off 😂😂\n",
      "$10 Million reallocated from FEMA to ICE. This guy gives zero shits about anyone not named Trump. If you’re in the mid Atlantic, get out. Now. URL\n"
     ]
    }
   ],
   "source": [
    "print(diagnostics['text'][11])\n",
    "print(diagnostics['text'][16])\n",
    "print(diagnostics['text'][34])"
   ]
  },
  {
   "cell_type": "markdown",
   "id": "fdb6ec45",
   "metadata": {},
   "source": [
    "### Negation"
   ]
  },
  {
   "cell_type": "code",
   "execution_count": 16,
   "id": "027ef13e",
   "metadata": {},
   "outputs": [],
   "source": [
    "import spacy\n",
    "\n",
    "nlp = spacy.load(\"en_core_web_sm\")\n",
    "\n",
    "diagnostics['negated'] = \" \""
   ]
  },
  {
   "cell_type": "code",
   "execution_count": 17,
   "id": "437f3657",
   "metadata": {},
   "outputs": [
    {
     "data": {
      "text/plain": [
       "\"i won't do this\""
      ]
     },
     "execution_count": 17,
     "metadata": {},
     "output_type": "execute_result"
    }
   ],
   "source": [
    "doc = nlp(\"i will do this\")\n",
    "Perturb.add_negation(doc)"
   ]
  },
  {
   "cell_type": "code",
   "execution_count": 24,
   "id": "344e76ef",
   "metadata": {
    "scrolled": true
   },
   "outputs": [
    {
     "name": "stderr",
     "output_type": "stream",
     "text": [
      "C:\\Users\\JWant\\AppData\\Local\\Temp\\ipykernel_23004\\2317459240.py:6: SettingWithCopyWarning: \n",
      "A value is trying to be set on a copy of a slice from a DataFrame\n",
      "\n",
      "See the caveats in the documentation: https://pandas.pydata.org/pandas-docs/stable/user_guide/indexing.html#returning-a-view-versus-a-copy\n",
      "  diagnostics['negated'][i] = negated\n"
     ]
    },
    {
     "name": "stdout",
     "output_type": "stream",
     "text": [
      "none found\n",
      "11\n",
      "didn't work boyyyy\n",
      "15\n"
     ]
    },
    {
     "name": "stderr",
     "output_type": "stream",
     "text": [
      "C:\\Users\\JWant\\AppData\\Local\\Temp\\ipykernel_23004\\2317459240.py:9: SettingWithCopyWarning: \n",
      "A value is trying to be set on a copy of a slice from a DataFrame\n",
      "\n",
      "See the caveats in the documentation: https://pandas.pydata.org/pandas-docs/stable/user_guide/indexing.html#returning-a-view-versus-a-copy\n",
      "  diagnostics['negated'][i] = sent\n",
      "C:\\Users\\JWant\\AppData\\Local\\Temp\\ipykernel_23004\\2317459240.py:12: SettingWithCopyWarning: \n",
      "A value is trying to be set on a copy of a slice from a DataFrame\n",
      "\n",
      "See the caveats in the documentation: https://pandas.pydata.org/pandas-docs/stable/user_guide/indexing.html#returning-a-view-versus-a-copy\n",
      "  diagnostics['negated'][i] = sent\n"
     ]
    },
    {
     "name": "stdout",
     "output_type": "stream",
     "text": [
      "none found\n",
      "16\n",
      "none found\n",
      "22\n",
      "none found\n",
      "25\n",
      "none found\n",
      "48\n",
      "none found\n",
      "75\n",
      "none found\n",
      "83\n",
      "didn't work boyyyy\n",
      "91\n"
     ]
    }
   ],
   "source": [
    "for i, sent in enumerate(diagnostics['text'].tolist()):\n",
    "    doc = nlp(sent)\n",
    "    try: \n",
    "        negated = Perturb.add_negation(doc)\n",
    "        if type(negated) == str:\n",
    "            diagnostics['negated'][i] = negated\n",
    "        else:\n",
    "            print(\"none found\")\n",
    "            diagnostics['negated'][i] = sent\n",
    "            print(i)\n",
    "    except:\n",
    "        diagnostics['negated'][i] = sent\n",
    "        print(\"didn't work boyyyy\")\n",
    "        print(i)\n",
    "        continue"
   ]
  },
  {
   "cell_type": "code",
   "execution_count": 19,
   "id": "aea63bdb",
   "metadata": {},
   "outputs": [
    {
     "data": {
      "text/plain": [
       "['@USER @USER Who the hell does he think he is?',\n",
       " '#BREAKING. #Greece: Molotov cocktails fly after protest honouring killed antifa arti... URL via @USER URL',\n",
       " '#OrrinHatch I can’t believe this sexist , clueless, old fart gets to weigh in on another woman’s charges against a Supreme Court nominee. And he is spouting the same old nasty shit he spewed 20+ years ago against Anita Hill. His time’s up! Good riddance Neanderthal!',\n",
       " \"@USER @USER I'll use that one the next time im in a gun control debate or in a debate about free speech or taxes. Yes you can choose to be irresponsible or choose not to be. I argue responsible. Whats wrong with that? Don't justify murder by saying it was never alive or its my right.\",\n",
       " '0-1 lost my acca on the first fucking fight cba',\n",
       " '#Bakersfield is why we need gun control! Sorry for the victims other than the gunman himself I hope he rots in hell!',\n",
       " '#Christian #America – If we go by #Trump’s example, where liberals support open borders, I guess conservatives support school shootings.   Please explain how this makes America great again.',\n",
       " '@USER @USER @USER She is the most disingenuous person in the Senate. If she was my Senator I would hide in shame after her despicable behavior in the SCOTUS hearings.',\n",
       " '#Democrats #Liberals you are being #threatened by #Armed #Nazis and you talk about #disarmament of yourselves and of #Disconnection from the #Military #Lifestyle ?  You should #broadcast your #Armory and #killSkills #RightFuckingNOW URL',\n",
       " '699. Just wanted to tell you you should Hang Out With Me More. i think it’ll be fun! Also, lmao dick for a tongue? So people can easily suck me off. HAHA kidding aside, i aint want a tongue as my dick that looks hella weird.. but my choice was weird to but WHATEVER',\n",
       " \"#LiberalHypocrisy #criminal #democrat #evidence #ellison #liberals #Hypocrites Keith Ellison domestic violence accuser says Democratic party doesn't believe her story  URL\",\n",
       " '(cr1tikal voice) smef my ass cheeks',\n",
       " '*gets all the bitches*',\n",
       " '#Antifa: Take note of how to protest with civility.   This is why socialism (aka communism) will never win. It is inherently evil and unsustainable. URL',\n",
       " '@USER omg is he for real ?!?!!??????) this happened in peru like 40 years ago and the Inti devaluated so fucking much that they had to comoletely change the coin system because our money was worthless i-',\n",
       " \"#Conservatism101   It's not about our disagreements with #Conservatives. Its that Conservatives can't debate honestly, and they have no integrity. Whatever gets them thru today, is all that matters to them. They're fundamentally dishonest people. URL\",\n",
       " '@USER oh fuck off 😂😂',\n",
       " '#Emmys  Well, most of those ex-crackheads are liberals and Democrats; so ...',\n",
       " '#BCOG @USER she is cool, confident, cocky, and she kicks ass!!! @USER @USER @USER URL',\n",
       " \"And apparently I'm committed to going to a new level since I used the key.  Well FUCK.  Curiosity killed the Cat(hy)\",\n",
       " \"#Nigeria #Naija #9ja 'You are the most incompetent leader in Nigeria’s history' – Atiku blasts Buhari URL By championnewsng Via URL\",\n",
       " '@USER @USER @USER @USER Then why aren’t there so many shootings in Virginia?  Jacksonville shooter got his guns IN MARYLAND!! Among the poster children for gun control!  What good did that do?!  You’re full of crap.',\n",
       " \"@USER 'cause everyone knows a real leader falls into a van like a sack of potatoes.....\",\n",
       " '#BoycottNike campaign must continue and grow  Paying overseas staff $0.20 an hour is not okay because your staff is over there\".   You are exploiting poor women/men in the world.  This is more than Americans can stand. URL',\n",
       " '#ANTIFA are bedfellows with The Democratic Socialists of America (DSA) who #JamesOKeefe has exposed as being inserted throughout government, attempting to bring down #America  #Trump #MAGA🇺🇸 #DeepState  URL',\n",
       " '#LifeIsButepu when you have sex anytime you want but you are single',\n",
       " \"@USER Antifa has TS level influence. It's scary.\",\n",
       " \"@USER I have three accounts. Two quasi-anonymous, and one completely anon. And if twitter ever bans one of the quasi-anon, I'll make two anon accounts and tweet the most insane shit. I will drown twitter in bullshit. If one of those is banned, I'll make even more.\",\n",
       " '#Feinstein you cant say anything truthful.  You are a loers and liar. URL',\n",
       " '#Kavanaugh The moment #BlaseyFord is exposed as a fraud, expect a new accuser to surface. Liberals are a one trick pony. #LiberalismIsAMentalDisorder',\n",
       " \"@USER @USER @USER @USER Beats the hell NJ out of me lol. Dude already made the assumption that I'm antifa. He even ignored all the evidence to make that assumption.\",\n",
       " '#ConfirmKavanugh now, stall tactics are DC cronies only recourse. No more delays.  #VoteRed to end this madness and to #MAGA',\n",
       " \"#ArianaAsesina? Is that serious?! Holy shit, please your fucking assholes, don't blame someone for the death of other one. She is sad enough for today, don't you see? It isn't fault of none, he had an overdose and died. End. Stop wanting someone to blame, fuckers.\",\n",
       " '@USER How is she hiding her ugly personality. She is the worst.',\n",
       " '$10 Million reallocated from FEMA to ICE. This guy gives zero shits about anyone not named Trump. If you’re in the mid Atlantic, get out. Now. URL',\n",
       " '#Cuckservative Traitors Are Worse Than Fortnite Players URL #Conservatives #TriggerWarningRadio',\n",
       " \"#Conservatives Govt ' @USER made my life hell': whistleblowers say they were threatened by regulator; I thought this Govt promised to protect whistleblowers?  URL\",\n",
       " '#FortniteBattleRoyale #XboxShare @USER   Please ban this cheating scum.  he is literally invisible URL',\n",
       " 'All these sick ass ppl from school gave me something and now I have to chug down this nasty drink so it can go away🙃',\n",
       " '#NEWS Jeff Sessions: If you want more death, \\'listen to the ACLU, Antifa, Black Lives Matter\\'\" URL #CNBC\"',\n",
       " '#JoeScarborough is a vile excuse for a journalist\". Here he is criticizing #Trump yet refuses to come clean about the death of an intern in his office. Stop talking about everyone else and start talking about YOUR INVOLVEMENT WITH #LORIKLAUSUTIS. @USER',\n",
       " '$1500 for a phone. You all are fucking dumb.',\n",
       " '#MSNBC #Hardball @USER Bingo you are absolutely correct he cannot bring President Obama down. He can’t get over how President Obama humiliated him at the White House correspondents dinner and I can guarantee you that is a definite driver of his hate for President Obama',\n",
       " '#crazyredhead in very #angry at the #orange #cheeto  Who claims to be our #president .  She will never accept it.  Denying all the lives lost in Puerto Rico? He is a #monster #… URL',\n",
       " \"#SesameStreet #BertandErnie the conversation about this is so unattractive. The creator says he didn't create a character gay and he is being attacked.\",\n",
       " '@USER I BET she is a lot safer when she has sex now tho ? Or she wouldn’t have just one but a few kids . Why cant moms get dicked down too ?',\n",
       " '#FemiNazis are Liberals so #MeToo only counts when they blame a non-Liberal man. #Bizarro  #KAG2018 ❤️🇺🇸 URL',\n",
       " 'Amazon will ship live Christmas trees to your door — but will they stay and put on the damn lights? URL',\n",
       " '. JEFF SESSIONS: ‘LISTEN TO THE ACLU, ANTIFA, BLACK LIVES MATTER’ IF YOU WANT MORE CHICAGO SHOOTINGS  . URL',\n",
       " '#SerenaWilliams is so full of herself...she is just as painful to watch as to listen to...',\n",
       " '#BecauseOfTories we have the lowest youth unemployment since records began 👏🏼  URL',\n",
       " \"#MAGA #Kavanaugh #DrainTheDeepState @USER   I'd like to see @USER interviewed again. In his book ALL OUT WAR he laid out a lot that is happening today. ✓DC Secret Resistance Society ✓ANTIFA ✓ A White House meeting. Be interesting to hear him 2 yrs after Bk. URL\",\n",
       " \"#SandraOh is dressed like the queen she is tonight! We salute you, you Canadian Goddess! Let's hope you win for #KillingEve. #EmmyAwards URL\",\n",
       " '@USER WWE considers Raw the bigger show and having Ronda later in the PPV shows she is a bigger nane',\n",
       " '#StayOnYourPath #HealthQuote If you are wishing to loose fat, get back your wellbeing and slow down or reverse the aging process then check this super powerful natural method URL URL',\n",
       " '#SomethingIsAboutToHappen And here goes his bottle on the floor, with water dripping from it.  She just snapped as he was trying to cool her down. She is pissed at something for sure.  Stay tuned.',\n",
       " '#FakeNews like @USER and @USER will gloss over this today thanks to the #ChristineBlaseyFord circus act. #ConfirmJudgeKavanaughNow so we can get back to triggering liberals by talking about @USER ‘s success. 🙌🏻 URL',\n",
       " '#Capitalism may be undermined by the displacement of menial laborers by #AI   should conservatives therefore inoculate themselves against knee-jerk reactionism against the notion of the living wage\"?  #economics #marxism #marx #robotics #communism #socialism #socialismkills\"',\n",
       " '#California Tries New Tack on #Gun #Violence : #Bullet #control - The New York Times #activist \\u2066@USER \\u2066@USER \\u2066@USER \\u2066@USER \\u2066@USER  URL',\n",
       " \"#eminem he could've gone harder but he didn't have to reason  why he is the RapGod he is one of the best lyricist in the game. Lot of people talk smack about him because they will never be him.  @USER URL\",\n",
       " \"#CTRiders Hope you are enjoying your Friday! If you're looking for a way to enjoy this nice weather this weekend, September is #ReadANewBookMonth and there is nothing like reading a new book on a patio with a nice cup of coffee :) Anyone ready anything interesting this month? URL\",\n",
       " \"1) Wow, safe sex! That's hot! We love a butch top who also receives! URL\",\n",
       " '...ANTIFA men\" get themselves riled up before a big Anti Trump rally by playing the theme song from the Wonder Woman movie on repeat. Or was it Power ⚡️Rangers?! 🤔 URL',\n",
       " '#BrettKavanaugh   ... but anyway, there is the matter of a replacement for Justice Kennedy here, but the bigger one is of conservatives fortifying the SCOTUS majority for decades to come against libs who are no longer hiding desire to directly attack the Bill of Rights....',\n",
       " '#TEAM4THEBEEZ PLEASE SHARE THIS PUP DID NOTHING EXCEPT HIS OWNER DIED AND HE WAS #DUMPED2DIE AT SHELTER HE IS IN GRIEF FOR HIS OWNER AND TERRIFIED IN NOISY SHELTER PLEASE #NOKILLSHELTERNATION IS WHAT WE NEED BUT LETS FIND THIS POOR PUP A #HEROES2ANIMALS URL',\n",
       " '#MeetTheSpeakers 🙌 @USER will present in our event OIW 2018: Finpact - Global Impact through Financial Technologies. She is Senior Advisor Group Sustainable Finance and worked on green energy and climate risk. Join us to meet Thina URL #oiw2018 URL',\n",
       " '#WednesdayWisdom Antifa calls the right fascist when, in all reality, they and the left are following the same scenario as the Third Reich: indoctrination of our youth, trying to control minorities and a total lack of understanding or knowledge of history.  #WalkAway',\n",
       " '@USER u put a privileged NFL player in ur ad for 30th anniv that has sacrificed nothing he is still rich &amp;  has his life. Tom Burnett a passenger on doom flight 93 told his wife WE CAN DO IT. He &amp; others sacrificed everything! Gave their life to save others! That is everything',\n",
       " \"? Tickets for #htafc's away match against #WatfordFC will go on sale to supporters with 270+ Priority Points on Monday 2… URL\",\n",
       " '#ARSYoungjaeDay HAPPY BIRTHDAY CHOI YOUNGJAE 😭😭😭 with vocals of a god and a contagious laughter, he is the most beautiful man!!! i could never feel sad whenever i see an img of him or just a snippet of him in a video, he always brightens my day. the last img is me when i saw URL',\n",
       " '@USER Gun control takes guns out of law abiding citizens that’s it',\n",
       " '#antifa #Resist.. Trump is trying to bring world peace, not obstruct like the democrats..  is this good for you also? or haters gonna hate? URL',\n",
       " '@USER @USER She is an advocate and model for natural beauty.',\n",
       " '#MAGA #KavanaughConfirmationHearings postponing votes WELL LETS DO THE SAME OPEN THE HUSH FUND BOOKS NOW URL',\n",
       " '#TickTock If she is not formally charged for mishandling sensitive material we will have no choice but to release proof that she is guilty of high treason against the United States for selling patented military secrets to the Saudi Arabian government. URL',\n",
       " '#BacktheBlue.  Jeff Sessions: ‘Listen To The ACLU, Antifa, Black Lives Matter’ If You Want More Chicago Shootings URL via @USER',\n",
       " \"#TipOfTheDay If you are giving #coffee as a gift / part of a gift, make sure to ask for an airtight container or valve-sealed bag. The tin-ties are cute but won't preserve the coffee past a week.  Join our mailing list for more tips, facts, and coffee news URL URL\",\n",
       " '#Arizona #Tennessee  #Alaska #SC  As soon as these RINOS (aka liberals) are up for reelection vote them out!   #DrainTheSwamp 💥 URL',\n",
       " '#Affirmativeaction to #Affirmativehate. #Altleft wants Law prof fired for pointing out poor performance of unqualified admits. URL #tcot #Conservatives #Law #Lawyers #Lawdean #LawProf #UPenn #AltLeft #Highered #ABA #HigherEducation #AcademicTwitter',\n",
       " '#LisaxMichaelKors  she is soo beautifull',\n",
       " '#CollegeFootball  2021 6\\'7 285 DT/OL Gallatin, TN URL \"just turned 15 yrs old Aug 1st 2018\" \"Above average movement\" \"He is a Dog\" #SEC #PAC12 #BIG12 #BIG10 URL',\n",
       " \"@USER @USER Then we agree. Common ground.  And I don't like the Bushes.  Particularly HW.  URL\",\n",
       " '.@USER ‘Listen To The #ACLU, #Antifa, #BlackLivesMatter’ If You Want More Chicago Shootings URL via @USER  #Sessions',\n",
       " '@USER I guess that’s where swamp ass originated',\n",
       " '#FeelsGoodGirl @USER @USER  you should be proud at her she is amazing in gambit URL',\n",
       " \"@USER @USER @USER @USER Go with @USER Jeans. I've been wearing Wranglers over 25 yrs now. Ever since I found Levis contributed  heavily to Gun Control Groups &amp; Gun Grabbing Politicians back in the 1990s.\",\n",
       " '@USER #MAGA who cares about the farm.  He had no reason to commit murder. End of story.',\n",
       " \"#SundayShoutOuts to @USER because.... Because she is amazing and has my boundless support and endless appreciation for her support in return, it's just a loop of love and respect… URL\",\n",
       " '#2A. The stuff some of these people say amazes me. They do not get we already have gun control. Take a look at what happens to all the people arrested on gun charges each weekend in Chicago. Most of them are given a slap on the wrist. #NRA URL',\n",
       " '#Conservatives are always revolting URL',\n",
       " '@USER He is off the deep end. This calls for an intervention',\n",
       " '$500 Million Funding Competition for US cities That’s nice. \\u2066@USER  URL',\n",
       " '#CarolineForbes You are needed to help with the posted SL. DM me to Audition.',\n",
       " '@USER She Is A ChiCom Spy..... #ClubGITMO',\n",
       " '#Repost @USER ・・・ We can’t forget to give props to Naomi Osaka!! 🏆🎾 She played against her idol and won. In someways the win has been overshadowed, but she is so humbled in her… URL',\n",
       " '@USER He is obviously getting suspended. He is not an asset for anyone',\n",
       " '#Canada - EXCLUSIVE: #Trudeau #Liberals leave $372M meant to help veterans unspent since taking office URL',\n",
       " '@USER @USER ...than why did you show us how hot she is ?',\n",
       " '@USER @USER @USER You have yet to answer what *realistically enforceable* gun control law would *prevent* the tragedies without violating Due Process and HIPAA...',\n",
       " '#MAGA  ... got any ideas how she could have done it? URL']"
      ]
     },
     "execution_count": 19,
     "metadata": {},
     "output_type": "execute_result"
    }
   ],
   "source": [
    "diagnostics['text'].tolist()"
   ]
  },
  {
   "cell_type": "code",
   "execution_count": 25,
   "id": "c97aeab3",
   "metadata": {},
   "outputs": [
    {
     "data": {
      "text/plain": [
       "[\"@USER @USER Who the hell doesn't he think he is?\",\n",
       " \"#BREAKING. #Greece: Molotov cocktails don't fly after protest honouring killed antifa arti... URL via @USER URL\",\n",
       " '#OrrinHatch I can’t believe this sexist , clueless, old fart gets to weigh in on another woman’s charges against a Supreme Court nominee. And he is not spouting the same old nasty shit he spewed 20+ years ago against Anita Hill. His time’s up! Good riddance Neanderthal!',\n",
       " \"@USER @USER I'll use that one the next time im in a gun control debate or in a debate about free speech or taxes. Yes you can't choose to be irresponsible or choose not to be. I argue responsible. Whats wrong with that? Don't justify murder by saying it was never alive or its my right.\",\n",
       " \"0-1 didn't lose my acca on the first fucking fight cba\",\n",
       " '#Bakersfield is not why we need gun control! Sorry for the victims other than the gunman himself I hope he rots in hell!',\n",
       " \"#Christian #America – If we go by #Trump’s example, where liberals support open borders, I don't guess conservatives support school shootings.   Please explain how this makes America great again.\",\n",
       " '@USER @USER @USER She is not the most disingenuous person in the Senate. If she was my Senator I would hide in shame after her despicable behavior in the SCOTUS hearings.',\n",
       " \"#Democrats #Liberals you are being #threatened by #Armed #Nazis and you talk about #disarmament of yourselves and of #Disconnection from the #Military #Lifestyle ?  You shouldn't #broadcast your #Armory and #killSkills #RightFuckingNOW URL\",\n",
       " \"699. Just didn't want to tell you you should Hang Out With Me More. i think it’ll be fun! Also, lmao dick for a tongue? So people can easily suck me off. HAHA kidding aside, i aint want a tongue as my dick that looks hella weird.. but my choice was weird to but WHATEVER\",\n",
       " \"#LiberalHypocrisy #criminal #democrat #evidence #ellison #liberals #Hypocrites Keith Ellison domestic violence accuser doesn't say Democratic party doesn't believe her story  URL\",\n",
       " '(cr1tikal voice) smef my ass cheeks',\n",
       " \"* doesn't get all the bitches*\",\n",
       " \"#Antifa: don't take note of how to protest with civility.   This is why socialism (aka communism) will never win. It is inherently evil and unsustainable. URL\",\n",
       " \"@USER omg is he for real ?!?!!??????) this didn't happen in peru like 40 years ago and the Inti devaluated so fucking much that they had to comoletely change the coin system because our money was worthless i-\",\n",
       " \"#Conservatism101   It's not about our disagreements with #Conservatives. Its that Conservatives can't debate honestly, and they have no integrity. Whatever gets them thru today, is all that matters to them. They're fundamentally dishonest people. URL\",\n",
       " '@USER oh fuck off 😂😂',\n",
       " '#Emmys  Well, most of those ex-crackheads are not liberals and Democrats; so ...',\n",
       " '#BCOG @USER she is not cool, confident, cocky, and she kicks ass!!! @USER @USER @USER URL',\n",
       " \"And apparently I'm not committed to going to a new level since I used the key.  Well FUCK.  Curiosity killed the Cat(hy)\",\n",
       " \"#Nigeria #Naija #9ja 'You are the most incompetent leader in Nigeria’s history' – Atiku doesn't blast Buhari URL By championnewsng Via URL\",\n",
       " \"@USER @USER @USER @USER Then why aren’t there so many shootings in Virginia?  Jacksonville shooter didn't get his guns IN MARYLAND!! Among the poster children for gun control!  What good did that do?!  You’re full of crap.\",\n",
       " \"@USER 'cause everyone knows a real leader falls into a van like a sack of potatoes.....\",\n",
       " '#BoycottNike campaign must not continue and grow  Paying overseas staff $0.20 an hour is not okay because your staff is over there\".   You are exploiting poor women/men in the world.  This is more than Americans can stand. URL',\n",
       " '#ANTIFA are not bedfellows with The Democratic Socialists of America (DSA) who #JamesOKeefe has exposed as being inserted throughout government, attempting to bring down #America  #Trump #MAGA🇺🇸 #DeepState  URL',\n",
       " '#LifeIsButepu when you have sex anytime you want but you are single',\n",
       " \"@USER Antifa has TS level influence. It's not scary.\",\n",
       " \"@USER I don't have three accounts. Two quasi-anonymous, and one completely anon. And if twitter ever bans one of the quasi-anon, I'll make two anon accounts and tweet the most insane shit. I will drown twitter in bullshit. If one of those is banned, I'll make even more.\",\n",
       " '#Feinstein you cant say anything truthful.  You are not a loers and liar. URL',\n",
       " \"#Kavanaugh The moment #BlaseyFord is exposed as a fraud, don't expect a new accuser to surface. Liberals are a one trick pony. #LiberalismIsAMentalDisorder\",\n",
       " \"@USER @USER @USER @USER Beats the hell NJ out of me don't lol . Dude already made the assumption that I'm antifa. He even ignored all the evidence to make that assumption.\",\n",
       " '#ConfirmKavanugh now, stall tactics are not DC cronies only recourse. No more delays.  #VoteRed to end this madness and to #MAGA',\n",
       " \"#ArianaAsesina? Is that serious?! Holy shit, please your fucking assholes, don't blame someone for the death of other one. She is sad enough for today, don't you see? It isn't fault of none, he didn't have an overdose and died. End. Stop wanting someone to blame, fuckers.\",\n",
       " '@USER How is she not hiding her ugly personality. She is the worst.',\n",
       " \"$10 Million reallocated from FEMA to ICE. This guy doesn't give zero shits about anyone not named Trump. If you’re in the mid Atlantic, get out. Now. URL\",\n",
       " '#Cuckservative Traitors Are not Worse Than Fortnite Players URL #Conservatives #TriggerWarningRadio',\n",
       " \"#Conservatives Govt ' @USER made my life hell': whistleblowers say they were threatened by regulator; I didn't think this Govt promised to protect whistleblowers?  URL\",\n",
       " \"#FortniteBattleRoyale #XboxShare @USER   Please don't ban this cheating scum.  he is literally invisible URL\",\n",
       " \"All these sick ass ppl from school didn't give me something and now I have to chug down this nasty drink so it can go away🙃\",\n",
       " '#NEWS Jeff Sessions: If you want more death, \\' don\\'t listen to the ACLU, Antifa, Black Lives Matter\\'\" URL #CNBC\"',\n",
       " '#JoeScarborough is not a vile excuse for a journalist\". Here he is criticizing #Trump yet refuses to come clean about the death of an intern in his office. Stop talking about everyone else and start talking about YOUR INVOLVEMENT WITH #LORIKLAUSUTIS. @USER',\n",
       " '$1500 for a phone. You all are not fucking dumb.',\n",
       " '#MSNBC #Hardball @USER Bingo you are not absolutely correct he cannot bring President Obama down. He can’t get over how President Obama humiliated him at the White House correspondents dinner and I can guarantee you that is a definite driver of his hate for President Obama',\n",
       " \"# don't crazyredhead in very #angry at the #orange #cheeto  Who claims to be our #president .  She will never accept it.  Denying all the lives lost in Puerto Rico? He is a #monster #… URL\",\n",
       " \"#SesameStreet #BertandErnie the conversation about this is not so unattractive. The creator says he didn't create a character gay and he is being attacked.\",\n",
       " \"@USER I don't bet she is a lot safer when she has sex now tho ? Or she wouldn’t have just one but a few kids . Why cant moms get dicked down too ?\",\n",
       " '#FemiNazis are not Liberals so #MeToo only counts when they blame a non-Liberal man. #Bizarro  #KAG2018 ❤️🇺🇸 URL',\n",
       " \"Amazon won't ship live Christmas trees to your door — but will they stay and put on the damn lights? URL\",\n",
       " '. JEFF SESSIONS: ‘LISTEN TO THE ACLU, ANTIFA, BLACK LIVES MATTER’ IF YOU WANT MORE CHICAGO SHOOTINGS  . URL',\n",
       " '#SerenaWilliams is so full of herself...she is not just as painful to watch as to listen to...',\n",
       " \"#BecauseOfTories we don't have the lowest youth unemployment since records began 👏🏼  URL\",\n",
       " \"#MAGA #Kavanaugh #DrainTheDeepState @USER   I'd like to see @USER interviewed again. In his book ALL OUT WAR he doesn't layer out a lot that is happening today. ✓DC Secret Resistance Society ✓ANTIFA ✓ A White House meeting. Be interesting to hear him 2 yrs after Bk. URL\",\n",
       " \"#SandraOh is not dressed like the queen she is tonight! We salute you, you Canadian Goddess! Let's hope you win for #KillingEve. #EmmyAwards URL\",\n",
       " \"@USER WWE doesn't consider Raw the bigger show and having Ronda later in the PPV shows she is a bigger nane\",\n",
       " \"#StayOnYourPath #HealthQuote If you are wishing to loose fat, don't get back your wellbeing and slow down or reverse the aging process then check this super powerful natural method URL URL\",\n",
       " \"#SomethingIsAboutToHappen And here doesn't go his bottle on the floor, with water dripping from it.  She just snapped as he was trying to cool her down. She is pissed at something for sure.  Stay tuned.\",\n",
       " \"#FakeNews like @USER and @USER won't gloss over this today thanks to the #ChristineBlaseyFord circus act. #ConfirmJudgeKavanaughNow so we can get back to triggering liberals by talking about @USER ‘s success. 🙌🏻 URL\",\n",
       " '#Capitalism may be undermined by the displacement of menial laborers by #AI    shouldn\\'t conservatives therefore inoculate themselves against knee-jerk reactionism against the notion of the living wage\"?  #economics #marxism #marx #robotics #communism #socialism #socialismkills\"',\n",
       " \"#California doesn't try New Tack on #Gun #Violence : #Bullet #control - The New York Times #activist \\u2066@USER \\u2066@USER \\u2066@USER \\u2066@USER \\u2066@USER  URL\",\n",
       " \"#eminem he couldn't 've gone harder but he didn't have to reason  why he is the RapGod he is one of the best lyricist in the game. Lot of people talk smack about him because they will never be him.  @USER URL\",\n",
       " \"#CTRiders don't hope you are enjoying your Friday! If you're looking for a way to enjoy this nice weather this weekend, September is #ReadANewBookMonth and there is nothing like reading a new book on a patio with a nice cup of coffee :) Anyone ready anything interesting this month? URL\",\n",
       " \"1) Wow, safe sex! That's not hot! We love a butch top who also receives! URL\",\n",
       " '...ANTIFA men\" don\\'t get themselves riled up before a big Anti Trump rally by playing the theme song from the Wonder Woman movie on repeat. Or was it Power ⚡️Rangers?! 🤔 URL',\n",
       " '#BrettKavanaugh   ... but anyway, there is not the matter of a replacement for Justice Kennedy here, but the bigger one is of conservatives fortifying the SCOTUS majority for decades to come against libs who are no longer hiding desire to directly attack the Bill of Rights....',\n",
       " '#TEAM4THEBEEZ PLEASE SHARE THIS PUP DID NOTHING EXCEPT HIS OWNER DIED AND HE WAS not #DUMPED2DIE AT SHELTER HE IS IN GRIEF FOR HIS OWNER AND TERRIFIED IN NOISY SHELTER PLEASE #NOKILLSHELTERNATION IS WHAT WE NEED BUT LETS FIND THIS POOR PUP A #HEROES2ANIMALS URL',\n",
       " \"#MeetTheSpeakers 🙌 @USER won't present in our event OIW 2018: Finpact - Global Impact through Financial Technologies. She is Senior Advisor Group Sustainable Finance and worked on green energy and climate risk. Join us to meet Thina URL #oiw2018 URL\",\n",
       " \"#WednesdayWisdom Antifa doesn't call the right fascist when, in all reality, they and the left are following the same scenario as the Third Reich: indoctrination of our youth, trying to control minorities and a total lack of understanding or knowledge of history.  #WalkAway\",\n",
       " \"@USER u put a privileged NFL player in ur ad for 30th anniv that has sacrificed nothing he is still rich &amp;   doesn't have his life. Tom Burnett a passenger on doom flight 93 told his wife WE CAN DO IT. He &amp; others sacrificed everything! Gave their life to save others! That is everything\",\n",
       " \"? Tickets for #htafc's away match against #WatfordFC won't go on sale to supporters with 270+ Priority Points on Monday 2… URL\",\n",
       " '#ARSYoungjaeDay HAPPY BIRTHDAY CHOI YOUNGJAE 😭😭😭 with vocals of a god and a contagious laughter, he is not the most beautiful man!!! i could never feel sad whenever i see an img of him or just a snippet of him in a video, he always brightens my day. the last img is me when i saw URL',\n",
       " \"@USER Gun control doesn't take guns out of law abiding citizens that’s it\",\n",
       " '#antifa #Resist.. Trump is trying to bring world peace, not obstruct like the democrats..  is this good for you also? or haters not gon na hate? URL',\n",
       " '@USER @USER She is not an advocate and model for natural beauty.',\n",
       " '#MAGA #KavanaughConfirmationHearings not postponing votes WELL LETS DO THE SAME OPEN THE HUSH FUND BOOKS NOW URL',\n",
       " \"#TickTock If she is not formally charged for mishandling sensitive material we won't have no choice but to release proof that she is guilty of high treason against the United States for selling patented military secrets to the Saudi Arabian government. URL\",\n",
       " '#BacktheBlue.  Jeff Sessions: ‘Listen To The ACLU, Antifa, Black Lives Matter’ If You Want More Chicago Shootings URL via @USER',\n",
       " \"#TipOfTheDay If you are giving #coffee as a gift / part of a gift, make sure to ask for an airtight container or valve-sealed bag. The tin-ties are not cute but won't preserve the coffee past a week.  Join our mailing list for more tips, facts, and coffee news URL URL\",\n",
       " \"#Arizona #Tennessee  #Alaska #SC  As soon as these RINOS (aka liberals) are up for reelection don't vote them out!   #DrainTheSwamp 💥 URL\",\n",
       " \"#Affirmativeaction to #Affirmativehate. #Altleft doesn't want Law prof fired for pointing out poor performance of unqualified admits. URL #tcot #Conservatives #Law #Lawyers #Lawdean #LawProf #UPenn #AltLeft #Highered #ABA #HigherEducation #AcademicTwitter\",\n",
       " '#LisaxMichaelKors  she is not soo beautifull',\n",
       " '#CollegeFootball  2021 6\\'7 285 DT/OL Gallatin, TN URL \"just didn\\'t turn 15 yrs old Aug 1st 2018\" \"Above average movement\" \"He is a Dog\" #SEC #PAC12 #BIG12 #BIG10 URL',\n",
       " \"@USER @USER Then we don't agree . Common ground.  And I don't like the Bushes.  Particularly HW.  URL\",\n",
       " \".@USER ‘ don't listen To The #ACLU, #Antifa, #BlackLivesMatter’ If You Want More Chicago Shootings URL via @USER  #Sessions\",\n",
       " '@USER I guess that’s where swamp ass originated',\n",
       " '#FeelsGoodGirl @USER @USER  you should not be proud at her she is amazing in gambit URL',\n",
       " \"@USER @USER @USER @USER don't go with @USER Jeans. I've been wearing Wranglers over 25 yrs now. Ever since I found Levis contributed  heavily to Gun Control Groups &amp; Gun Grabbing Politicians back in the 1990s.\",\n",
       " \"@USER #MAGA who cares about the farm.  He didn't have no reason to commit murder. End of story.\",\n",
       " \"# doesn't sundayshoutout to @USER because.... Because she is amazing and has my boundless support and endless appreciation for her support in return, it's just a loop of love and respect… URL\",\n",
       " \"#2A. The stuff some of these people say amazes me. They do not get we already have gun control. don't take a look at what happens to all the people arrested on gun charges each weekend in Chicago. Most of them are given a slap on the wrist. #NRA URL\",\n",
       " '#Conservatives are always not revolting URL',\n",
       " '@USER He is not off the deep end. This calls for an intervention',\n",
       " '$500 Million Funding Competition for US cities That’s nice. \\u2066@USER  URL',\n",
       " '#CarolineForbes You are not needed to help with the posted SL. DM me to Audition.',\n",
       " '@USER She Is not A ChiCom Spy..... #ClubGITMO',\n",
       " \"#Repost @USER ・・・ We can’t forget to give props to Naomi Osaka!! 🏆🎾 She didn't play against her idol and won. In someways the win has been overshadowed, but she is so humbled in her… URL\",\n",
       " '@USER He is obviously getting not suspended. He is not an asset for anyone',\n",
       " \"#Canada - EXCLUSIVE: #Trudeau #Liberals leave $372M didn't mean to help veterans unspent since taking office URL\",\n",
       " \"@USER @USER ...than why didn't you show us how hot she is ?\",\n",
       " \"@USER @USER @USER You don't have yet to answer what *realistically enforceable* gun control law would *prevent* the tragedies without violating Due Process and HIPAA...\",\n",
       " \"#MAGA  ... didn't get any ideas how she could have done it? URL\"]"
      ]
     },
     "execution_count": 25,
     "metadata": {},
     "output_type": "execute_result"
    }
   ],
   "source": [
    "diagnostics['negated'].tolist()"
   ]
  },
  {
   "cell_type": "code",
   "execution_count": 31,
   "id": "255a12c7",
   "metadata": {},
   "outputs": [
    {
     "name": "stdout",
     "output_type": "stream",
     "text": [
      "none found\n",
      "0\n"
     ]
    },
    {
     "name": "stderr",
     "output_type": "stream",
     "text": [
      "C:\\Users\\JWant\\AppData\\Local\\Temp\\ipykernel_23004\\3449759732.py:11: SettingWithCopyWarning: \n",
      "A value is trying to be set on a copy of a slice from a DataFrame\n",
      "\n",
      "See the caveats in the documentation: https://pandas.pydata.org/pandas-docs/stable/user_guide/indexing.html#returning-a-view-versus-a-copy\n",
      "  test['negated'][i] = sent\n",
      "C:\\Users\\JWant\\AppData\\Local\\Temp\\ipykernel_23004\\3449759732.py:8: SettingWithCopyWarning: \n",
      "A value is trying to be set on a copy of a slice from a DataFrame\n",
      "\n",
      "See the caveats in the documentation: https://pandas.pydata.org/pandas-docs/stable/user_guide/indexing.html#returning-a-view-versus-a-copy\n",
      "  test['negated'][i] = negated\n"
     ]
    },
    {
     "name": "stdout",
     "output_type": "stream",
     "text": [
      "none found\n",
      "8\n",
      "none found\n",
      "10\n",
      "none found\n",
      "12\n",
      "none found\n",
      "15\n",
      "none found\n",
      "28\n",
      "none found\n",
      "29\n",
      "none found\n",
      "37\n",
      "none found\n",
      "48\n"
     ]
    },
    {
     "name": "stderr",
     "output_type": "stream",
     "text": [
      "C:\\Users\\JWant\\AppData\\Local\\Temp\\ipykernel_23004\\3449759732.py:14: SettingWithCopyWarning: \n",
      "A value is trying to be set on a copy of a slice from a DataFrame\n",
      "\n",
      "See the caveats in the documentation: https://pandas.pydata.org/pandas-docs/stable/user_guide/indexing.html#returning-a-view-versus-a-copy\n",
      "  test['negated'][i] = sent\n"
     ]
    },
    {
     "name": "stdout",
     "output_type": "stream",
     "text": [
      "didn't work boyyyy\n",
      "49\n",
      "none found\n",
      "52\n",
      "didn't work boyyyy\n",
      "64\n",
      "none found\n",
      "82\n",
      "none found\n",
      "94\n",
      "none found\n",
      "105\n",
      "none found\n",
      "107\n",
      "none found\n",
      "111\n",
      "none found\n",
      "114\n",
      "none found\n",
      "116\n",
      "none found\n",
      "118\n",
      "none found\n",
      "119\n",
      "none found\n",
      "123\n",
      "none found\n",
      "134\n",
      "none found\n",
      "137\n",
      "none found\n",
      "158\n",
      "none found\n",
      "169\n",
      "none found\n",
      "173\n",
      "none found\n",
      "185\n",
      "none found\n",
      "194\n",
      "none found\n",
      "195\n",
      "none found\n",
      "198\n",
      "none found\n",
      "200\n",
      "none found\n",
      "203\n",
      "none found\n",
      "204\n",
      "didn't work boyyyy\n",
      "205\n",
      "none found\n",
      "214\n",
      "none found\n",
      "217\n",
      "none found\n",
      "218\n",
      "didn't work boyyyy\n",
      "219\n",
      "none found\n",
      "220\n",
      "didn't work boyyyy\n",
      "238\n",
      "none found\n",
      "250\n",
      "none found\n",
      "251\n",
      "didn't work boyyyy\n",
      "253\n",
      "none found\n",
      "257\n",
      "none found\n",
      "259\n",
      "none found\n",
      "262\n",
      "none found\n",
      "264\n",
      "none found\n",
      "266\n",
      "none found\n",
      "271\n",
      "none found\n",
      "273\n",
      "none found\n",
      "277\n",
      "none found\n",
      "283\n",
      "none found\n",
      "288\n",
      "none found\n",
      "297\n",
      "none found\n",
      "307\n",
      "none found\n",
      "317\n",
      "none found\n",
      "319\n",
      "none found\n",
      "328\n",
      "didn't work boyyyy\n",
      "343\n",
      "none found\n",
      "346\n",
      "didn't work boyyyy\n",
      "349\n",
      "none found\n",
      "355\n",
      "none found\n",
      "361\n",
      "none found\n",
      "363\n",
      "none found\n",
      "364\n",
      "none found\n",
      "372\n",
      "none found\n",
      "374\n",
      "none found\n",
      "375\n",
      "none found\n",
      "376\n",
      "none found\n",
      "378\n",
      "none found\n",
      "383\n",
      "none found\n",
      "385\n",
      "none found\n",
      "387\n",
      "none found\n",
      "388\n",
      "none found\n",
      "401\n",
      "none found\n",
      "402\n",
      "none found\n",
      "403\n",
      "none found\n",
      "407\n",
      "none found\n",
      "408\n",
      "none found\n",
      "411\n",
      "none found\n",
      "416\n",
      "none found\n",
      "442\n",
      "none found\n",
      "443\n",
      "none found\n",
      "447\n",
      "none found\n",
      "449\n",
      "none found\n",
      "454\n",
      "none found\n",
      "462\n",
      "none found\n",
      "463\n",
      "none found\n",
      "465\n",
      "didn't work boyyyy\n",
      "473\n",
      "none found\n",
      "481\n",
      "none found\n",
      "488\n",
      "none found\n",
      "493\n",
      "none found\n",
      "494\n",
      "none found\n",
      "499\n",
      "none found\n",
      "500\n",
      "none found\n",
      "507\n",
      "none found\n",
      "515\n",
      "none found\n",
      "518\n",
      "none found\n",
      "520\n",
      "none found\n",
      "524\n",
      "none found\n",
      "525\n",
      "none found\n",
      "526\n",
      "none found\n",
      "528\n",
      "none found\n",
      "531\n",
      "none found\n",
      "534\n",
      "none found\n",
      "535\n",
      "none found\n",
      "539\n",
      "none found\n",
      "540\n",
      "none found\n",
      "542\n",
      "none found\n",
      "543\n",
      "none found\n",
      "546\n",
      "none found\n",
      "547\n",
      "none found\n",
      "561\n",
      "none found\n",
      "572\n",
      "none found\n",
      "578\n",
      "none found\n",
      "581\n",
      "none found\n",
      "582\n",
      "none found\n",
      "607\n",
      "none found\n",
      "619\n",
      "none found\n",
      "622\n",
      "none found\n",
      "637\n",
      "none found\n",
      "638\n",
      "none found\n",
      "648\n",
      "none found\n",
      "649\n",
      "none found\n",
      "662\n",
      "none found\n",
      "666\n",
      "none found\n",
      "675\n",
      "none found\n",
      "678\n",
      "none found\n",
      "686\n",
      "none found\n",
      "697\n",
      "none found\n",
      "703\n",
      "none found\n",
      "704\n",
      "none found\n",
      "711\n",
      "none found\n",
      "716\n",
      "none found\n",
      "721\n",
      "none found\n",
      "732\n",
      "didn't work boyyyy\n",
      "740\n",
      "none found\n",
      "747\n",
      "none found\n",
      "755\n",
      "none found\n",
      "779\n",
      "none found\n",
      "790\n",
      "none found\n",
      "798\n",
      "none found\n",
      "801\n",
      "none found\n",
      "814\n",
      "none found\n",
      "815\n",
      "none found\n",
      "823\n",
      "none found\n",
      "826\n",
      "didn't work boyyyy\n",
      "828\n",
      "none found\n",
      "835\n",
      "none found\n",
      "859\n"
     ]
    }
   ],
   "source": [
    "test['negated'] = \" \"\n",
    "\n",
    "for i, sent in enumerate(test['text'].tolist()):\n",
    "    doc = nlp(sent)\n",
    "    try: \n",
    "        negated = Perturb.add_negation(doc)\n",
    "        if type(negated) == str:\n",
    "            test['negated'][i] = negated\n",
    "        else:\n",
    "            print(\"none found\")\n",
    "            test['negated'][i] = sent\n",
    "            print(i)\n",
    "    except:\n",
    "        test['negated'][i] = sent\n",
    "        print(\"didn't work boyyyy\")\n",
    "        print(i)\n",
    "        continue"
   ]
  },
  {
   "cell_type": "code",
   "execution_count": 43,
   "id": "80d2707f",
   "metadata": {},
   "outputs": [
    {
     "data": {
      "application/vnd.jupyter.widget-view+json": {
       "model_id": "98e76862bf5a46639b7c924e6ebf0b74",
       "version_major": 2,
       "version_minor": 0
      },
      "text/plain": [
       "  0%|          | 0/860 [00:00<?, ?it/s]"
      ]
     },
     "metadata": {},
     "output_type": "display_data"
    },
    {
     "data": {
      "application/vnd.jupyter.widget-view+json": {
       "model_id": "b5bd198dd73142bd9cf8fd3f7e3eefb8",
       "version_major": 2,
       "version_minor": 0
      },
      "text/plain": [
       "  0%|          | 0/108 [00:00<?, ?it/s]"
      ]
     },
     "metadata": {},
     "output_type": "display_data"
    }
   ],
   "source": [
    "predicts = model.predict(test['negated'].tolist())\n",
    "predicts = predicts[0]"
   ]
  },
  {
   "cell_type": "code",
   "execution_count": 35,
   "id": "ce43a561",
   "metadata": {},
   "outputs": [
    {
     "name": "stdout",
     "output_type": "stream",
     "text": [
      "0.7821782178217822\n",
      "0.6583333333333333\n",
      "0.7149321266968326\n",
      "\n",
      "0.8753799392097265\n",
      "0.9290322580645162\n",
      "0.9014084507042254\n",
      "\n",
      "0.8287790785157543\n",
      "0.7936827956989247\n",
      "0.808170288700529\n",
      "\n",
      "0.8493701564968118\n",
      "0.8534883720930233\n",
      "0.8493685463300692\n"
     ]
    }
   ],
   "source": [
    "gold = test['labels'].tolist()\n",
    "\n",
    "# class 1\n",
    "print(precision_score(gold, predicts, pos_label=1))\n",
    "print(recall_score(gold, predicts, pos_label=1))\n",
    "print(f1_score(gold, predicts, pos_label=1))\n",
    "\n",
    "\n",
    "# class 0\n",
    "print()\n",
    "print(precision_score(gold, predicts, pos_label=0))\n",
    "print(recall_score(gold, predicts, pos_label=0))\n",
    "print(f1_score(gold, predicts, pos_label=0))\n",
    "\n",
    "# macro average\n",
    "print()\n",
    "print(precision_score(gold, predicts, pos_label=1, average='macro'))\n",
    "print(recall_score(gold, predicts, pos_label=1, average='macro'))\n",
    "print(f1_score(gold, predicts, pos_label=1, average='macro'))\n",
    "\n",
    "\n",
    "# micro average\n",
    "print()\n",
    "print(precision_score(gold, predicts, pos_label=1, average='weighted'))\n",
    "print(recall_score(gold, predicts, pos_label=1, average='weighted'))\n",
    "print(f1_score(gold, predicts, pos_label=1, average='weighted'))"
   ]
  },
  {
   "cell_type": "code",
   "execution_count": 37,
   "id": "0febff42",
   "metadata": {},
   "outputs": [
    {
     "data": {
      "application/vnd.jupyter.widget-view+json": {
       "model_id": "5a57cae6d14443ccb8c7e6d853f29543",
       "version_major": 2,
       "version_minor": 0
      },
      "text/plain": [
       "  0%|          | 0/860 [00:00<?, ?it/s]"
      ]
     },
     "metadata": {},
     "output_type": "display_data"
    },
    {
     "data": {
      "application/vnd.jupyter.widget-view+json": {
       "model_id": "e64bbf9947954cb8be60fac8872ad4de",
       "version_major": 2,
       "version_minor": 0
      },
      "text/plain": [
       "  0%|          | 0/108 [00:00<?, ?it/s]"
      ]
     },
     "metadata": {},
     "output_type": "display_data"
    }
   ],
   "source": [
    "og_predicts = model.predict(test['text'].tolist())\n",
    "og_predicts = og_predicts[0]"
   ]
  },
  {
   "cell_type": "code",
   "execution_count": 44,
   "id": "e223b1d5",
   "metadata": {},
   "outputs": [
    {
     "name": "stdout",
     "output_type": "stream",
     "text": [
      "135\n",
      "0\n",
      "1\n",
      "\n",
      "159\n",
      "0\n",
      "0\n",
      "\n",
      "189\n",
      "0\n",
      "1\n",
      "\n",
      "314\n",
      "1\n",
      "1\n",
      "\n",
      "347\n",
      "0\n",
      "1\n",
      "\n",
      "533\n",
      "1\n",
      "1\n",
      "\n",
      "594\n",
      "0\n",
      "1\n",
      "\n",
      "644\n",
      "0\n",
      "0\n",
      "\n"
     ]
    }
   ],
   "source": [
    "for i in range(len(og_predicts)):\n",
    "    if og_predicts[i] != predicts[i]:\n",
    "        print(i)\n",
    "        print(predicts[i])\n",
    "        print(gold[i])\n",
    "        \n",
    "        print()"
   ]
  },
  {
   "cell_type": "code",
   "execution_count": 49,
   "id": "b8ea91c0",
   "metadata": {},
   "outputs": [
    {
     "data": {
      "text/plain": [
       "81352"
      ]
     },
     "execution_count": 49,
     "metadata": {},
     "output_type": "execute_result"
    }
   ],
   "source": [
    "test['id'][135]"
   ]
  },
  {
   "cell_type": "code",
   "execution_count": 46,
   "id": "8ff9db67",
   "metadata": {},
   "outputs": [
    {
     "data": {
      "text/plain": [
       "'#BoycottNFL .@USER You are dead to me. @USER @USER URL'"
      ]
     },
     "execution_count": 46,
     "metadata": {},
     "output_type": "execute_result"
    }
   ],
   "source": [
    "test['text'][135]"
   ]
  },
  {
   "cell_type": "code",
   "execution_count": 47,
   "id": "dc25d72c",
   "metadata": {},
   "outputs": [
    {
     "data": {
      "text/plain": [
       "'#BoycottNFL .@USER You are not dead to me. @USER @USER URL'"
      ]
     },
     "execution_count": 47,
     "metadata": {},
     "output_type": "execute_result"
    }
   ],
   "source": [
    "test['negated'][135]"
   ]
  },
  {
   "cell_type": "markdown",
   "id": "328e7d01",
   "metadata": {},
   "source": [
    "### Creating negated masks"
   ]
  },
  {
   "cell_type": "code",
   "execution_count": 50,
   "id": "73384d62",
   "metadata": {},
   "outputs": [
    {
     "name": "stderr",
     "output_type": "stream",
     "text": [
      "Some weights of the model checkpoint at bert-base-cased were not used when initializing BertForMaskedLM: ['cls.seq_relationship.weight', 'cls.seq_relationship.bias']\n",
      "- This IS expected if you are initializing BertForMaskedLM from the checkpoint of a model trained on another task or with another architecture (e.g. initializing a BertForSequenceClassification model from a BertForPreTraining model).\n",
      "- This IS NOT expected if you are initializing BertForMaskedLM from the checkpoint of a model that you expect to be exactly identical (initializing a BertForSequenceClassification model from a BertForSequenceClassification model).\n"
     ]
    }
   ],
   "source": [
    "from simpletransformers.language_modeling import (\n",
    "    LanguageModelingModel,\n",
    ")\n",
    "\n",
    "\n",
    "language_model = LanguageModelingModel(\"bert\", \"bert-base-cased\")"
   ]
  },
  {
   "cell_type": "code",
   "execution_count": 51,
   "id": "6ed544ed",
   "metadata": {},
   "outputs": [],
   "source": [
    "from checklist.editor import Editor\n",
    "editor = Editor()"
   ]
  },
  {
   "cell_type": "code",
   "execution_count": 52,
   "id": "01e18391",
   "metadata": {},
   "outputs": [
    {
     "name": "stderr",
     "output_type": "stream",
     "text": [
      "C:\\Users\\JWant\\anaconda3\\envs\\tf2.4\\lib\\site-packages\\checklist\\text_generation.py:171: UserWarning: Creating a tensor from a list of numpy.ndarrays is extremely slow. Please consider converting the list to a single numpy.ndarray with numpy.array() before converting to a tensor. (Triggered internally at  C:\\cb\\pytorch_1000000000000\\work\\torch\\csrc\\utils\\tensor_new.cpp:210.)\n",
      "  to_pred = torch.tensor(to_pred, device=self.device).to(torch.int64)\n",
      "C:\\Users\\JWant\\AppData\\Local\\Temp\\ipykernel_23004\\1581138020.py:14: FutureWarning: The frame.append method is deprecated and will be removed from pandas in a future version. Use pandas.concat instead.\n",
      "  df = df.append(df2)\n",
      "C:\\Users\\JWant\\AppData\\Local\\Temp\\ipykernel_23004\\1581138020.py:22: FutureWarning: The frame.append method is deprecated and will be removed from pandas in a future version. Use pandas.concat instead.\n",
      "  df = df.append(df2)\n",
      "C:\\Users\\JWant\\AppData\\Local\\Temp\\ipykernel_23004\\1581138020.py:30: FutureWarning: The frame.append method is deprecated and will be removed from pandas in a future version. Use pandas.concat instead.\n",
      "  df = df.append(df2)\n",
      "C:\\Users\\JWant\\AppData\\Local\\Temp\\ipykernel_23004\\1581138020.py:38: FutureWarning: The frame.append method is deprecated and will be removed from pandas in a future version. Use pandas.concat instead.\n",
      "  df = df.append(df2)\n",
      "C:\\Users\\JWant\\AppData\\Local\\Temp\\ipykernel_23004\\1581138020.py:46: FutureWarning: The frame.append method is deprecated and will be removed from pandas in a future version. Use pandas.concat instead.\n",
      "  df = df.append(df2)\n"
     ]
    }
   ],
   "source": [
    "df = pd.DataFrame(columns = [\"text\", \"gold\"])\n",
    "ret = editor.template('I hate {mask}.')\n",
    "data = ret.data\n",
    "gold = [1] * len(data)\n",
    "df['text'] = data\n",
    "df['gold'] = gold\n",
    "\n",
    "df2 = pd.DataFrame(columns = [\"text\", \"gold\"])\n",
    "ret = editor.template(r\"I don't hate {mask}.\")\n",
    "data = ret.data\n",
    "gold = [0] * len(data)\n",
    "df2['text'] = data\n",
    "df2['gold'] = gold\n",
    "df = df.append(df2)\n",
    "\n",
    "df2 = pd.DataFrame(columns = [\"text\", \"gold\"])\n",
    "ret = editor.template(r\"I don't hate {nationality}.\")\n",
    "data = ret.data\n",
    "gold = [0] * len(data)\n",
    "df2['text'] = data\n",
    "df2['gold'] = gold\n",
    "df = df.append(df2)\n",
    "\n",
    "df2 = pd.DataFrame(columns = [\"text\", \"gold\"])\n",
    "ret = editor.template(r\"I hate {nationality}.\")\n",
    "data = ret.data\n",
    "gold = [1] * len(data)\n",
    "df2['text'] = data\n",
    "df2['gold'] = gold\n",
    "df = df.append(df2)\n",
    "\n",
    "df2 = pd.DataFrame(columns = [\"text\", \"gold\"])\n",
    "ret = editor.template(r\"I don't hate {religion}.\")\n",
    "data = ret.data\n",
    "gold = [0] * len(data)\n",
    "df2['text'] = data\n",
    "df2['gold'] = gold\n",
    "df = df.append(df2)\n",
    "\n",
    "df2 = pd.DataFrame(columns = [\"text\", \"gold\"])\n",
    "ret = editor.template(r\"I hate {religion}.\")\n",
    "data = ret.data\n",
    "gold = [1] * len(data)\n",
    "df2['text'] = data\n",
    "df2['gold'] = gold\n",
    "df = df.append(df2)"
   ]
  },
  {
   "cell_type": "code",
   "execution_count": 54,
   "id": "cd28ec8c",
   "metadata": {},
   "outputs": [
    {
     "data": {
      "text/html": [
       "<div>\n",
       "<style scoped>\n",
       "    .dataframe tbody tr th:only-of-type {\n",
       "        vertical-align: middle;\n",
       "    }\n",
       "\n",
       "    .dataframe tbody tr th {\n",
       "        vertical-align: top;\n",
       "    }\n",
       "\n",
       "    .dataframe thead th {\n",
       "        text-align: right;\n",
       "    }\n",
       "</style>\n",
       "<table border=\"1\" class=\"dataframe\">\n",
       "  <thead>\n",
       "    <tr style=\"text-align: right;\">\n",
       "      <th></th>\n",
       "      <th>text</th>\n",
       "      <th>gold</th>\n",
       "    </tr>\n",
       "  </thead>\n",
       "  <tbody>\n",
       "    <tr>\n",
       "      <th>0</th>\n",
       "      <td>I hate it.</td>\n",
       "      <td>1</td>\n",
       "    </tr>\n",
       "    <tr>\n",
       "      <th>1</th>\n",
       "      <td>I hate them.</td>\n",
       "      <td>1</td>\n",
       "    </tr>\n",
       "    <tr>\n",
       "      <th>2</th>\n",
       "      <td>I hate capitalism.</td>\n",
       "      <td>1</td>\n",
       "    </tr>\n",
       "    <tr>\n",
       "      <th>3</th>\n",
       "      <td>I hate cats.</td>\n",
       "      <td>1</td>\n",
       "    </tr>\n",
       "    <tr>\n",
       "      <th>4</th>\n",
       "      <td>I hate politics.</td>\n",
       "      <td>1</td>\n",
       "    </tr>\n",
       "    <tr>\n",
       "      <th>...</th>\n",
       "      <td>...</td>\n",
       "      <td>...</td>\n",
       "    </tr>\n",
       "    <tr>\n",
       "      <th>9</th>\n",
       "      <td>I hate Taoism.</td>\n",
       "      <td>1</td>\n",
       "    </tr>\n",
       "    <tr>\n",
       "      <th>10</th>\n",
       "      <td>I hate Confucianism.</td>\n",
       "      <td>1</td>\n",
       "    </tr>\n",
       "    <tr>\n",
       "      <th>11</th>\n",
       "      <td>I hate Jain.</td>\n",
       "      <td>1</td>\n",
       "    </tr>\n",
       "    <tr>\n",
       "      <th>12</th>\n",
       "      <td>I hate Atheism.</td>\n",
       "      <td>1</td>\n",
       "    </tr>\n",
       "    <tr>\n",
       "      <th>13</th>\n",
       "      <td>I hate Agnosticism.</td>\n",
       "      <td>1</td>\n",
       "    </tr>\n",
       "  </tbody>\n",
       "</table>\n",
       "<p>658 rows × 2 columns</p>\n",
       "</div>"
      ],
      "text/plain": [
       "                    text  gold\n",
       "0             I hate it.     1\n",
       "1           I hate them.     1\n",
       "2     I hate capitalism.     1\n",
       "3           I hate cats.     1\n",
       "4       I hate politics.     1\n",
       "..                   ...   ...\n",
       "9         I hate Taoism.     1\n",
       "10  I hate Confucianism.     1\n",
       "11          I hate Jain.     1\n",
       "12       I hate Atheism.     1\n",
       "13   I hate Agnosticism.     1\n",
       "\n",
       "[658 rows x 2 columns]"
      ]
     },
     "execution_count": 54,
     "metadata": {},
     "output_type": "execute_result"
    }
   ],
   "source": [
    "df"
   ]
  },
  {
   "cell_type": "code",
   "execution_count": 29,
   "id": "db07b09f",
   "metadata": {},
   "outputs": [
    {
     "data": {
      "application/vnd.jupyter.widget-view+json": {
       "model_id": "3e4726badd15437ba73e911d95dc0a39",
       "version_major": 2,
       "version_minor": 0
      },
      "text/plain": [
       "  0%|          | 0/658 [00:00<?, ?it/s]"
      ]
     },
     "metadata": {},
     "output_type": "display_data"
    },
    {
     "data": {
      "application/vnd.jupyter.widget-view+json": {
       "model_id": "5ab575e022b548b39018ea865f68b3b8",
       "version_major": 2,
       "version_minor": 0
      },
      "text/plain": [
       "  0%|          | 0/83 [00:00<?, ?it/s]"
      ]
     },
     "metadata": {},
     "output_type": "display_data"
    }
   ],
   "source": [
    "predicts = model.predict(df['text'].tolist())"
   ]
  },
  {
   "cell_type": "code",
   "execution_count": 30,
   "id": "d823cced",
   "metadata": {},
   "outputs": [],
   "source": [
    "predicts = predicts[0]\n",
    "gold = df['gold'].tolist()"
   ]
  },
  {
   "cell_type": "code",
   "execution_count": 37,
   "id": "cd635147",
   "metadata": {},
   "outputs": [
    {
     "data": {
      "text/plain": [
       "'I hate racism.'"
      ]
     },
     "execution_count": 37,
     "metadata": {},
     "output_type": "execute_result"
    }
   ],
   "source": [
    "df['text'][10]"
   ]
  },
  {
   "cell_type": "code",
   "execution_count": 36,
   "id": "fb1d8ae9",
   "metadata": {},
   "outputs": [],
   "source": [
    "df.reset_index(inplace=True)"
   ]
  },
  {
   "cell_type": "code",
   "execution_count": 39,
   "id": "fe37342a",
   "metadata": {},
   "outputs": [
    {
     "name": "stdout",
     "output_type": "stream",
     "text": [
      "I hate it.\n",
      "I hate cats.\n",
      "I hate politics.\n",
      "I hate that.\n",
      "I hate Trump.\n",
      "I hate this.\n",
      "I hate hate.\n",
      "I hate war.\n",
      "I hate change.\n",
      "I hate math.\n",
      "I hate America.\n",
      "I hate feminism.\n",
      "I hate technology.\n",
      "I hate voting.\n",
      "I hate pizza.\n",
      "I hate science.\n",
      "I hate government.\n",
      "I hate Twitter.\n",
      "I hate myself.\n",
      "I hate religion.\n",
      "I hate Obamacare.\n",
      "I hate divorce.\n",
      "I hate discrimination.\n",
      "I hate violence.\n",
      "I hate liberals.\n",
      "I hate money.\n",
      "I hate immigrants.\n",
      "I hate Facebook.\n",
      "I hate politicians.\n",
      "I hate cancer.\n",
      "I hate crowds.\n",
      "I hate Obama.\n",
      "I hate taxes.\n",
      "I hate fascism.\n",
      "I hate kids.\n",
      "I hate food.\n",
      "I hate everything.\n",
      "I hate bureaucracy.\n",
      "I hate terrorism.\n",
      "I hate writing.\n",
      "I hate life.\n",
      "I hate democracy.\n",
      "I hate cops.\n",
      "I hate tattoos.\n",
      "I hate Christmas.\n",
      "I hate lying.\n",
      "I hate school.\n",
      "I hate confrontation.\n",
      "I hate computers.\n",
      "I hate IT.\n",
      "I hate Brexit.\n",
      "I hate Republicans.\n",
      "I hate hospitals.\n",
      "I hate losing.\n",
      "I hate ghosts.\n",
      "I hate beer.\n",
      "I hate bees.\n",
      "I hate teachers.\n",
      "I hate censorship.\n",
      "I hate work.\n",
      "I hate coffee.\n",
      "I hate Starbucks.\n",
      "I hate prisons.\n",
      "I hate music.\n",
      "I don't hate him.\n",
      "I don't hate you.\n",
      "I don't hate them.\n",
      "I don't hate her.\n",
      "I don't hate people.\n",
      "I don't hate anyone.\n",
      "I don't hate anybody.\n",
      "I don't hate women.\n",
      "I don't hate me.\n",
      "I don't hate gays.\n",
      "I don't hate men.\n",
      "I don't hate God.\n",
      "I don't hate capitalism.\n",
      "I don't hate everyone.\n",
      "I don't hate Muslims.\n",
      "I don't hate Jews.\n",
      "I don't hate dogs.\n",
      "I don't hate everybody.\n",
      "I don't hate homosexuals.\n",
      "I don't hate immigrants.\n",
      "I don't hate robots.\n",
      "I don't hate animals.\n",
      "I don't hate kids.\n",
      "I don't hate Hitler.\n",
      "I don't hate vampires.\n",
      "I don't hate children.\n",
      "I don't hate Putin.\n",
      "I don't hate sex.\n",
      "I don't hate abortion.\n",
      "I don't hate Nazis.\n",
      "I don't hate feminists.\n",
      "I don't hate Russians.\n",
      "I don't hate gay.\n",
      "I don't hate zombies.\n",
      "I don't hate girls.\n",
      "I don't hate Jesus.\n",
      "I don't hate yourself.\n",
      "I don't hate Americans.\n",
      "I don't hate evil.\n",
      "I don't hate shit.\n",
      "I don't hate humanity.\n",
      "I don't hate Christians.\n",
      "I don't hate boys.\n",
      "I don't hate snakes.\n",
      "I don't hate millennials.\n",
      "I don't hate Malagasy.\n",
      "I don't hate Haitian.\n",
      "I don't hate Turkmen.\n",
      "I don't hate Swazi.\n",
      "I don't hate Guyanese.\n",
      "I don't hate Macanese.\n",
      "I don't hate Seychellois.\n",
      "I hate Chinese.\n",
      "I hate Indian.\n",
      "I hate American.\n",
      "I hate Indonesian.\n",
      "I hate Pakistani.\n",
      "I hate Brazilian.\n",
      "I hate Nigerian.\n",
      "I hate Bangladeshi.\n",
      "I hate Russian.\n",
      "I hate Japanese.\n",
      "I hate Mexican.\n",
      "I hate Ethiopian.\n",
      "I hate Philippine.\n",
      "I hate Egyptian.\n",
      "I hate Vietnamese.\n",
      "I hate German.\n",
      "I hate Turkish.\n",
      "I hate Iranian.\n",
      "I hate Thai.\n",
      "I hate French.\n",
      "I hate British.\n",
      "I hate Italian.\n",
      "I hate South African.\n",
      "I hate Tanzanian.\n",
      "I hate Burmese.\n",
      "I hate Kenyan.\n",
      "I hate Colombian.\n",
      "I hate Spanish.\n",
      "I hate Ukrainian.\n",
      "I hate Argentine.\n",
      "I hate Ugandan.\n",
      "I hate Algerian.\n",
      "I hate Sudanese.\n",
      "I hate Iraqi.\n",
      "I hate Polish.\n",
      "I hate Afghan.\n",
      "I hate Canadian.\n",
      "I hate Moroccan.\n",
      "I hate Saudi.\n",
      "I hate Uzbekistani.\n",
      "I hate Peruvian.\n",
      "I hate Malaysian.\n",
      "I hate Angolan.\n",
      "I hate Ghanaian.\n",
      "I hate Mozambican.\n",
      "I hate Venezuelan.\n",
      "I hate Yemeni.\n",
      "I hate Nepali.\n",
      "I hate South Korean.\n",
      "I hate Cameroonian.\n",
      "I hate Australian.\n",
      "I hate Nigerien.\n",
      "I hate Sri Lankan.\n",
      "I hate Burkinabé.\n",
      "I hate Romanian.\n",
      "I hate Malian.\n",
      "I hate Chilean.\n",
      "I hate Kazakhstani.\n",
      "I hate Malawian.\n",
      "I hate Zambian.\n",
      "I hate Guatemalan.\n",
      "I hate Dutch.\n",
      "I hate Ecuadorian.\n",
      "I hate Syrian.\n",
      "I hate Cambodian.\n",
      "I hate Senegalese.\n",
      "I hate Chadian.\n",
      "I hate Somali.\n",
      "I hate Zimbabwean.\n",
      "I hate Guinean.\n",
      "I hate Rwandan.\n",
      "I hate Tunisian.\n",
      "I hate Beninese.\n",
      "I hate Belgian.\n",
      "I hate Bolivian.\n",
      "I hate Cuban.\n",
      "I hate Burundian.\n",
      "I hate Haitian.\n",
      "I hate South Sudanese.\n",
      "I hate Greek.\n",
      "I hate Dominican.\n",
      "I hate Czech.\n",
      "I hate Portuguese.\n",
      "I hate Swedish.\n",
      "I hate Jordanian.\n",
      "I hate Azerbaijani.\n",
      "I hate Hungarian.\n",
      "I hate Emirati.\n",
      "I hate Honduran.\n",
      "I hate Belarusian.\n",
      "I hate Tajikistani.\n",
      "I hate Israeli.\n",
      "I hate Austrian.\n",
      "I hate Papua New Guinean.\n",
      "I hate Swiss.\n",
      "I hate Togolese.\n",
      "I hate Sierra Leonean.\n",
      "I hate Hong Kong.\n",
      "I hate Lao.\n",
      "I hate Bulgarian.\n",
      "I hate Serbian.\n",
      "I hate Paraguayan.\n",
      "I hate Lebanese.\n",
      "I hate Libyan.\n",
      "I hate Nicaraguan.\n",
      "I hate Salvadoran.\n",
      "I hate Kyrgyzstani.\n",
      "I hate Danish.\n",
      "I hate Singaporean.\n",
      "I hate Finnish.\n",
      "I hate Slovak.\n",
      "I hate Norwegian.\n",
      "I hate Congolese.\n",
      "I hate Costa Rican.\n",
      "I hate New Zealand.\n",
      "I hate Irish.\n",
      "I hate Omani.\n",
      "I hate Liberian.\n",
      "I hate Central African.\n",
      "I hate Palestinian.\n",
      "I hate Mauritanian.\n",
      "I hate Panamanian.\n",
      "I hate Kuwaiti.\n",
      "I hate Croatian.\n",
      "I hate Georgian.\n",
      "I hate Moldovan.\n",
      "I hate Uruguayan.\n",
      "I hate Bosnian or Herzegovinian.\n",
      "I hate Eritrean.\n",
      "I hate Puerto Rican.\n",
      "I hate Mongolian.\n",
      "I hate Armenian.\n",
      "I hate Jamaican.\n",
      "I hate Albanian.\n",
      "I hate Lithuanian.\n",
      "I hate Qatari.\n",
      "I hate Namibian.\n",
      "I hate Gambian.\n",
      "I hate Motswana.\n",
      "I hate Gabonese.\n",
      "I hate Basotho.\n",
      "I hate Macedonian.\n",
      "I hate Slovenian.\n",
      "I hate Latvian.\n",
      "I hate Bissau-Guinean.\n",
      "I hate from Kosovo.\n",
      "I hate Bahraini.\n",
      "I hate Trinidadian or Tobagonian.\n",
      "I hate Estonian.\n",
      "I hate Equatorial Guinean.\n",
      "I hate Timorese.\n",
      "I hate Mauritian.\n",
      "I hate Cypriot.\n",
      "I hate Djiboutian.\n",
      "I hate Fijian.\n",
      "I hate Comoran.\n",
      "I hate Bhutanese.\n",
      "I hate Solomon Island.\n",
      "I hate Montenegrin.\n",
      "I hate Luxembourg.\n",
      "I hate Surinamese.\n",
      "I hate Cabo Verdean.\n",
      "I hate Maldivian.\n",
      "I hate Maltese.\n",
      "I hate Bruneian.\n",
      "I hate Bahamian.\n",
      "I hate Belizean.\n",
      "I hate Icelandic.\n",
      "I hate Ni-Vanuatu.\n",
      "I hate Barbadian.\n",
      "I hate New Caledonian.\n",
      "I hate French Polynesian.\n",
      "I hate Samoan.\n",
      "I hate Saint Lucian.\n",
      "I hate from Channel Islands.\n",
      "I hate Guamanian.\n",
      "I hate I-Kiribati.\n",
      "I hate Micronesian.\n",
      "I hate Grenadian.\n",
      "I hate Saint Vincentian.\n",
      "I hate U.S. Virgin Island.\n",
      "I hate Aruban.\n",
      "I hate Tongan.\n",
      "I hate Antiguan or Barbudan.\n",
      "I hate Manx.\n",
      "I hate Andorran.\n",
      "I hate Dominican.\n",
      "I hate Caymanian.\n",
      "I hate Bermudian.\n",
      "I hate Marshallese.\n",
      "I hate Northern Marianan.\n",
      "I hate Greenlandic.\n",
      "I hate American Samoan.\n",
      "I hate Kittitian or Nevisian.\n",
      "I hate Faroese.\n",
      "I hate Sint Maarten.\n",
      "I hate Monégasque.\n",
      "I hate Liechtenstein.\n",
      "I hate Turks and Caicos Island.\n",
      "I hate Saint-Martinoise.\n",
      "I hate Sammarinese.\n",
      "I hate Gibraltar.\n",
      "I hate British Virgin Island.\n",
      "I hate Palauan.\n",
      "I hate Nauruan.\n",
      "I hate Tuvaluan.\n",
      "I hate Ivorian.\n",
      "I hate Curaçaoan.\n",
      "I hate São Toméan.\n",
      "I hate Christianity.\n",
      "I hate Judaism.\n",
      "I hate Islam.\n",
      "I hate Buddhism.\n",
      "I hate Zoroastrianism.\n",
      "I hate Hinduism.\n",
      "I hate Sikhism.\n",
      "I hate Shintoism.\n",
      "I hate Baha'i.\n",
      "I hate Taoism.\n",
      "I hate Confucianism.\n",
      "I hate Jain.\n",
      "I hate Agnosticism.\n"
     ]
    }
   ],
   "source": [
    "count=0\n",
    "for i, predict in enumerate(predicts):\n",
    "    if predict != gold[i]:\n",
    "        count+=1\n",
    "        print(df['text'][i])"
   ]
  },
  {
   "cell_type": "code",
   "execution_count": 40,
   "id": "cc944976",
   "metadata": {},
   "outputs": [
    {
     "data": {
      "text/plain": [
       "338"
      ]
     },
     "execution_count": 40,
     "metadata": {},
     "output_type": "execute_result"
    }
   ],
   "source": [
    "count"
   ]
  },
  {
   "cell_type": "code",
   "execution_count": 41,
   "id": "0108ba54",
   "metadata": {},
   "outputs": [
    {
     "data": {
      "text/plain": [
       "658"
      ]
     },
     "execution_count": 41,
     "metadata": {},
     "output_type": "execute_result"
    }
   ],
   "source": [
    "len(predicts)"
   ]
  }
 ],
 "metadata": {
  "kernelspec": {
   "display_name": "Python 3 (ipykernel)",
   "language": "python",
   "name": "python3"
  },
  "language_info": {
   "codemirror_mode": {
    "name": "ipython",
    "version": 3
   },
   "file_extension": ".py",
   "mimetype": "text/x-python",
   "name": "python",
   "nbconvert_exporter": "python",
   "pygments_lexer": "ipython3",
   "version": "3.8.0"
  }
 },
 "nbformat": 4,
 "nbformat_minor": 5
}
