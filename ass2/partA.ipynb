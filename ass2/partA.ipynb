{
 "cells": [
  {
   "cell_type": "code",
   "execution_count": 2,
   "id": "6b4153d2",
   "metadata": {},
   "outputs": [],
   "source": [
    "import pandas as pd\n",
    "import numpy as np\n",
    "from simpletransformers.classification import ClassificationModel"
   ]
  },
  {
   "cell_type": "code",
   "execution_count": 1,
   "id": "3af98036",
   "metadata": {},
   "outputs": [
    {
     "data": {
      "text/plain": [
       "True"
      ]
     },
     "execution_count": 1,
     "metadata": {},
     "output_type": "execute_result"
    }
   ],
   "source": [
    "import torch\n",
    "torch.cuda.is_available()"
   ]
  },
  {
   "cell_type": "markdown",
   "id": "7e95d292",
   "metadata": {},
   "source": [
    "### Read in data"
   ]
  },
  {
   "cell_type": "code",
   "execution_count": 4,
   "id": "0edd8452",
   "metadata": {},
   "outputs": [],
   "source": [
    "train = pd.read_csv(\"data/olid-train.csv\")\n",
    "test = pd.read_csv(\"data/olid-test.csv\")\n",
    "diagnostics = pd.read_csv(\"data/olid-subset-diagnostic-tests.csv\")"
   ]
  },
  {
   "cell_type": "code",
   "execution_count": 5,
   "id": "4a3ca609",
   "metadata": {},
   "outputs": [
    {
     "data": {
      "text/html": [
       "<div>\n",
       "<style scoped>\n",
       "    .dataframe tbody tr th:only-of-type {\n",
       "        vertical-align: middle;\n",
       "    }\n",
       "\n",
       "    .dataframe tbody tr th {\n",
       "        vertical-align: top;\n",
       "    }\n",
       "\n",
       "    .dataframe thead th {\n",
       "        text-align: right;\n",
       "    }\n",
       "</style>\n",
       "<table border=\"1\" class=\"dataframe\">\n",
       "  <thead>\n",
       "    <tr style=\"text-align: right;\">\n",
       "      <th></th>\n",
       "      <th>id</th>\n",
       "      <th>text</th>\n",
       "      <th>labels</th>\n",
       "    </tr>\n",
       "  </thead>\n",
       "  <tbody>\n",
       "    <tr>\n",
       "      <th>0</th>\n",
       "      <td>86426</td>\n",
       "      <td>@USER She should ask a few native Americans wh...</td>\n",
       "      <td>1</td>\n",
       "    </tr>\n",
       "    <tr>\n",
       "      <th>1</th>\n",
       "      <td>90194</td>\n",
       "      <td>@USER @USER Go home you’re drunk!!! @USER #MAG...</td>\n",
       "      <td>1</td>\n",
       "    </tr>\n",
       "    <tr>\n",
       "      <th>2</th>\n",
       "      <td>16820</td>\n",
       "      <td>Amazon is investigating Chinese employees who ...</td>\n",
       "      <td>0</td>\n",
       "    </tr>\n",
       "    <tr>\n",
       "      <th>3</th>\n",
       "      <td>62688</td>\n",
       "      <td>@USER Someone should'veTaken\" this piece of sh...</td>\n",
       "      <td>1</td>\n",
       "    </tr>\n",
       "    <tr>\n",
       "      <th>4</th>\n",
       "      <td>43605</td>\n",
       "      <td>@USER @USER Obama wanted liberals &amp;amp; illega...</td>\n",
       "      <td>0</td>\n",
       "    </tr>\n",
       "  </tbody>\n",
       "</table>\n",
       "</div>"
      ],
      "text/plain": [
       "      id                                               text  labels\n",
       "0  86426  @USER She should ask a few native Americans wh...       1\n",
       "1  90194  @USER @USER Go home you’re drunk!!! @USER #MAG...       1\n",
       "2  16820  Amazon is investigating Chinese employees who ...       0\n",
       "3  62688  @USER Someone should'veTaken\" this piece of sh...       1\n",
       "4  43605  @USER @USER Obama wanted liberals &amp; illega...       0"
      ]
     },
     "execution_count": 5,
     "metadata": {},
     "output_type": "execute_result"
    }
   ],
   "source": [
    "train.head()"
   ]
  },
  {
   "cell_type": "markdown",
   "id": "ae28598e",
   "metadata": {},
   "source": [
    "#### Quest 1. Some basic statistics"
   ]
  },
  {
   "cell_type": "code",
   "execution_count": 6,
   "id": "842dd3ce",
   "metadata": {
    "scrolled": true
   },
   "outputs": [
    {
     "data": {
      "text/plain": [
       "4400"
      ]
     },
     "execution_count": 6,
     "metadata": {},
     "output_type": "execute_result"
    }
   ],
   "source": [
    "len(train.loc[train['labels'] == 1])"
   ]
  },
  {
   "cell_type": "code",
   "execution_count": 7,
   "id": "740a0bfd",
   "metadata": {},
   "outputs": [
    {
     "data": {
      "text/plain": [
       "0.3323262839879154"
      ]
     },
     "execution_count": 7,
     "metadata": {},
     "output_type": "execute_result"
    }
   ],
   "source": [
    "len(train.loc[train['labels'] == 1]) / len(train)"
   ]
  },
  {
   "cell_type": "code",
   "execution_count": 8,
   "id": "a648ec54",
   "metadata": {},
   "outputs": [
    {
     "data": {
      "text/plain": [
       "'@USER She should ask a few native Americans what their take on this is.'"
      ]
     },
     "execution_count": 8,
     "metadata": {},
     "output_type": "execute_result"
    }
   ],
   "source": [
    "train.loc[train['labels'] == 1]['text'][0]"
   ]
  },
  {
   "cell_type": "code",
   "execution_count": 9,
   "id": "4b7ff93e",
   "metadata": {},
   "outputs": [
    {
     "data": {
      "text/plain": [
       "8840"
      ]
     },
     "execution_count": 9,
     "metadata": {},
     "output_type": "execute_result"
    }
   ],
   "source": [
    "len(train.loc[train['labels'] == 0])"
   ]
  },
  {
   "cell_type": "code",
   "execution_count": 10,
   "id": "e89ef71c",
   "metadata": {},
   "outputs": [
    {
     "data": {
      "text/plain": [
       "0.6676737160120846"
      ]
     },
     "execution_count": 10,
     "metadata": {},
     "output_type": "execute_result"
    }
   ],
   "source": [
    "len(train.loc[train['labels'] == 0]) / len(train)"
   ]
  },
  {
   "cell_type": "code",
   "execution_count": 11,
   "id": "01d1fda7",
   "metadata": {
    "scrolled": true
   },
   "outputs": [
    {
     "data": {
      "text/plain": [
       "'Amazon is investigating Chinese employees who are selling internal data to third-party sellers looking for an edge in the competitive marketplace. URL #Amazon #MAGA #KAG #CHINA #TCOT'"
      ]
     },
     "execution_count": 11,
     "metadata": {},
     "output_type": "execute_result"
    }
   ],
   "source": [
    "train.loc[train['labels'] == 0]['text'][2]"
   ]
  },
  {
   "cell_type": "markdown",
   "id": "c18ef409",
   "metadata": {},
   "source": [
    "#### Quest 2. Baselines"
   ]
  },
  {
   "cell_type": "code",
   "execution_count": 12,
   "id": "932b611d",
   "metadata": {},
   "outputs": [],
   "source": [
    "from sklearn.metrics import (f1_score, recall_score, precision_score)"
   ]
  },
  {
   "cell_type": "code",
   "execution_count": 13,
   "id": "6abcc4b0",
   "metadata": {},
   "outputs": [],
   "source": [
    "# Random baseline\n",
    "rows = test.shape[0]"
   ]
  },
  {
   "cell_type": "code",
   "execution_count": 14,
   "id": "47036148",
   "metadata": {},
   "outputs": [],
   "source": [
    "predicts = np.random.randint(0,2, rows)\n",
    "gold = test['labels']"
   ]
  },
  {
   "cell_type": "code",
   "execution_count": 15,
   "id": "c6929061",
   "metadata": {},
   "outputs": [
    {
     "name": "stdout",
     "output_type": "stream",
     "text": [
      "0.4791666666666667\n",
      "0.2764423076923077\n",
      "0.350609756097561\n",
      "\n",
      "0.5145161290322581\n",
      "0.7184684684684685\n",
      "0.599624060150376\n",
      "\n",
      "0.49684139784946235\n",
      "0.4974553880803881\n",
      "0.47511690812396845\n",
      "\n",
      "0.5046511627906977\n",
      "0.5951123305774468\n",
      "0.5301316962286601\n"
     ]
    }
   ],
   "source": [
    "# class 1\n",
    "print(recall_score(gold, predicts, pos_label=1))\n",
    "print(precision_score(gold, predicts, pos_label=1))\n",
    "print(f1_score(gold, predicts, pos_label=1))\n",
    "\n",
    "\n",
    "# class 0\n",
    "print()\n",
    "print(recall_score(gold, predicts, pos_label=0))\n",
    "print(precision_score(gold, predicts, pos_label=0))\n",
    "print(f1_score(gold, predicts, pos_label=0))\n",
    "\n",
    "# macro average\n",
    "print()\n",
    "print(recall_score(gold, predicts, pos_label=1, average='macro'))\n",
    "print(precision_score(gold, predicts, pos_label=1, average='macro'))\n",
    "print(f1_score(gold, predicts, pos_label=1, average='macro'))\n",
    "\n",
    "\n",
    "# micro average\n",
    "print()\n",
    "print(recall_score(gold, predicts, pos_label=1, average='weighted'))\n",
    "print(precision_score(gold, predicts, pos_label=1, average='weighted'))\n",
    "print(f1_score(gold, predicts, pos_label=1, average='weighted'))"
   ]
  },
  {
   "cell_type": "code",
   "execution_count": 16,
   "id": "9c50c039",
   "metadata": {},
   "outputs": [],
   "source": [
    "## Majority\n",
    "predicts = np.zeros(rows)"
   ]
  },
  {
   "cell_type": "code",
   "execution_count": 17,
   "id": "410aef66",
   "metadata": {},
   "outputs": [
    {
     "name": "stdout",
     "output_type": "stream",
     "text": [
      "0.0\n",
      "0.0\n",
      "0.0\n",
      "\n",
      "1.0\n",
      "0.7209302325581395\n",
      "0.8378378378378378\n",
      "\n",
      "0.5\n",
      "0.36046511627906974\n",
      "0.4189189189189189\n",
      "\n",
      "0.7209302325581395\n",
      "0.519740400216333\n",
      "0.6040226272784412\n"
     ]
    },
    {
     "name": "stderr",
     "output_type": "stream",
     "text": [
      "C:\\Users\\JWant\\anaconda3\\envs\\tf2.4\\lib\\site-packages\\sklearn\\metrics\\_classification.py:1318: UndefinedMetricWarning: Precision is ill-defined and being set to 0.0 due to no predicted samples. Use `zero_division` parameter to control this behavior.\n",
      "  _warn_prf(average, modifier, msg_start, len(result))\n",
      "C:\\Users\\JWant\\anaconda3\\envs\\tf2.4\\lib\\site-packages\\sklearn\\metrics\\_classification.py:1318: UndefinedMetricWarning: Precision is ill-defined and being set to 0.0 in labels with no predicted samples. Use `zero_division` parameter to control this behavior.\n",
      "  _warn_prf(average, modifier, msg_start, len(result))\n",
      "C:\\Users\\JWant\\anaconda3\\envs\\tf2.4\\lib\\site-packages\\sklearn\\metrics\\_classification.py:1318: UndefinedMetricWarning: Precision is ill-defined and being set to 0.0 in labels with no predicted samples. Use `zero_division` parameter to control this behavior.\n",
      "  _warn_prf(average, modifier, msg_start, len(result))\n"
     ]
    }
   ],
   "source": [
    "# class 1\n",
    "print(recall_score(gold, predicts, pos_label=1))\n",
    "print(precision_score(gold, predicts, pos_label=1))\n",
    "print(f1_score(gold, predicts, pos_label=1))\n",
    "\n",
    "\n",
    "# class 0\n",
    "print()\n",
    "print(recall_score(gold, predicts, pos_label=0))\n",
    "print(precision_score(gold, predicts, pos_label=0))\n",
    "print(f1_score(gold, predicts, pos_label=0))\n",
    "\n",
    "# macro average\n",
    "print()\n",
    "print(recall_score(gold, predicts, pos_label=1, average='macro'))\n",
    "print(precision_score(gold, predicts, pos_label=1, average='macro'))\n",
    "print(f1_score(gold, predicts, pos_label=1, average='macro'))\n",
    "\n",
    "\n",
    "# micro average\n",
    "print()\n",
    "print(recall_score(gold, predicts, pos_label=1, average='weighted'))\n",
    "print(precision_score(gold, predicts, pos_label=1, average='weighted'))\n",
    "print(f1_score(gold, predicts, pos_label=1, average='weighted'))"
   ]
  },
  {
   "cell_type": "markdown",
   "id": "65c276dc",
   "metadata": {},
   "source": [
    "#### Quest 3. Fine-tuning BERT for hate speech detection"
   ]
  },
  {
   "cell_type": "code",
   "execution_count": 18,
   "id": "47fbe80b",
   "metadata": {},
   "outputs": [
    {
     "data": {
      "application/vnd.jupyter.widget-view+json": {
       "model_id": "b9bb38ca346e4cbba550824b86640200",
       "version_major": 2,
       "version_minor": 0
      },
      "text/plain": [
       "Downloading:   0%|          | 0.00/570 [00:00<?, ?B/s]"
      ]
     },
     "metadata": {},
     "output_type": "display_data"
    },
    {
     "data": {
      "application/vnd.jupyter.widget-view+json": {
       "model_id": "c2cd57e821eb423c8505824551b105e8",
       "version_major": 2,
       "version_minor": 0
      },
      "text/plain": [
       "Downloading:   0%|          | 0.00/416M [00:00<?, ?B/s]"
      ]
     },
     "metadata": {},
     "output_type": "display_data"
    },
    {
     "name": "stderr",
     "output_type": "stream",
     "text": [
      "Some weights of the model checkpoint at bert-base-cased were not used when initializing BertForSequenceClassification: ['cls.predictions.transform.LayerNorm.bias', 'cls.predictions.transform.dense.bias', 'cls.seq_relationship.weight', 'cls.predictions.transform.LayerNorm.weight', 'cls.predictions.decoder.weight', 'cls.predictions.bias', 'cls.predictions.transform.dense.weight', 'cls.seq_relationship.bias']\n",
      "- This IS expected if you are initializing BertForSequenceClassification from the checkpoint of a model trained on another task or with another architecture (e.g. initializing a BertForSequenceClassification model from a BertForPreTraining model).\n",
      "- This IS NOT expected if you are initializing BertForSequenceClassification from the checkpoint of a model that you expect to be exactly identical (initializing a BertForSequenceClassification model from a BertForSequenceClassification model).\n",
      "Some weights of BertForSequenceClassification were not initialized from the model checkpoint at bert-base-cased and are newly initialized: ['classifier.bias', 'classifier.weight']\n",
      "You should probably TRAIN this model on a down-stream task to be able to use it for predictions and inference.\n"
     ]
    },
    {
     "data": {
      "application/vnd.jupyter.widget-view+json": {
       "model_id": "3346fbe65fc143b9aff40444a44ae03a",
       "version_major": 2,
       "version_minor": 0
      },
      "text/plain": [
       "Downloading:   0%|          | 0.00/29.0 [00:00<?, ?B/s]"
      ]
     },
     "metadata": {},
     "output_type": "display_data"
    },
    {
     "data": {
      "application/vnd.jupyter.widget-view+json": {
       "model_id": "b8feabb72723414c94cbd78826427440",
       "version_major": 2,
       "version_minor": 0
      },
      "text/plain": [
       "Downloading:   0%|          | 0.00/208k [00:00<?, ?B/s]"
      ]
     },
     "metadata": {},
     "output_type": "display_data"
    },
    {
     "data": {
      "application/vnd.jupyter.widget-view+json": {
       "model_id": "338f76e439064c148075c931a1c60011",
       "version_major": 2,
       "version_minor": 0
      },
      "text/plain": [
       "Downloading:   0%|          | 0.00/426k [00:00<?, ?B/s]"
      ]
     },
     "metadata": {},
     "output_type": "display_data"
    }
   ],
   "source": [
    "model = ClassificationModel(\"bert\", \"bert-base-cased\", use_cuda=torch.cuda.is_available())"
   ]
  },
  {
   "cell_type": "code",
   "execution_count": 19,
   "id": "e9ef8a0a",
   "metadata": {},
   "outputs": [
    {
     "data": {
      "application/vnd.jupyter.widget-view+json": {
       "model_id": "8866dddc19e94e10a74909f06812415b",
       "version_major": 2,
       "version_minor": 0
      },
      "text/plain": [
       "  0%|          | 0/13240 [00:00<?, ?it/s]"
      ]
     },
     "metadata": {},
     "output_type": "display_data"
    },
    {
     "name": "stderr",
     "output_type": "stream",
     "text": [
      "C:\\Users\\JWant\\anaconda3\\envs\\tf2.4\\lib\\site-packages\\transformers\\optimization.py:306: FutureWarning: This implementation of AdamW is deprecated and will be removed in a future version. Use the PyTorch implementation torch.optim.AdamW instead, or set `no_deprecation_warning=True` to disable this warning\n",
      "  warnings.warn(\n"
     ]
    },
    {
     "data": {
      "application/vnd.jupyter.widget-view+json": {
       "model_id": "8995ce45f63b490fadd6719d7bb675ad",
       "version_major": 2,
       "version_minor": 0
      },
      "text/plain": [
       "Epoch:   0%|          | 0/1 [00:00<?, ?it/s]"
      ]
     },
     "metadata": {},
     "output_type": "display_data"
    },
    {
     "data": {
      "application/vnd.jupyter.widget-view+json": {
       "model_id": "2d59517116ea46d289f5cd04d4d8200d",
       "version_major": 2,
       "version_minor": 0
      },
      "text/plain": [
       "Running Epoch 0 of 1:   0%|          | 0/1655 [00:00<?, ?it/s]"
      ]
     },
     "metadata": {},
     "output_type": "display_data"
    },
    {
     "data": {
      "text/plain": [
       "(1655, 0.4937190058728359)"
      ]
     },
     "execution_count": 19,
     "metadata": {},
     "output_type": "execute_result"
    }
   ],
   "source": [
    "model.train_model(train)"
   ]
  },
  {
   "cell_type": "markdown",
   "id": "61ce161d",
   "metadata": {},
   "source": [
    "### Run from here if time is of value"
   ]
  },
  {
   "cell_type": "code",
   "execution_count": 34,
   "id": "daa26bbb",
   "metadata": {},
   "outputs": [],
   "source": [
    "import joblib\n",
    "joblib.dump(model, \"outputs/best_model.sav\")\n",
    "model = joblib.load(\"outputs/best_model.sav\")"
   ]
  },
  {
   "cell_type": "code",
   "execution_count": 36,
   "id": "2dadeadd",
   "metadata": {},
   "outputs": [
    {
     "data": {
      "text/html": [
       "<div>\n",
       "<style scoped>\n",
       "    .dataframe tbody tr th:only-of-type {\n",
       "        vertical-align: middle;\n",
       "    }\n",
       "\n",
       "    .dataframe tbody tr th {\n",
       "        vertical-align: top;\n",
       "    }\n",
       "\n",
       "    .dataframe thead th {\n",
       "        text-align: right;\n",
       "    }\n",
       "</style>\n",
       "<table border=\"1\" class=\"dataframe\">\n",
       "  <thead>\n",
       "    <tr style=\"text-align: right;\">\n",
       "      <th></th>\n",
       "      <th>id</th>\n",
       "      <th>text</th>\n",
       "      <th>labels</th>\n",
       "    </tr>\n",
       "  </thead>\n",
       "  <tbody>\n",
       "    <tr>\n",
       "      <th>0</th>\n",
       "      <td>15923</td>\n",
       "      <td>#WhoIsQ #WheresTheServer #DumpNike #DECLASFISA...</td>\n",
       "      <td>1</td>\n",
       "    </tr>\n",
       "    <tr>\n",
       "      <th>1</th>\n",
       "      <td>27014</td>\n",
       "      <td>#ConstitutionDay is revered by Conservatives, ...</td>\n",
       "      <td>0</td>\n",
       "    </tr>\n",
       "    <tr>\n",
       "      <th>2</th>\n",
       "      <td>30530</td>\n",
       "      <td>#FOXNews #NRA #MAGA #POTUS #TRUMP #2ndAmendmen...</td>\n",
       "      <td>0</td>\n",
       "    </tr>\n",
       "    <tr>\n",
       "      <th>3</th>\n",
       "      <td>13876</td>\n",
       "      <td>#Watching #Boomer getting the news that she is...</td>\n",
       "      <td>0</td>\n",
       "    </tr>\n",
       "    <tr>\n",
       "      <th>4</th>\n",
       "      <td>60133</td>\n",
       "      <td>#NoPasaran: Unity demo to oppose the far-right...</td>\n",
       "      <td>1</td>\n",
       "    </tr>\n",
       "  </tbody>\n",
       "</table>\n",
       "</div>"
      ],
      "text/plain": [
       "      id                                               text  labels\n",
       "0  15923  #WhoIsQ #WheresTheServer #DumpNike #DECLASFISA...       1\n",
       "1  27014  #ConstitutionDay is revered by Conservatives, ...       0\n",
       "2  30530  #FOXNews #NRA #MAGA #POTUS #TRUMP #2ndAmendmen...       0\n",
       "3  13876  #Watching #Boomer getting the news that she is...       0\n",
       "4  60133  #NoPasaran: Unity demo to oppose the far-right...       1"
      ]
     },
     "execution_count": 36,
     "metadata": {},
     "output_type": "execute_result"
    }
   ],
   "source": [
    "test.head()"
   ]
  },
  {
   "cell_type": "code",
   "execution_count": 39,
   "id": "d4667221",
   "metadata": {
    "scrolled": true
   },
   "outputs": [
    {
     "data": {
      "application/vnd.jupyter.widget-view+json": {
       "model_id": "48790092468945318f2b1984357cd90b",
       "version_major": 2,
       "version_minor": 0
      },
      "text/plain": [
       "  0%|          | 0/860 [00:00<?, ?it/s]"
      ]
     },
     "metadata": {},
     "output_type": "display_data"
    },
    {
     "data": {
      "application/vnd.jupyter.widget-view+json": {
       "model_id": "1785c5c8132842bc8844e3c191895beb",
       "version_major": 2,
       "version_minor": 0
      },
      "text/plain": [
       "  0%|          | 0/108 [00:00<?, ?it/s]"
      ]
     },
     "metadata": {},
     "output_type": "display_data"
    }
   ],
   "source": [
    "predicts = model.predict(test['text'].tolist())"
   ]
  },
  {
   "cell_type": "code",
   "execution_count": 40,
   "id": "f475715d",
   "metadata": {},
   "outputs": [],
   "source": [
    "gold = test['labels'].tolist()"
   ]
  },
  {
   "cell_type": "code",
   "execution_count": 43,
   "id": "75b58c57",
   "metadata": {},
   "outputs": [
    {
     "name": "stdout",
     "output_type": "stream",
     "text": [
      "0.6666666666666666\n",
      "0.7766990291262136\n",
      "0.7174887892376681\n",
      "\n",
      "0.9258064516129032\n",
      "0.8776758409785933\n",
      "0.901098901098901\n",
      "\n",
      "0.7962365591397849\n",
      "0.8271874350524034\n",
      "0.8092938451682845\n",
      "\n",
      "0.8534883720930233\n",
      "0.8494962655779293\n",
      "0.8498588698818128\n"
     ]
    }
   ],
   "source": [
    "predicts = predicts[0]\n",
    "# class 1\n",
    "print(recall_score(gold, predicts, pos_label=1))\n",
    "print(precision_score(gold, predicts, pos_label=1))\n",
    "print(f1_score(gold, predicts, pos_label=1))\n",
    "\n",
    "\n",
    "# class 0\n",
    "print()\n",
    "print(recall_score(gold, predicts, pos_label=0))\n",
    "print(precision_score(gold, predicts, pos_label=0))\n",
    "print(f1_score(gold, predicts, pos_label=0))\n",
    "\n",
    "# macro average\n",
    "print()\n",
    "print(recall_score(gold, predicts, pos_label=1, average='macro'))\n",
    "print(precision_score(gold, predicts, pos_label=1, average='macro'))\n",
    "print(f1_score(gold, predicts, pos_label=1, average='macro'))\n",
    "\n",
    "\n",
    "# micro average\n",
    "print()\n",
    "print(recall_score(gold, predicts, pos_label=1, average='weighted'))\n",
    "print(precision_score(gold, predicts, pos_label=1, average='weighted'))\n",
    "print(f1_score(gold, predicts, pos_label=1, average='weighted'))"
   ]
  },
  {
   "cell_type": "code",
   "execution_count": 44,
   "id": "ec4efcb8",
   "metadata": {},
   "outputs": [],
   "source": [
    "from sklearn.metrics import confusion_matrix"
   ]
  },
  {
   "cell_type": "code",
   "execution_count": 48,
   "id": "f278e4d9",
   "metadata": {},
   "outputs": [
    {
     "data": {
      "text/plain": [
       "array([[574,  46],\n",
       "       [ 80, 160]], dtype=int64)"
      ]
     },
     "execution_count": 48,
     "metadata": {},
     "output_type": "execute_result"
    }
   ],
   "source": [
    "confusion_matrix(  gold, predicts)"
   ]
  },
  {
   "cell_type": "code",
   "execution_count": null,
   "id": "bbc7d096",
   "metadata": {},
   "outputs": [],
   "source": []
  }
 ],
 "metadata": {
  "kernelspec": {
   "display_name": "Python 3 (ipykernel)",
   "language": "python",
   "name": "python3"
  },
  "language_info": {
   "codemirror_mode": {
    "name": "ipython",
    "version": 3
   },
   "file_extension": ".py",
   "mimetype": "text/x-python",
   "name": "python",
   "nbconvert_exporter": "python",
   "pygments_lexer": "ipython3",
   "version": "3.8.0"
  }
 },
 "nbformat": 4,
 "nbformat_minor": 5
}
